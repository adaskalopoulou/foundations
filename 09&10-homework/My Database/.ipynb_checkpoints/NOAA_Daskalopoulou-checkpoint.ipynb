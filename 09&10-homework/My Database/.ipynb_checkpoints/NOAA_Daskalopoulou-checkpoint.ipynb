{
 "cells": [
  {
   "cell_type": "markdown",
   "metadata": {},
   "source": [
    "# 1. Where did the dataset come from?"
   ]
  },
  {
   "cell_type": "markdown",
   "metadata": {},
   "source": [
    "From NOAA's (National Oceanic and Atmospheric Administration) National Centers for Environmental Information\n",
    "https://www.ncdc.noaa.gov/\n",
    "https://www.ncdc.noaa.gov/stormevents/ftp.jsp"
   ]
  },
  {
   "cell_type": "markdown",
   "metadata": {},
   "source": [
    "# 2. If I had questions about this dataset, who would I ask?\n"
   ]
  },
  {
   "cell_type": "markdown",
   "metadata": {},
   "source": [
    "I would contact NCDC at: ncdc.orders@noaa.gov\n",
    "or depending on my questions I would refer to the following web page for additional contact information: http://www.ncdc.noaa.gov/customer-support"
   ]
  },
  {
   "cell_type": "markdown",
   "metadata": {},
   "source": [
    "# 3. Open the dataset using pandas.\n"
   ]
  },
  {
   "cell_type": "code",
   "execution_count": 2,
   "metadata": {},
   "outputs": [
    {
     "data": {
      "text/html": [
       "<div>\n",
       "<style>\n",
       "    .dataframe thead tr:only-child th {\n",
       "        text-align: right;\n",
       "    }\n",
       "\n",
       "    .dataframe thead th {\n",
       "        text-align: left;\n",
       "    }\n",
       "\n",
       "    .dataframe tbody tr th {\n",
       "        vertical-align: top;\n",
       "    }\n",
       "</style>\n",
       "<table border=\"1\" class=\"dataframe\">\n",
       "  <thead>\n",
       "    <tr style=\"text-align: right;\">\n",
       "      <th></th>\n",
       "      <th>BEGIN_YEARMONTH</th>\n",
       "      <th>BEGIN_DAY</th>\n",
       "      <th>BEGIN_TIME</th>\n",
       "      <th>END_YEARMONTH</th>\n",
       "      <th>END_DAY</th>\n",
       "      <th>END_TIME</th>\n",
       "      <th>EPISODE_ID</th>\n",
       "      <th>EVENT_ID</th>\n",
       "      <th>STATE</th>\n",
       "      <th>STATE_FIPS</th>\n",
       "      <th>...</th>\n",
       "      <th>END_RANGE</th>\n",
       "      <th>END_AZIMUTH</th>\n",
       "      <th>END_LOCATION</th>\n",
       "      <th>BEGIN_LAT</th>\n",
       "      <th>BEGIN_LON</th>\n",
       "      <th>END_LAT</th>\n",
       "      <th>END_LON</th>\n",
       "      <th>EPISODE_NARRATIVE</th>\n",
       "      <th>EVENT_NARRATIVE</th>\n",
       "      <th>DATA_SOURCE</th>\n",
       "    </tr>\n",
       "  </thead>\n",
       "  <tbody>\n",
       "    <tr>\n",
       "      <th>0</th>\n",
       "      <td>201703</td>\n",
       "      <td>1</td>\n",
       "      <td>905</td>\n",
       "      <td>201703</td>\n",
       "      <td>1</td>\n",
       "      <td>905</td>\n",
       "      <td>112769</td>\n",
       "      <td>673610</td>\n",
       "      <td>KENTUCKY</td>\n",
       "      <td>21</td>\n",
       "      <td>...</td>\n",
       "      <td>1.0</td>\n",
       "      <td>S</td>\n",
       "      <td>WEST LIBERTY</td>\n",
       "      <td>37.91</td>\n",
       "      <td>-83.27</td>\n",
       "      <td>37.91</td>\n",
       "      <td>-83.27</td>\n",
       "      <td>The first severe weather outbreak of 2017 stru...</td>\n",
       "      <td>Trees were blown down.</td>\n",
       "      <td>CSV</td>\n",
       "    </tr>\n",
       "    <tr>\n",
       "      <th>1</th>\n",
       "      <td>201703</td>\n",
       "      <td>1</td>\n",
       "      <td>920</td>\n",
       "      <td>201703</td>\n",
       "      <td>1</td>\n",
       "      <td>920</td>\n",
       "      <td>112769</td>\n",
       "      <td>673624</td>\n",
       "      <td>KENTUCKY</td>\n",
       "      <td>21</td>\n",
       "      <td>...</td>\n",
       "      <td>2.0</td>\n",
       "      <td>NE</td>\n",
       "      <td>GUAGE</td>\n",
       "      <td>37.62</td>\n",
       "      <td>-83.17</td>\n",
       "      <td>37.62</td>\n",
       "      <td>-83.17</td>\n",
       "      <td>The first severe weather outbreak of 2017 stru...</td>\n",
       "      <td>Two trees and numerous large limbs were blown ...</td>\n",
       "      <td>CSV</td>\n",
       "    </tr>\n",
       "  </tbody>\n",
       "</table>\n",
       "<p>2 rows × 51 columns</p>\n",
       "</div>"
      ],
      "text/plain": [
       "   BEGIN_YEARMONTH  BEGIN_DAY  BEGIN_TIME  END_YEARMONTH  END_DAY  END_TIME  \\\n",
       "0           201703          1         905         201703        1       905   \n",
       "1           201703          1         920         201703        1       920   \n",
       "\n",
       "   EPISODE_ID  EVENT_ID     STATE  STATE_FIPS     ...      END_RANGE  \\\n",
       "0      112769    673610  KENTUCKY          21     ...            1.0   \n",
       "1      112769    673624  KENTUCKY          21     ...            2.0   \n",
       "\n",
       "  END_AZIMUTH  END_LOCATION BEGIN_LAT  BEGIN_LON END_LAT END_LON  \\\n",
       "0           S  WEST LIBERTY     37.91     -83.27   37.91  -83.27   \n",
       "1          NE         GUAGE     37.62     -83.17   37.62  -83.17   \n",
       "\n",
       "                                   EPISODE_NARRATIVE  \\\n",
       "0  The first severe weather outbreak of 2017 stru...   \n",
       "1  The first severe weather outbreak of 2017 stru...   \n",
       "\n",
       "                                     EVENT_NARRATIVE DATA_SOURCE  \n",
       "0                             Trees were blown down.         CSV  \n",
       "1  Two trees and numerous large limbs were blown ...         CSV  \n",
       "\n",
       "[2 rows x 51 columns]"
      ]
     },
     "execution_count": 2,
     "metadata": {},
     "output_type": "execute_result"
    }
   ],
   "source": [
    "import pandas as pd \n",
    "\n",
    "df = pd.read_csv(\"StormEvents_details-2017.csv\")\n",
    "df.head(2)"
   ]
  },
  {
   "cell_type": "markdown",
   "metadata": {},
   "source": [
    "# 4. How many columns and rows does it have?\n"
   ]
  },
  {
   "cell_type": "code",
   "execution_count": 3,
   "metadata": {},
   "outputs": [
    {
     "data": {
      "text/plain": [
       "(15619, 51)"
      ]
     },
     "execution_count": 3,
     "metadata": {},
     "output_type": "execute_result"
    }
   ],
   "source": [
    "df.shape"
   ]
  },
  {
   "cell_type": "markdown",
   "metadata": {},
   "source": [
    "# 5. What are the data types of each column?\n"
   ]
  },
  {
   "cell_type": "code",
   "execution_count": 4,
   "metadata": {},
   "outputs": [
    {
     "data": {
      "text/plain": [
       "BEGIN_YEARMONTH         int64\n",
       "BEGIN_DAY               int64\n",
       "BEGIN_TIME              int64\n",
       "END_YEARMONTH           int64\n",
       "END_DAY                 int64\n",
       "END_TIME                int64\n",
       "EPISODE_ID              int64\n",
       "EVENT_ID                int64\n",
       "STATE                  object\n",
       "STATE_FIPS              int64\n",
       "YEAR                    int64\n",
       "MONTH_NAME             object\n",
       "EVENT_TYPE             object\n",
       "CZ_TYPE                object\n",
       "CZ_FIPS                 int64\n",
       "CZ_NAME                object\n",
       "WFO                    object\n",
       "BEGIN_DATE_TIME        object\n",
       "CZ_TIMEZONE            object\n",
       "END_DATE_TIME          object\n",
       "INJURIES_DIRECT         int64\n",
       "INJURIES_INDIRECT       int64\n",
       "DEATHS_DIRECT           int64\n",
       "DEATHS_INDIRECT         int64\n",
       "DAMAGE_PROPERTY        object\n",
       "DAMAGE_CROPS           object\n",
       "SOURCE                 object\n",
       "MAGNITUDE             float64\n",
       "MAGNITUDE_TYPE         object\n",
       "FLOOD_CAUSE            object\n",
       "CATEGORY              float64\n",
       "TOR_F_SCALE            object\n",
       "TOR_LENGTH            float64\n",
       "TOR_WIDTH             float64\n",
       "TOR_OTHER_WFO          object\n",
       "TOR_OTHER_CZ_STATE     object\n",
       "TOR_OTHER_CZ_FIPS     float64\n",
       "TOR_OTHER_CZ_NAME      object\n",
       "BEGIN_RANGE           float64\n",
       "BEGIN_AZIMUTH          object\n",
       "BEGIN_LOCATION         object\n",
       "END_RANGE             float64\n",
       "END_AZIMUTH            object\n",
       "END_LOCATION           object\n",
       "BEGIN_LAT             float64\n",
       "BEGIN_LON             float64\n",
       "END_LAT               float64\n",
       "END_LON               float64\n",
       "EPISODE_NARRATIVE      object\n",
       "EVENT_NARRATIVE        object\n",
       "DATA_SOURCE            object\n",
       "dtype: object"
      ]
     },
     "execution_count": 4,
     "metadata": {},
     "output_type": "execute_result"
    }
   ],
   "source": [
    "df.dtypes"
   ]
  },
  {
   "cell_type": "markdown",
   "metadata": {},
   "source": [
    "# 6. Tell me what four of the columns mean, and state whether you made up the definitions or used a data dictionary.\n"
   ]
  },
  {
   "cell_type": "markdown",
   "metadata": {},
   "source": [
    "EVENT_ID: (Primary database key field) ID assigned by NWS to note a single, small part that goes into a specific storm episode; links the storm episode between the three files downloaded from SPC’s website.\n",
    "(VS --> EPISODE_ID: ID assigned by NWS to denote the storm episode; links the event details file with the information within location file.)\n",
    "\n",
    "EVENT_TYPE: Ex: Hail, Thunderstorm Wind, Snow, Ice (spelled out; not abbreviated) The only events permitted in Storm Data are listed here http://www.nws.noaa.gov/directives/sym/pd01016005curr.pdf. The chosen event name should be the one that most accurately describes the meteorological event leading to fatalities, injuries, damage, etc. However, significant events, such as tornadoes, having no impact or causing no damage, should also be included in Storm Data.\n",
    "\n",
    "SOURCE: Ex: Public, Newspaper, Law Enforcement, Broadcast Media, ASOS, Park and Forest Service, Trained Spotter, CoCoRaHS,  etc.  (can be any entry; isn’t restricted in what’s allowed)\n",
    "Source reporting the weather event. \n",
    "\n",
    "EPISODE_NARRATIVE:(The episode narrative depicting the general nature and overall activity of the episode.  The narrative is created by NWS.)  Ex: A strong upper level system over the southern Rockies lifted northeast across the plains causing an intense surface low pressure system and attendant warm front to lift into Nebraska.\n",
    "\n",
    "I used the data documentation found in \"Storm Data Export Format, docx file\""
   ]
  },
  {
   "cell_type": "markdown",
   "metadata": {},
   "source": [
    "# 7. Write five questions you could ask the data. A simple way to ask decent questions is comparing a measurement across two subgroups. For example, \"how do points scored in basketball in the 1950's compare to the 1990's,\" \"how often do women punch walls vs. men punch walls?\"\n"
   ]
  },
  {
   "cell_type": "markdown",
   "metadata": {},
   "source": [
    "a.What is the state with the most EVENTs?\n",
    "\n",
    "b.What is the most common event_type in this state?\n",
    "\n",
    "c.From the narration find the word??\n",
    "\n",
    "d.How many fatalities? (Here I will have to join with another dataset)\n",
    "\n",
    "e.What is the most common source of reporting a weather event in 2017?\n"
   ]
  },
  {
   "cell_type": "markdown",
   "metadata": {},
   "source": [
    "# 8. Try to ask the data those five questions.\n"
   ]
  },
  {
   "cell_type": "markdown",
   "metadata": {},
   "source": [
    "## a.What is the state with the most EVENTs?\n"
   ]
  },
  {
   "cell_type": "code",
   "execution_count": 5,
   "metadata": {},
   "outputs": [
    {
     "data": {
      "text/plain": [
       "CALIFORNIA    1168\n",
       "Name: STATE, dtype: int64"
      ]
     },
     "execution_count": 5,
     "metadata": {},
     "output_type": "execute_result"
    }
   ],
   "source": [
    "df['STATE'].value_counts().head(1)"
   ]
  },
  {
   "cell_type": "markdown",
   "metadata": {},
   "source": [
    "## b.What is the most common event_type in this state?\n"
   ]
  },
  {
   "cell_type": "code",
   "execution_count": 6,
   "metadata": {},
   "outputs": [
    {
     "data": {
      "text/plain": [
       "Flood    339\n",
       "Name: EVENT_TYPE, dtype: int64"
      ]
     },
     "execution_count": 6,
     "metadata": {},
     "output_type": "execute_result"
    }
   ],
   "source": [
    "df_cal = df.loc[df.STATE == 'CALIFORNIA']\n",
    "df_cal['EVENT_TYPE'].value_counts().head(1)"
   ]
  },
  {
   "cell_type": "code",
   "execution_count": 7,
   "metadata": {},
   "outputs": [],
   "source": [
    "df_cal_flood = df_cal.loc[df_cal.EVENT_TYPE == 'Flood']\n",
    "df_cal_flood.to_csv('CA_Floods_2017.csv', index=False)"
   ]
  },
  {
   "cell_type": "markdown",
   "metadata": {},
   "source": [
    "## c.Are the floods related to high atmospheric pressure or low atmospheric pressure?\n"
   ]
  },
  {
   "cell_type": "code",
   "execution_count": 8,
   "metadata": {
    "scrolled": false
   },
   "outputs": [
    {
     "name": "stderr",
     "output_type": "stream",
     "text": [
      "/usr/local/lib/python3.6/site-packages/ipykernel_launcher.py:1: FutureWarning: currently extract(expand=None) means expand=False (return Index/Series/DataFrame) but in a future version of pandas this will be changed to expand=True (return DataFrame)\n",
      "  \"\"\"Entry point for launching an IPython kernel.\n",
      "/usr/local/lib/python3.6/site-packages/pandas/core/indexing.py:337: SettingWithCopyWarning: \n",
      "A value is trying to be set on a copy of a slice from a DataFrame.\n",
      "Try using .loc[row_indexer,col_indexer] = value instead\n",
      "\n",
      "See the caveats in the documentation: http://pandas.pydata.org/pandas-docs/stable/indexing.html#indexing-view-versus-copy\n",
      "  self.obj[key] = _infer_fill_value(value)\n",
      "/usr/local/lib/python3.6/site-packages/pandas/core/indexing.py:517: SettingWithCopyWarning: \n",
      "A value is trying to be set on a copy of a slice from a DataFrame.\n",
      "Try using .loc[row_indexer,col_indexer] = value instead\n",
      "\n",
      "See the caveats in the documentation: http://pandas.pydata.org/pandas-docs/stable/indexing.html#indexing-view-versus-copy\n",
      "  self.obj[item] = s\n",
      "/usr/local/lib/python3.6/site-packages/ipykernel_launcher.py:2: FutureWarning: currently extract(expand=None) means expand=False (return Index/Series/DataFrame) but in a future version of pandas this will be changed to expand=True (return DataFrame)\n",
      "  \n"
     ]
    },
    {
     "data": {
      "text/plain": [
       "low    51\n",
       "Name: PRESSURE, dtype: int64"
      ]
     },
     "execution_count": 8,
     "metadata": {},
     "output_type": "execute_result"
    }
   ],
   "source": [
    "df_cal_flood.loc[df_cal_flood.EPISODE_NARRATIVE.notnull(), 'PRESSURE'] = df_cal_flood.EPISODE_NARRATIVE.str.extract(r\"(\\bhigh\\b) \\bpressure\\b\")\n",
    "df_cal_flood.loc[df_cal_flood.EPISODE_NARRATIVE.notnull(), 'PRESSURE'] = df_cal_flood.EPISODE_NARRATIVE.str.extract(r\"(\\blow\\b) \\bpressure\\b\")\n",
    "df_cal_flood['PRESSURE'].value_counts()"
   ]
  },
  {
   "cell_type": "markdown",
   "metadata": {},
   "source": [
    "## d.How many fatalities were caused by floods in California in 2017? \n"
   ]
  },
  {
   "cell_type": "code",
   "execution_count": 9,
   "metadata": {
    "scrolled": true
   },
   "outputs": [
    {
     "data": {
      "text/html": [
       "<div>\n",
       "<style>\n",
       "    .dataframe thead tr:only-child th {\n",
       "        text-align: right;\n",
       "    }\n",
       "\n",
       "    .dataframe thead th {\n",
       "        text-align: left;\n",
       "    }\n",
       "\n",
       "    .dataframe tbody tr th {\n",
       "        vertical-align: top;\n",
       "    }\n",
       "</style>\n",
       "<table border=\"1\" class=\"dataframe\">\n",
       "  <thead>\n",
       "    <tr style=\"text-align: right;\">\n",
       "      <th></th>\n",
       "      <th>FAT_YEARMONTH</th>\n",
       "      <th>FAT_DAY</th>\n",
       "      <th>FAT_TIME</th>\n",
       "      <th>FATALITY_ID</th>\n",
       "      <th>EVENT_ID</th>\n",
       "      <th>FATALITY_TYPE</th>\n",
       "      <th>FATALITY_DATE</th>\n",
       "      <th>FATALITY_AGE</th>\n",
       "      <th>FATALITY_SEX</th>\n",
       "      <th>FATALITY_LOCATION</th>\n",
       "      <th>EVENT_YEARMONTH</th>\n",
       "    </tr>\n",
       "  </thead>\n",
       "  <tbody>\n",
       "    <tr>\n",
       "      <th>0</th>\n",
       "      <td>201702</td>\n",
       "      <td>8</td>\n",
       "      <td>0</td>\n",
       "      <td>32955</td>\n",
       "      <td>665863</td>\n",
       "      <td>D</td>\n",
       "      <td>02/08/2017 00:00:00</td>\n",
       "      <td>69.0</td>\n",
       "      <td>F</td>\n",
       "      <td>Permanent Home</td>\n",
       "      <td>201611</td>\n",
       "    </tr>\n",
       "    <tr>\n",
       "      <th>1</th>\n",
       "      <td>201701</td>\n",
       "      <td>2</td>\n",
       "      <td>0</td>\n",
       "      <td>33036</td>\n",
       "      <td>675835</td>\n",
       "      <td>D</td>\n",
       "      <td>01/02/2017 00:00:00</td>\n",
       "      <td>23.0</td>\n",
       "      <td>F</td>\n",
       "      <td>Outside/Open Areas</td>\n",
       "      <td>201701</td>\n",
       "    </tr>\n",
       "  </tbody>\n",
       "</table>\n",
       "</div>"
      ],
      "text/plain": [
       "   FAT_YEARMONTH  FAT_DAY  FAT_TIME  FATALITY_ID  EVENT_ID FATALITY_TYPE  \\\n",
       "0         201702        8         0        32955    665863             D   \n",
       "1         201701        2         0        33036    675835             D   \n",
       "\n",
       "         FATALITY_DATE  FATALITY_AGE FATALITY_SEX   FATALITY_LOCATION  \\\n",
       "0  02/08/2017 00:00:00          69.0            F      Permanent Home   \n",
       "1  01/02/2017 00:00:00          23.0            F  Outside/Open Areas   \n",
       "\n",
       "   EVENT_YEARMONTH  \n",
       "0           201611  \n",
       "1           201701  "
      ]
     },
     "execution_count": 9,
     "metadata": {},
     "output_type": "execute_result"
    }
   ],
   "source": [
    "df2 = pd.read_csv(\"StormEvents_fatalities-2017.csv\")\n",
    "df2.head(2)"
   ]
  },
  {
   "cell_type": "code",
   "execution_count": 10,
   "metadata": {},
   "outputs": [
    {
     "data": {
      "text/html": [
       "<div>\n",
       "<style>\n",
       "    .dataframe thead tr:only-child th {\n",
       "        text-align: right;\n",
       "    }\n",
       "\n",
       "    .dataframe thead th {\n",
       "        text-align: left;\n",
       "    }\n",
       "\n",
       "    .dataframe tbody tr th {\n",
       "        vertical-align: top;\n",
       "    }\n",
       "</style>\n",
       "<table border=\"1\" class=\"dataframe\">\n",
       "  <thead>\n",
       "    <tr style=\"text-align: right;\">\n",
       "      <th></th>\n",
       "      <th>BEGIN_YEARMONTH</th>\n",
       "      <th>BEGIN_DAY</th>\n",
       "      <th>BEGIN_TIME</th>\n",
       "      <th>END_YEARMONTH</th>\n",
       "      <th>END_DAY</th>\n",
       "      <th>END_TIME</th>\n",
       "      <th>EPISODE_ID</th>\n",
       "      <th>EVENT_ID</th>\n",
       "      <th>STATE</th>\n",
       "      <th>STATE_FIPS</th>\n",
       "      <th>...</th>\n",
       "      <th>FAT_YEARMONTH</th>\n",
       "      <th>FAT_DAY</th>\n",
       "      <th>FAT_TIME</th>\n",
       "      <th>FATALITY_ID</th>\n",
       "      <th>FATALITY_TYPE</th>\n",
       "      <th>FATALITY_DATE</th>\n",
       "      <th>FATALITY_AGE</th>\n",
       "      <th>FATALITY_SEX</th>\n",
       "      <th>FATALITY_LOCATION</th>\n",
       "      <th>EVENT_YEARMONTH</th>\n",
       "    </tr>\n",
       "  </thead>\n",
       "  <tbody>\n",
       "    <tr>\n",
       "      <th>0</th>\n",
       "      <td>201702</td>\n",
       "      <td>17</td>\n",
       "      <td>700</td>\n",
       "      <td>201702</td>\n",
       "      <td>17</td>\n",
       "      <td>905</td>\n",
       "      <td>113902</td>\n",
       "      <td>682200</td>\n",
       "      <td>CALIFORNIA</td>\n",
       "      <td>6</td>\n",
       "      <td>...</td>\n",
       "      <td>201702</td>\n",
       "      <td>18</td>\n",
       "      <td>0</td>\n",
       "      <td>33179</td>\n",
       "      <td>D</td>\n",
       "      <td>02/18/2017 00:00:00</td>\n",
       "      <td>45.0</td>\n",
       "      <td>F</td>\n",
       "      <td>Vehicle/Towed Trailer</td>\n",
       "      <td>201702</td>\n",
       "    </tr>\n",
       "    <tr>\n",
       "      <th>1</th>\n",
       "      <td>201702</td>\n",
       "      <td>17</td>\n",
       "      <td>0</td>\n",
       "      <td>201702</td>\n",
       "      <td>17</td>\n",
       "      <td>1139</td>\n",
       "      <td>113902</td>\n",
       "      <td>682199</td>\n",
       "      <td>CALIFORNIA</td>\n",
       "      <td>6</td>\n",
       "      <td>...</td>\n",
       "      <td>201702</td>\n",
       "      <td>17</td>\n",
       "      <td>0</td>\n",
       "      <td>33170</td>\n",
       "      <td>I</td>\n",
       "      <td>02/17/2017 00:00:00</td>\n",
       "      <td>35.0</td>\n",
       "      <td>M</td>\n",
       "      <td>In Water</td>\n",
       "      <td>201702</td>\n",
       "    </tr>\n",
       "  </tbody>\n",
       "</table>\n",
       "<p>2 rows × 62 columns</p>\n",
       "</div>"
      ],
      "text/plain": [
       "   BEGIN_YEARMONTH  BEGIN_DAY  BEGIN_TIME  END_YEARMONTH  END_DAY  END_TIME  \\\n",
       "0           201702         17         700         201702       17       905   \n",
       "1           201702         17           0         201702       17      1139   \n",
       "\n",
       "   EPISODE_ID  EVENT_ID       STATE  STATE_FIPS       ...        \\\n",
       "0      113902    682200  CALIFORNIA           6       ...         \n",
       "1      113902    682199  CALIFORNIA           6       ...         \n",
       "\n",
       "   FAT_YEARMONTH FAT_DAY FAT_TIME FATALITY_ID  FATALITY_TYPE  \\\n",
       "0         201702      18        0       33179              D   \n",
       "1         201702      17        0       33170              I   \n",
       "\n",
       "         FATALITY_DATE FATALITY_AGE FATALITY_SEX      FATALITY_LOCATION  \\\n",
       "0  02/18/2017 00:00:00         45.0            F  Vehicle/Towed Trailer   \n",
       "1  02/17/2017 00:00:00         35.0            M               In Water   \n",
       "\n",
       "  EVENT_YEARMONTH  \n",
       "0          201702  \n",
       "1          201702  \n",
       "\n",
       "[2 rows x 62 columns]"
      ]
     },
     "execution_count": 10,
     "metadata": {},
     "output_type": "execute_result"
    }
   ],
   "source": [
    "df3 = df_cal_flood.merge(df2, left_on='EVENT_ID', right_on='EVENT_ID')\n",
    "df3.head(10)"
   ]
  },
  {
   "cell_type": "code",
   "execution_count": 11,
   "metadata": {},
   "outputs": [
    {
     "data": {
      "text/plain": [
       "2"
      ]
     },
     "execution_count": 11,
     "metadata": {},
     "output_type": "execute_result"
    }
   ],
   "source": [
    "df3['FATALITY_ID'].count()"
   ]
  },
  {
   "cell_type": "markdown",
   "metadata": {},
   "source": [
    "## e.What are the five most common sources of reporting a weather event in 2017?\n"
   ]
  },
  {
   "cell_type": "code",
   "execution_count": 12,
   "metadata": {},
   "outputs": [
    {
     "data": {
      "text/plain": [
       "Trained Spotter      2832\n",
       "Public               1805\n",
       "Emergency Manager    1294\n",
       "Law Enforcement      1218\n",
       "Mesonet               893\n",
       "Name: SOURCE, dtype: int64"
      ]
     },
     "execution_count": 12,
     "metadata": {},
     "output_type": "execute_result"
    }
   ],
   "source": [
    "df['SOURCE'].value_counts().head()"
   ]
  }
 ],
 "metadata": {
  "kernelspec": {
   "display_name": "Python 3",
   "language": "python",
   "name": "python3"
  },
  "language_info": {
   "codemirror_mode": {
    "name": "ipython",
    "version": 3
   },
   "file_extension": ".py",
   "mimetype": "text/x-python",
   "name": "python",
   "nbconvert_exporter": "python",
   "pygments_lexer": "ipython3",
   "version": "3.6.1"
  }
 },
 "nbformat": 4,
 "nbformat_minor": 2
}
