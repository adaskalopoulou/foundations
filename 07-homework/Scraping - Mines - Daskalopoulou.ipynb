{
 "cells": [
  {
   "cell_type": "markdown",
   "metadata": {},
   "source": [
    "# Mine Safety\n",
    "\n",
    "We're interested in [US mine safety](https://arlweb.msha.gov/drs/drshome.htm#MID), thank goodness we can search for these things."
   ]
  },
  {
   "cell_type": "markdown",
   "metadata": {},
   "source": [
    "## Preparation: Knowing your tags\n",
    "\n",
    "These questions are the same for every data set, and might not work exactly for yours.\n",
    "\n",
    "**Search for every operator with 'dirt' in their name, including abandoned mines.**"
   ]
  },
  {
   "cell_type": "code",
   "execution_count": 1,
   "metadata": {
    "collapsed": true
   },
   "outputs": [],
   "source": [
    "from bs4 import BeautifulSoup\n",
    "import requests"
   ]
  },
  {
   "cell_type": "code",
   "execution_count": 2,
   "metadata": {
    "collapsed": true
   },
   "outputs": [],
   "source": [
    "data = {\n",
    "    'OperSearch':'dirt',\n",
    "    'MineName':'',\n",
    "    'StateSearch':'None',\n",
    "    'CM':'All',\n",
    "    'x':'36',\n",
    "    'y':'4',\n",
    "    'MC':'Opersearch'\n",
    "}\n",
    "\n",
    "headers = {\n",
    "    'Referer':'https://arlweb.msha.gov/drs/ASP/OprNameStatesearch.asp',\n",
    "    'User-Agent':'Mozilla/5.0 (Macintosh; Intel Mac OS X 10_11_6) AppleWebKit/537.36 (KHTML, like Gecko) Chrome/58.0.3029.110 Safari/537.36'\n",
    "}\n"
   ]
  },
  {
   "cell_type": "code",
   "execution_count": 3,
   "metadata": {
    "collapsed": true
   },
   "outputs": [],
   "source": [
    "response = requests.post(\"https://arlweb.msha.gov/drs/ASP/OprNameStatesearch.asp\", data=data, headers=headers)\n",
    "doc = BeautifulSoup(response.text, 'html.parser')"
   ]
  },
  {
   "cell_type": "markdown",
   "metadata": {},
   "source": [
    "### What is the tag and class name for every row of data?"
   ]
  },
  {
   "cell_type": "markdown",
   "metadata": {
    "collapsed": true
   },
   "source": [
    "The tag is 'tr' and there is no class"
   ]
  },
  {
   "cell_type": "markdown",
   "metadata": {},
   "source": [
    "### What is the tag and class name for every mine operator's name?"
   ]
  },
  {
   "cell_type": "markdown",
   "metadata": {
    "collapsed": true
   },
   "source": [
    "The tag is 'td' and there is no class. But there is a DNT (?)"
   ]
  },
  {
   "cell_type": "markdown",
   "metadata": {},
   "source": [
    "### What is the tag and class name for every mine's name?"
   ]
  },
  {
   "cell_type": "markdown",
   "metadata": {
    "collapsed": true
   },
   "source": [
    "The tag is 'td' and there is no class. But there is a DNT (?)"
   ]
  },
  {
   "cell_type": "markdown",
   "metadata": {},
   "source": [
    "### What is the tag and class name for every mine operator's name?"
   ]
  },
  {
   "cell_type": "markdown",
   "metadata": {
    "collapsed": true
   },
   "source": [
    "The tag is 'td' and there is no class. But there is a DNT (?)"
   ]
  },
  {
   "cell_type": "markdown",
   "metadata": {},
   "source": [
    "### What is the tag and class name for every mine operator's name?"
   ]
  },
  {
   "cell_type": "markdown",
   "metadata": {
    "collapsed": true
   },
   "source": [
    "The tag is 'td' and there is no class. But there is a DNT (?)"
   ]
  },
  {
   "cell_type": "markdown",
   "metadata": {},
   "source": [
    "## Being lazy\n",
    "\n",
    "If you only needed these results, what would you do instead of scraping them?"
   ]
  },
  {
   "cell_type": "markdown",
   "metadata": {
    "collapsed": true
   },
   "source": [
    "Create in a csv file"
   ]
  },
  {
   "cell_type": "markdown",
   "metadata": {},
   "source": [
    "## Setup: Import what you'll need to scrape the page\n",
    "\n",
    "Use `requests`, not `urllib`."
   ]
  },
  {
   "cell_type": "markdown",
   "metadata": {
    "collapsed": true
   },
   "source": [
    "oups, I've already done that"
   ]
  },
  {
   "cell_type": "markdown",
   "metadata": {},
   "source": [
    "## Try to scrape the page\n",
    "\n",
    "To test if you requested the page correctly, save the BeautifulSoup document as `doc` and run the code `doc.find_all('tr')[-1].text` to get the text of the last `<tr>` element.\n",
    "\n",
    "- If the result starts with **Total Number of Mines Found**, you were successful."
   ]
  },
  {
   "cell_type": "code",
   "execution_count": 4,
   "metadata": {},
   "outputs": [
    {
     "data": {
      "text/plain": [
       "'\\nTotal Number of Mines Found:\\xa0\\xa0129'"
      ]
     },
     "execution_count": 4,
     "metadata": {},
     "output_type": "execute_result"
    }
   ],
   "source": [
    "doc.find_all('tr')[-1].text"
   ]
  },
  {
   "cell_type": "markdown",
   "metadata": {},
   "source": [
    "## Actually scraping"
   ]
  },
  {
   "cell_type": "markdown",
   "metadata": {},
   "source": [
    "### Hopefully you know that each `tr` is supposed to be your data. What is the index of the first row element that is actually a result?\n",
    "\n",
    "`.text` will help you here."
   ]
  },
  {
   "cell_type": "code",
   "execution_count": 60,
   "metadata": {},
   "outputs": [
    {
     "data": {
      "text/plain": [
       "'\\n\\n\\n3503598\\n\\nOR\\xa0\\n Newberg Rock & Dirt \\xa0\\nNewberg Rock & Dirt\\nSurface             \\nM\\xa0\\nActive\\xa0 \\nCrushed, Broken Stone NEC\\xa0 \\n'"
      ]
     },
     "execution_count": 60,
     "metadata": {},
     "output_type": "execute_result"
    }
   ],
   "source": [
    "doc.find_all('tr')[7].text"
   ]
  },
  {
   "cell_type": "markdown",
   "metadata": {},
   "source": [
    "### Loop through each operator result, printing its name\n",
    "\n",
    "Use LIST SLICING to skip the non-data row(s)."
   ]
  },
  {
   "cell_type": "code",
   "execution_count": 83,
   "metadata": {},
   "outputs": [
    {
     "name": "stdout",
     "output_type": "stream",
     "text": [
      "Newberg Rock & Dirt\n",
      "Allied Dirt Moving Company\n",
      "AM Dirtworks & Aggregate Sales\n",
      "Atlas-Dirty Devil Mining\n",
      "Atlas-Dirty Devil Mining\n",
      "Babe's Dirt Work\n",
      "Bar-Lin Dirt Company\n",
      "Barber'S Dirt Pit\n",
      "Bender Sand & Dirt\n",
      "BERT'S DIRT\n",
      "Big D Dirt Service Inc\n",
      "Big Red Dirt Farm LLC\n",
      "Big River Dirt Pit\n",
      "Bob Harris Dirt Contracting\n",
      "Bohannon Sand & Dirt\n",
      "Bratcher'S Sand & Dirt\n",
      "Brewer Dirt Works\n",
      "Buck'S Dirt Pit\n",
      "C & G Dirt Hauling\n",
      "C N C Dirt Movers, Inc.\n",
      "Cambridge Dirt Sand and Gravel LLC\n",
      "Central Iowa Dirt & Demo LLC\n",
      "Crowes Trucking & Dirt Pit Services\n",
      "D & H Dirt\n",
      "Diez Dirt & Sand Hauling Inc\n",
      "Dirt Cheap\n",
      "Dirt Company\n",
      "Dirt Company\n",
      "Dirt Company\n",
      "Dirt Con\n",
      "Dirt Diggers Inc\n",
      "Dirt Doctor Inc\n",
      "Dirt Inc\n",
      "Dirt Pit\n",
      "Dirt Works\n",
      "Dirtco Inc\n",
      "Dirtman Trucking\n",
      "DIRTWORKS, INC.\n",
      "Dirtworks, Inc.\n",
      "Dirty Coal\n",
      "Dorchester Dirt Company Inc\n",
      "Douglas Dirt Sand & Gravel Company\n",
      "Ell Dirt Works LLC.\n",
      "Floyd Smith Dirt Pit\n",
      "Gary Kelm Dirt Service\n",
      "Gerald Fenger/Rock & Dirt Const\n",
      "Gerald Illies Gravel & Dirt Company\n",
      "Guidry Sand & Dirt Pit Inc\n",
      "Harris Dirt Company Inc\n",
      "Hatchet Creek Rock & Dirt LLC\n",
      "Holley Dirt Company, Inc\n",
      "Iske Dirt Sand & Gravel\n",
      "J M Lynn Dirtwork\n",
      "Jake Diel Dirt & Paving Inc\n",
      "Jake Diel Dirt & Paving Inc\n",
      "Jake Diel Dirt & Paving Inc\n",
      "Jake Diel Dirt & Paving Inc\n",
      "Jake Diel Dirt & Paving Inc\n",
      "Jake Diel Dirt & Paving Inc\n",
      "Jake Diel Dirt & Paving Inc\n",
      "Jake Diel Dirt & Paving Inc\n",
      "Jarratt Dirt Work and Paving, Inc.\n",
      "JBS DIRT, INC.\n",
      "Jones Bros Dirt & Paving Contractors Inc\n",
      "Krueger Brothers Gravel & Dirt\n",
      "Krueger Dirt Werx, Inc.\n",
      "L I P Dirt & Trucking\n",
      "Lee'S Dirt Pit Inc\n",
      "Little-G-Dirt Pit\n",
      "Lone Star Dirt & Paving\n",
      "Loyd'S Dirt & Gravel\n",
      "M R Dirt\n",
      "M.C. Dirt LLC\n",
      "M.R. Dirt Inc.\n",
      "Maurice Dirt & Sand\n",
      "Mc Dirt Industries Inc\n",
      "Mike Duhon Dirt Pit\n",
      "Mike Duhon Dirt Pit\n",
      "Mike Duhon Dirt Pit\n",
      "Moss Dirt Company\n",
      "Moss Dirt Company\n",
      "Muckler Fill Dirt & Top Soil\n",
      "Nelson & Sons Dirt Haulers Inc\n",
      "Nelson'S Dirt Pit\n",
      "Nicholson Dirt Contracting\n",
      "Nitty Gritty Dirt LLC\n",
      "Northest Louisiana Dirt Contractors\n",
      "Orvil Carter Dirt Contractor Inc\n",
      "Orvil Carter Dirt Contractor Inc\n",
      "P B Dirt Movers Inc\n",
      "P B Dirt Movers Inc\n",
      "P B Dirt Movers Inc\n",
      "P B Dirt Movers Inc\n",
      "P B Dirt Movers Inc\n",
      "P B Dirt Movers Inc.\n",
      "P B Dirt Movers, Inc\n",
      "P.B. Dirtmovers\n",
      "PAPA'S DIRT WORKES\n",
      "Paydirt Exc Inc\n",
      "PB Dirt Movers\n",
      "PB Dirt Movers Inc.\n",
      "PB Dirt Movers, Inc\n",
      "Peveto Dirt Pit\n",
      "Phil-Dirt Industries, Inc\n",
      "Prescott Dirt, LLC\n",
      "R & R Dirtworks\n",
      "R D Blankenship Dirt Work LLC\n",
      "Reeves Dirt Pit Inc\n",
      "River Bottom Dirt\n",
      "Roe'S Dirt Pit\n",
      "Russell Trest-Dirt Contractor\n",
      "S J Stahr Dirt Movers Inc\n",
      "Sand and Dirt, Inc.\n",
      "Sierra Rock & Dirt, Inc.\n",
      "Simpson Dirtworx llc\n",
      "SIMPSON DIRTWORX LLC\n",
      "SIMPSON DIRTWORX LLC\n",
      "Slay'S Dirt Hauling\n",
      "Southside Dirt Company\n",
      "Spry's Dirt & Gravel, Inc.\n",
      "Stewart Dirt Pit\n",
      "Stewart Dirt Work, Inc.\n",
      "Sweat'S Dirt Hauling Inc\n",
      "Toler Roe Dirt Pit\n",
      "Tres Palacios Dirt, Sand & Gravel\n",
      "Vogt Dirt Service\n",
      "Watson Dirt Sand & Gravel Pit Inc\n",
      "Y B Dirt & Loam\n"
     ]
    }
   ],
   "source": [
    "res_table = doc.find_all('tr')[7:-2]\n",
    "for op_name in res_table:\n",
    "    print(op_name.find_all('td')[2].text.strip())"
   ]
  },
  {
   "cell_type": "markdown",
   "metadata": {},
   "source": [
    "### Loop through each operator result, printing its ID\n",
    "\n",
    "There should be ONE code per row, and NO empty rows between them."
   ]
  },
  {
   "cell_type": "code",
   "execution_count": 82,
   "metadata": {},
   "outputs": [
    {
     "name": "stdout",
     "output_type": "stream",
     "text": [
      "3503598\n",
      "0502030\n",
      "4801789\n",
      "4201449\n",
      "4201450\n",
      "1002257\n",
      "1601167\n",
      "4103265\n",
      "1401575\n",
      "1700776\n",
      "1601251\n",
      "0301963\n",
      "1601082\n",
      "3401751\n",
      "1600916\n",
      "3401211\n",
      "0301267\n",
      "1600956\n",
      "2200033\n",
      "0504953\n",
      "3401929\n",
      "1302445\n",
      "1601106\n",
      "3400915\n",
      "1600983\n",
      "4503200\n",
      "3401266\n",
      "3401468\n",
      "5001797\n",
      "4608254\n",
      "1510279\n",
      "2103723\n",
      "0100776\n",
      "4104016\n",
      "4104757\n",
      "0301729\n",
      "0404851\n",
      "2200734\n",
      "5002028\n",
      "1513393\n",
      "3800602\n",
      "3101630\n",
      "3200860\n",
      "3401762\n",
      "2103517\n",
      "2402626\n",
      "2103181\n",
      "1601124\n",
      "1601150\n",
      "4703427\n",
      "0801306\n",
      "2501216\n",
      "3200965\n",
      "2901371\n",
      "2901544\n",
      "2901709\n",
      "4102355\n",
      "4102420\n",
      "4102869\n",
      "4102951\n",
      "4102958\n",
      "4104876\n",
      "3003502\n",
      "4103258\n",
      "3901432\n",
      "2103556\n",
      "1601250\n",
      "1600908\n",
      "1600953\n",
      "4104185\n",
      "2901536\n",
      "3609624\n",
      "3800709\n",
      "3609931\n",
      "1601257\n",
      "0801275\n",
      "1601379\n",
      "1601380\n",
      "1601381\n",
      "1601134\n",
      "1601165\n",
      "3901042\n",
      "1601194\n",
      "4104054\n",
      "4801674\n",
      "2402474\n",
      "1600920\n",
      "4102955\n",
      "4103107\n",
      "1512530\n",
      "1515619\n",
      "1518318\n",
      "4405366\n",
      "4407196\n",
      "1519685\n",
      "1519799\n",
      "4407003\n",
      "2602570\n",
      "2402503\n",
      "4407296\n",
      "1519273\n",
      "4407270\n",
      "4102682\n",
      "0801259\n",
      "0203332\n",
      "0302015\n",
      "2901986\n",
      "1601127\n",
      "4105017\n",
      "1600986\n",
      "4103324\n",
      "4202013\n",
      "0801371\n",
      "2402115\n",
      "4300748\n",
      "4300768\n",
      "4300776\n",
      "0103209\n",
      "1601159\n",
      "2302283\n",
      "4102586\n",
      "4104475\n",
      "3800617\n",
      "1601234\n",
      "4104648\n",
      "2103518\n",
      "1601292\n",
      "4103429\n"
     ]
    }
   ],
   "source": [
    "res_table = doc.find_all('tr')[7:-2]\n",
    "for op_id in res_table:\n",
    "    print(op_id.find_all('td')[0].text.strip())"
   ]
  },
  {
   "cell_type": "markdown",
   "metadata": {},
   "source": [
    "## Saving the results\n",
    "\n",
    "### Loop through each `tr` to create a list of dictionaries\n",
    "\n",
    "Each dictionary must contain\n",
    "\n",
    "- Operator ID\n",
    "- Operator name\n",
    "- Mine name\n",
    "- State\n",
    "- Mine type\n",
    "- Coal or metal\n",
    "- Status\n",
    "- Commodity\n",
    "\n",
    "Create a new dictionary for each row."
   ]
  },
  {
   "cell_type": "code",
   "execution_count": 84,
   "metadata": {},
   "outputs": [
    {
     "name": "stdout",
     "output_type": "stream",
     "text": [
      "{'op_id': '3503598', 'op_name': 'OR', 'min_name': 'Newberg Rock & Dirt', 'state': 'Newberg Rock & Dirt', 'type': 'Surface', 'source': 'M', 'status': 'Active', 'comm': 'Crushed, Broken Stone NEC'}\n",
      "--------\n",
      "{'op_id': '0502030', 'op_name': 'CO', 'min_name': 'Allied Dirt Moving Company', 'state': 'Allied Dirt Moving Co Pit & Plant', 'type': 'Surface', 'source': 'M', 'status': 'Abandoned', 'comm': 'Construction Sand and Gravel'}\n",
      "--------\n",
      "{'op_id': '4801789', 'op_name': 'ND', 'min_name': 'AM Dirtworks & Aggregate Sales', 'state': 'AM Dirtworks & Aggregate Sales', 'type': 'Surface', 'source': 'M', 'status': 'Intermittent', 'comm': 'Construction Sand and Gravel'}\n",
      "--------\n",
      "{'op_id': '4201449', 'op_name': 'UT', 'min_name': 'Atlas-Dirty Devil Mining', 'state': 'Unit Train Loading Facility', 'type': 'Facility', 'source': 'C', 'status': 'Abandoned', 'comm': 'Coal (Bituminous)'}\n",
      "--------\n",
      "{'op_id': '4201450', 'op_name': 'UT', 'min_name': 'Atlas-Dirty Devil Mining', 'state': 'Blackie Surface Mine & Prep Plant', 'type': 'Surface', 'source': 'C', 'status': 'Abandoned', 'comm': 'Coal (Bituminous)'}\n",
      "--------\n",
      "{'op_id': '1002257', 'op_name': 'ID', 'min_name': \"Babe's Dirt Work\", 'state': 'Hitt Pit, Inc.', 'type': 'Surface', 'source': 'M', 'status': 'Abandoned', 'comm': 'Construction Sand and Gravel'}\n",
      "--------\n",
      "{'op_id': '1601167', 'op_name': 'LA', 'min_name': 'Bar-Lin Dirt Company', 'state': 'Bar-Lin Dirt Pit', 'type': 'Surface', 'source': 'M', 'status': 'Abandoned', 'comm': 'Construction Sand and Gravel'}\n",
      "--------\n",
      "{'op_id': '4103265', 'op_name': 'TX', 'min_name': \"Barber'S Dirt Pit\", 'state': \"Barber'S Dirt Pit\", 'type': 'Surface', 'source': 'M', 'status': 'Abandoned', 'comm': 'Construction Sand and Gravel'}\n",
      "--------\n",
      "{'op_id': '1401575', 'op_name': 'KS', 'min_name': 'Bender Sand & Dirt', 'state': 'BENDER SAND & DIRT', 'type': 'Surface', 'source': 'M', 'status': 'Abandoned', 'comm': 'Construction Sand and Gravel'}\n",
      "--------\n",
      "{'op_id': '1700776', 'op_name': 'ME', 'min_name': \"BERT'S DIRT\", 'state': \"BERT'S DIRT\", 'type': 'Surface', 'source': 'M', 'status': 'Abandoned', 'comm': 'Construction Sand and Gravel'}\n",
      "--------\n",
      "{'op_id': '1601251', 'op_name': 'LA', 'min_name': 'Big D Dirt Service Inc', 'state': 'Dorothy V Pit', 'type': 'Surface', 'source': 'M', 'status': 'Abandoned', 'comm': 'Construction Sand and Gravel'}\n",
      "--------\n",
      "{'op_id': '0301963', 'op_name': 'AR', 'min_name': 'Big Red Dirt Farm LLC', 'state': 'Big Red Dirt Farm', 'type': 'Surface', 'source': 'M', 'status': 'Abandoned', 'comm': 'Construction Sand and Gravel'}\n",
      "--------\n",
      "{'op_id': '1601082', 'op_name': 'LA', 'min_name': 'Big River Dirt Pit', 'state': 'Big River Dirt Pit', 'type': 'Surface', 'source': 'M', 'status': 'Abandoned', 'comm': 'Construction Sand and Gravel'}\n",
      "--------\n",
      "{'op_id': '3401751', 'op_name': 'OK', 'min_name': 'Bob Harris Dirt Contracting', 'state': 'Harris Pit', 'type': 'Surface', 'source': 'M', 'status': 'Abandoned', 'comm': 'Construction Sand and Gravel'}\n",
      "--------\n",
      "{'op_id': '1600916', 'op_name': 'LA', 'min_name': 'Bohannon Sand & Dirt', 'state': 'BOHANNON SAND & DIRT', 'type': 'Surface', 'source': 'M', 'status': 'Abandoned', 'comm': 'Construction Sand and Gravel'}\n",
      "--------\n",
      "{'op_id': '3401211', 'op_name': 'OK', 'min_name': \"Bratcher'S Sand & Dirt\", 'state': 'Eubanks Pit', 'type': 'Surface', 'source': 'M', 'status': 'Abandoned', 'comm': 'Construction Sand and Gravel'}\n",
      "--------\n",
      "{'op_id': '0301267', 'op_name': 'AR', 'min_name': 'Brewer Dirt Works', 'state': 'Brewer Pit', 'type': 'Surface', 'source': 'M', 'status': 'Abandoned', 'comm': 'Construction Sand and Gravel'}\n",
      "--------\n",
      "{'op_id': '1600956', 'op_name': 'LA', 'min_name': \"Buck'S Dirt Pit\", 'state': \"Buck'S Dirt Pit\", 'type': 'Surface', 'source': 'M', 'status': 'Abandoned', 'comm': 'Construction Sand and Gravel'}\n",
      "--------\n",
      "{'op_id': '2200033', 'op_name': 'MS', 'min_name': 'C & G Dirt Hauling', 'state': 'Laurel Brick & Tile', 'type': 'Surface', 'source': 'M', 'status': 'Abandoned', 'comm': 'Common Clays NEC'}\n",
      "--------\n",
      "{'op_id': '0504953', 'op_name': 'NM', 'min_name': 'C N C Dirt Movers, Inc.', 'state': 'Foster Canyon', 'type': 'Surface', 'source': 'M', 'status': 'Abandoned', 'comm': 'Construction Sand and Gravel'}\n",
      "--------\n",
      "{'op_id': '3401929', 'op_name': 'OK', 'min_name': 'Cambridge Dirt Sand and Gravel LLC', 'state': 'Cambridge #1', 'type': 'Surface', 'source': 'M', 'status': 'Abandoned', 'comm': 'Sand, Industrial NEC'}\n",
      "--------\n",
      "{'op_id': '1302445', 'op_name': 'IA', 'min_name': 'Central Iowa Dirt & Demo LLC', 'state': 'Woolstock', 'type': 'Surface', 'source': 'M', 'status': 'Abandoned', 'comm': 'Construction Sand and Gravel'}\n",
      "--------\n",
      "{'op_id': '1601106', 'op_name': 'LA', 'min_name': 'Crowes Trucking & Dirt Pit Services', 'state': 'Crowes Dirt Pit', 'type': 'Surface', 'source': 'M', 'status': 'Abandoned', 'comm': 'Construction Sand and Gravel'}\n",
      "--------\n",
      "{'op_id': '3400915', 'op_name': 'OK', 'min_name': 'D & H Dirt', 'state': 'D & H Dirt', 'type': 'Surface', 'source': 'M', 'status': 'Abandoned', 'comm': 'Construction Sand and Gravel'}\n",
      "--------\n",
      "{'op_id': '1600983', 'op_name': 'LA', 'min_name': 'Diez Dirt & Sand Hauling Inc', 'state': 'Amite Acres Dredge', 'type': 'Surface', 'source': 'M', 'status': 'Abandoned', 'comm': 'Construction Sand and Gravel'}\n",
      "--------\n",
      "{'op_id': '4503200', 'op_name': 'WA', 'min_name': 'Dirt Cheap', 'state': 'Dirt Cheap', 'type': 'Surface', 'source': 'M', 'status': 'Abandoned', 'comm': 'Common Clays NEC'}\n",
      "--------\n",
      "{'op_id': '3401266', 'op_name': 'OK', 'min_name': 'Dirt Company', 'state': 'Pit #1', 'type': 'Surface', 'source': 'M', 'status': 'Abandoned', 'comm': 'Construction Sand and Gravel'}\n",
      "--------\n",
      "{'op_id': '3401468', 'op_name': 'OK', 'min_name': 'Dirt Company', 'state': 'Hicks Pit', 'type': 'Surface', 'source': 'M', 'status': 'Abandoned', 'comm': 'Construction Sand and Gravel'}\n",
      "--------\n",
      "{'op_id': '5001797', 'op_name': 'AK', 'min_name': 'Dirt Company', 'state': 'Bush Pilot', 'type': 'Surface', 'source': 'M', 'status': 'Intermittent', 'comm': 'Construction Sand and Gravel'}\n",
      "--------\n",
      "{'op_id': '4608254', 'op_name': 'WV', 'min_name': 'Dirt Con', 'state': 'Hog Lick Quarry', 'type': 'Surface', 'source': 'M', 'status': 'Temporarily Idled', 'comm': 'Crushed, Broken Limestone NEC'}\n",
      "--------\n",
      "{'op_id': '1510279', 'op_name': 'KY', 'min_name': 'Dirt Diggers Inc', 'state': 'Debco Mine', 'type': 'Surface', 'source': 'C', 'status': 'Abandoned', 'comm': 'Coal (Bituminous)'}\n",
      "--------\n",
      "{'op_id': '2103723', 'op_name': 'MN', 'min_name': 'Dirt Doctor Inc', 'state': 'Rock Lake Plant', 'type': 'Surface', 'source': 'M', 'status': 'Intermittent', 'comm': 'Construction Sand and Gravel'}\n",
      "--------\n",
      "{'op_id': '0100776', 'op_name': 'AL', 'min_name': 'Dirt Inc', 'state': 'Harrison Pit', 'type': 'Surface', 'source': 'M', 'status': 'Abandoned', 'comm': 'Common Clays NEC'}\n",
      "--------\n",
      "{'op_id': '4104016', 'op_name': 'TX', 'min_name': 'Dirt Pit', 'state': 'THE DIRT PIT', 'type': 'Surface', 'source': 'M', 'status': 'Abandoned', 'comm': 'Construction Sand and Gravel'}\n",
      "--------\n",
      "{'op_id': '4104757', 'op_name': 'TX', 'min_name': 'Dirt Works', 'state': 'Portable #1', 'type': 'Surface', 'source': 'M', 'status': 'Intermittent', 'comm': 'Construction Sand and Gravel'}\n",
      "--------\n",
      "{'op_id': '0301729', 'op_name': 'AR', 'min_name': 'Dirtco Inc', 'state': 'DIRTCO INC', 'type': 'Surface', 'source': 'M', 'status': 'Abandoned', 'comm': 'Construction Sand and Gravel'}\n",
      "--------\n",
      "{'op_id': '0404851', 'op_name': 'CA', 'min_name': 'Dirtman Trucking', 'state': 'Dirtman Sand & Gravel #2', 'type': 'Surface', 'source': 'M', 'status': 'Abandoned', 'comm': 'Construction Sand and Gravel'}\n",
      "--------\n",
      "{'op_id': '2200734', 'op_name': 'MS', 'min_name': 'DIRTWORKS, INC.', 'state': 'DIRTWORKS, INC.', 'type': 'Surface', 'source': 'M', 'status': 'Abandoned', 'comm': 'Construction Sand and Gravel'}\n",
      "--------\n",
      "{'op_id': '5002028', 'op_name': 'AK', 'min_name': 'Dirtworks, Inc.', 'state': 'Dirtworks, Inc.', 'type': 'Surface', 'source': 'M', 'status': 'Abandoned', 'comm': 'Construction Sand and Gravel'}\n",
      "--------\n",
      "{'op_id': '1513393', 'op_name': 'KY', 'min_name': 'Dirty Coal', 'state': 'No 1 Surface', 'type': 'Surface', 'source': 'C', 'status': 'Abandoned', 'comm': 'Coal (Bituminous)'}\n",
      "--------\n",
      "{'op_id': '3800602', 'op_name': 'SC', 'min_name': 'Dorchester Dirt Company Inc', 'state': 'DIAMOND MINE #3', 'type': 'Surface', 'source': 'M', 'status': 'Abandoned', 'comm': 'Construction Sand and Gravel'}\n",
      "--------\n",
      "{'op_id': '3101630', 'op_name': 'NC', 'min_name': 'Douglas Dirt Sand & Gravel Company', 'state': 'Mccormick Pit & Plant', 'type': 'Surface', 'source': 'M', 'status': 'Abandoned', 'comm': 'Crushed, Broken Granite'}\n",
      "--------\n",
      "{'op_id': '3200860', 'op_name': 'ND', 'min_name': 'Ell Dirt Works LLC.', 'state': 'Portable Jaw #1', 'type': 'Surface', 'source': 'M', 'status': 'Abandoned', 'comm': 'Construction Sand and Gravel'}\n",
      "--------\n",
      "{'op_id': '3401762', 'op_name': 'OK', 'min_name': 'Floyd Smith Dirt Pit', 'state': 'Floyd Smith Dirt Pit', 'type': 'Surface', 'source': 'M', 'status': 'Abandoned', 'comm': 'Dimension Stone NEC'}\n",
      "--------\n",
      "{'op_id': '2103517', 'op_name': 'MN', 'min_name': 'Gary Kelm Dirt Service', 'state': 'Screener', 'type': 'Surface', 'source': 'M', 'status': 'Abandoned', 'comm': 'Construction Sand and Gravel'}\n",
      "--------\n",
      "{'op_id': '2402626', 'op_name': 'MT', 'min_name': 'Gerald Fenger/Rock & Dirt Const', 'state': 'Aden Ward', 'type': 'Surface', 'source': 'M', 'status': 'Abandoned', 'comm': 'Construction Sand and Gravel'}\n",
      "--------\n",
      "{'op_id': '2103181', 'op_name': 'MN', 'min_name': 'Gerald Illies Gravel & Dirt Company', 'state': 'PORTABLE CRUSHER', 'type': 'Surface', 'source': 'M', 'status': 'Abandoned', 'comm': 'Construction Sand and Gravel'}\n",
      "--------\n",
      "{'op_id': '1601124', 'op_name': 'LA', 'min_name': 'Guidry Sand & Dirt Pit Inc', 'state': 'Guidry Sand & Dirt Pit', 'type': 'Surface', 'source': 'M', 'status': 'Abandoned', 'comm': 'Construction Sand and Gravel'}\n",
      "--------\n",
      "{'op_id': '1601150', 'op_name': 'LA', 'min_name': 'Harris Dirt Company Inc', 'state': 'Harris Dirt Pit', 'type': 'Surface', 'source': 'M', 'status': 'Abandoned', 'comm': 'Construction Sand and Gravel'}\n",
      "--------\n",
      "{'op_id': '4703427', 'op_name': 'WI', 'min_name': 'Hatchet Creek Rock & Dirt LLC', 'state': 'Hatchet Creek Rock & Dirt LLC', 'type': 'Surface', 'source': 'M', 'status': 'Abandoned', 'comm': 'Construction Sand and Gravel'}\n",
      "--------\n",
      "{'op_id': '0801306', 'op_name': 'FL', 'min_name': 'Holley Dirt Company, Inc', 'state': 'River Road Pit', 'type': 'Surface', 'source': 'M', 'status': 'Active', 'comm': 'Sand, Common'}\n",
      "--------\n",
      "{'op_id': '2501216', 'op_name': 'NE', 'min_name': 'Iske Dirt Sand & Gravel', 'state': 'Iske Dirt Sand & Gravel', 'type': 'Surface', 'source': 'M', 'status': 'Abandoned', 'comm': 'Construction Sand and Gravel'}\n",
      "--------\n",
      "{'op_id': '3200965', 'op_name': 'ND', 'min_name': 'J M Lynn Dirtwork', 'state': 'Johnson Pit', 'type': 'Surface', 'source': 'M', 'status': 'Abandoned', 'comm': 'Construction Sand and Gravel'}\n",
      "--------\n",
      "{'op_id': '2901371', 'op_name': 'NM', 'min_name': 'Jake Diel Dirt & Paving Inc', 'state': 'Diel Screening Plant', 'type': 'Surface', 'source': 'M', 'status': 'Abandoned', 'comm': 'Construction Sand and Gravel'}\n",
      "--------\n",
      "{'op_id': '2901544', 'op_name': 'NM', 'min_name': 'Jake Diel Dirt & Paving Inc', 'state': 'Cortez Pit', 'type': 'Surface', 'source': 'M', 'status': 'Abandoned', 'comm': 'Construction Sand and Gravel'}\n",
      "--------\n",
      "{'op_id': '2901709', 'op_name': 'NM', 'min_name': 'Jake Diel Dirt & Paving Inc', 'state': 'Skaggs Pit', 'type': 'Surface', 'source': 'M', 'status': 'Abandoned', 'comm': 'Crushed, Broken Stone NEC'}\n",
      "--------\n",
      "{'op_id': '4102355', 'op_name': 'TX', 'min_name': 'Jake Diel Dirt & Paving Inc', 'state': 'Jacobson Pit', 'type': 'Surface', 'source': 'M', 'status': 'Abandoned', 'comm': 'Crushed, Broken Limestone NEC'}\n",
      "--------\n",
      "{'op_id': '4102420', 'op_name': 'TX', 'min_name': 'Jake Diel Dirt & Paving Inc', 'state': 'Black Pit', 'type': 'Surface', 'source': 'M', 'status': 'Abandoned', 'comm': 'Crushed, Broken Limestone NEC'}\n",
      "--------\n",
      "{'op_id': '4102869', 'op_name': 'TX', 'min_name': 'Jake Diel Dirt & Paving Inc', 'state': 'Bailey Pit', 'type': 'Surface', 'source': 'M', 'status': 'Abandoned', 'comm': 'Crushed, Broken Stone NEC'}\n",
      "--------\n",
      "{'op_id': '4102951', 'op_name': 'TX', 'min_name': 'Jake Diel Dirt & Paving Inc', 'state': 'Toscosa Pit', 'type': 'Surface', 'source': 'M', 'status': 'Abandoned', 'comm': 'Crushed, Broken Limestone NEC'}\n",
      "--------\n",
      "{'op_id': '4102958', 'op_name': 'TX', 'min_name': 'Jake Diel Dirt & Paving Inc', 'state': 'Four Way Pit', 'type': 'Surface', 'source': 'M', 'status': 'Abandoned', 'comm': 'Construction Sand and Gravel'}\n",
      "--------\n",
      "{'op_id': '4104876', 'op_name': 'TX', 'min_name': 'Jarratt Dirt Work and Paving, Inc.', 'state': 'Portable Screening Plant #1', 'type': 'Surface', 'source': 'M', 'status': 'Abandoned', 'comm': 'Crushed, Broken Stone NEC'}\n",
      "--------\n",
      "{'op_id': '3003502', 'op_name': 'NY', 'min_name': 'JBS DIRT, INC.', 'state': 'SHAMROCK PIT', 'type': 'Surface', 'source': 'M', 'status': 'Abandoned', 'comm': 'Construction Sand and Gravel'}\n",
      "--------\n",
      "{'op_id': '4103258', 'op_name': 'TX', 'min_name': 'Jones Bros Dirt & Paving Contractors Inc', 'state': 'Barstow Pit', 'type': 'Surface', 'source': 'M', 'status': 'Abandoned', 'comm': 'Crushed, Broken Limestone NEC'}\n",
      "--------\n",
      "{'op_id': '3901432', 'op_name': 'SD', 'min_name': 'Krueger Brothers Gravel & Dirt', 'state': 'PORTABLE SCREENER', 'type': 'Surface', 'source': 'M', 'status': 'Intermittent', 'comm': 'Construction Sand and Gravel'}\n",
      "--------\n",
      "{'op_id': '2103556', 'op_name': 'MN', 'min_name': 'Krueger Dirt Werx, Inc.', 'state': 'Krueger Pit', 'type': 'Surface', 'source': 'M', 'status': 'Abandoned', 'comm': 'Construction Sand and Gravel'}\n",
      "--------\n",
      "{'op_id': '1601250', 'op_name': 'LA', 'min_name': 'L I P Dirt & Trucking', 'state': 'L I P Dirt & Trucking', 'type': 'Surface', 'source': 'M', 'status': 'Abandoned', 'comm': 'Construction Sand and Gravel'}\n",
      "--------\n",
      "{'op_id': '1600908', 'op_name': 'LA', 'min_name': \"Lee'S Dirt Pit Inc\", 'state': \"Lee'S Dirt Pit\", 'type': 'Surface', 'source': 'M', 'status': 'Abandoned', 'comm': 'Construction Sand and Gravel'}\n",
      "--------\n",
      "{'op_id': '1600953', 'op_name': 'LA', 'min_name': 'Little-G-Dirt Pit', 'state': 'Little-G-Dirt Pit', 'type': 'Surface', 'source': 'M', 'status': 'Abandoned', 'comm': 'Construction Sand and Gravel'}\n",
      "--------\n",
      "{'op_id': '4104185', 'op_name': 'TX', 'min_name': 'Lone Star Dirt & Paving', 'state': 'Lone Star Crusher', 'type': 'Surface', 'source': 'M', 'status': 'Abandoned', 'comm': 'Crushed, Broken Stone NEC'}\n",
      "--------\n",
      "{'op_id': '2901536', 'op_name': 'NM', 'min_name': \"Loyd'S Dirt & Gravel\", 'state': \"LOYD'S PIT\", 'type': 'Surface', 'source': 'M', 'status': 'Abandoned', 'comm': 'Construction Sand and Gravel'}\n",
      "--------\n",
      "{'op_id': '3609624', 'op_name': 'PA', 'min_name': 'M R Dirt', 'state': 'Forbes Pit', 'type': 'Surface', 'source': 'M', 'status': 'Intermittent', 'comm': 'Construction Sand and Gravel'}\n",
      "--------\n",
      "{'op_id': '3800709', 'op_name': 'SC', 'min_name': 'M.C. Dirt LLC', 'state': 'Middleton Site', 'type': 'Surface', 'source': 'M', 'status': 'Abandoned', 'comm': 'Sand, Common'}\n",
      "--------\n",
      "{'op_id': '3609931', 'op_name': 'PA', 'min_name': 'M.R. Dirt Inc.', 'state': 'Camptown Quarry', 'type': 'Surface', 'source': 'M', 'status': 'Intermittent', 'comm': 'Dimension Stone NEC'}\n",
      "--------\n",
      "{'op_id': '1601257', 'op_name': 'LA', 'min_name': 'Maurice Dirt & Sand', 'state': 'Maurice Dirt And Sand', 'type': 'Surface', 'source': 'M', 'status': 'Abandoned', 'comm': 'Construction Sand and Gravel'}\n",
      "--------\n",
      "{'op_id': '0801275', 'op_name': 'FL', 'min_name': 'Mc Dirt Industries Inc', 'state': 'BELLVIEW', 'type': 'Surface', 'source': 'M', 'status': 'Abandoned', 'comm': 'Construction Sand and Gravel'}\n",
      "--------\n",
      "{'op_id': '1601379', 'op_name': 'LA', 'min_name': 'Mike Duhon Dirt Pit', 'state': 'REDS PIT', 'type': 'Surface', 'source': 'M', 'status': 'Abandoned', 'comm': 'Construction Sand and Gravel'}\n",
      "--------\n",
      "{'op_id': '1601380', 'op_name': 'LA', 'min_name': 'Mike Duhon Dirt Pit', 'state': 'WAINWRIGHT PIT', 'type': 'Surface', 'source': 'M', 'status': 'Abandoned', 'comm': 'Construction Sand and Gravel'}\n",
      "--------\n",
      "{'op_id': '1601381', 'op_name': 'LA', 'min_name': 'Mike Duhon Dirt Pit', 'state': 'COX PIT', 'type': 'Surface', 'source': 'M', 'status': 'Abandoned', 'comm': 'Construction Sand and Gravel'}\n",
      "--------\n",
      "{'op_id': '1601134', 'op_name': 'LA', 'min_name': 'Moss Dirt Company', 'state': 'Cook Pit', 'type': 'Surface', 'source': 'M', 'status': 'Abandoned', 'comm': 'Construction Sand and Gravel'}\n",
      "--------\n",
      "{'op_id': '1601165', 'op_name': 'LA', 'min_name': 'Moss Dirt Company', 'state': 'Moss Dirt Pit', 'type': 'Surface', 'source': 'M', 'status': 'Abandoned', 'comm': 'Construction Sand and Gravel'}\n",
      "--------\n",
      "{'op_id': '3901042', 'op_name': 'SD', 'min_name': 'Muckler Fill Dirt & Top Soil', 'state': 'Hoffman Pit', 'type': 'Surface', 'source': 'M', 'status': 'Abandoned', 'comm': 'Construction Sand and Gravel'}\n",
      "--------\n",
      "{'op_id': '1601194', 'op_name': 'LA', 'min_name': 'Nelson & Sons Dirt Haulers Inc', 'state': 'Nelson & Sons Dirt Haulers Incorporated', 'type': 'Surface', 'source': 'M', 'status': 'Abandoned', 'comm': 'Construction Sand and Gravel'}\n",
      "--------\n",
      "{'op_id': '4104054', 'op_name': 'TX', 'min_name': \"Nelson'S Dirt Pit\", 'state': \"NELSON'S DIRT PIT\", 'type': 'Surface', 'source': 'M', 'status': 'Abandoned', 'comm': 'Construction Sand and Gravel'}\n",
      "--------\n",
      "{'op_id': '4801674', 'op_name': 'WY', 'min_name': 'Nicholson Dirt Contracting', 'state': 'Eagle One', 'type': 'Surface', 'source': 'M', 'status': 'Abandoned', 'comm': 'Construction Sand and Gravel'}\n",
      "--------\n",
      "{'op_id': '2402474', 'op_name': 'MT', 'min_name': 'Nitty Gritty Dirt LLC', 'state': 'Rolling Glen Ranch Sand and Gravel', 'type': 'Surface', 'source': 'M', 'status': 'Abandoned', 'comm': 'Construction Sand and Gravel'}\n",
      "--------\n",
      "{'op_id': '1600920', 'op_name': 'LA', 'min_name': 'Northest Louisiana Dirt Contractors', 'state': 'Calhoun And Mcguire Pit', 'type': 'Surface', 'source': 'M', 'status': 'Abandoned', 'comm': 'Construction Sand and Gravel'}\n",
      "--------\n",
      "{'op_id': '4102955', 'op_name': 'TX', 'min_name': 'Orvil Carter Dirt Contractor Inc', 'state': 'Ed Meek Pit', 'type': 'Surface', 'source': 'M', 'status': 'Abandoned', 'comm': 'Crushed, Broken Limestone NEC'}\n",
      "--------\n",
      "{'op_id': '4103107', 'op_name': 'TX', 'min_name': 'Orvil Carter Dirt Contractor Inc', 'state': 'Seitz Pit', 'type': 'Surface', 'source': 'M', 'status': 'Abandoned', 'comm': 'Crushed, Broken Limestone NEC'}\n",
      "--------\n",
      "{'op_id': '1512530', 'op_name': 'KY', 'min_name': 'P B Dirt Movers Inc', 'state': 'No 1 Surface', 'type': 'Surface', 'source': 'C', 'status': 'Abandoned', 'comm': 'Coal (Bituminous)'}\n",
      "--------\n",
      "{'op_id': '1515619', 'op_name': 'KY', 'min_name': 'P B Dirt Movers Inc', 'state': 'No 5 Surface', 'type': 'Surface', 'source': 'C', 'status': 'Abandoned', 'comm': 'Coal (Bituminous)'}\n",
      "--------\n",
      "{'op_id': '1518318', 'op_name': 'KY', 'min_name': 'P B Dirt Movers Inc', 'state': 'Biggs No 1', 'type': 'Surface', 'source': 'C', 'status': 'Abandoned', 'comm': 'Coal (Bituminous)'}\n",
      "--------\n",
      "{'op_id': '4405366', 'op_name': 'VA', 'min_name': 'P B Dirt Movers Inc', 'state': 'No 1 Strip', 'type': 'Surface', 'source': 'C', 'status': 'Abandoned', 'comm': 'Coal (Bituminous)'}\n",
      "--------\n",
      "{'op_id': '4407196', 'op_name': 'VA', 'min_name': 'P B Dirt Movers Inc', 'state': 'No 2', 'type': 'Surface', 'source': 'C', 'status': 'Abandoned', 'comm': 'Coal (Bituminous)'}\n",
      "--------\n",
      "{'op_id': '1519685', 'op_name': 'KY', 'min_name': 'P B Dirt Movers Inc.', 'state': 'Fedscreek Refuse Pile', 'type': 'Surface', 'source': 'C', 'status': 'Abandoned', 'comm': 'Coal (Bituminous)'}\n",
      "--------\n",
      "{'op_id': '1519799', 'op_name': 'KY', 'min_name': 'P B Dirt Movers, Inc', 'state': 'Fedscreek Surface', 'type': 'Surface', 'source': 'C', 'status': 'Active', 'comm': 'Coal (Bituminous)'}\n",
      "--------\n",
      "{'op_id': '4407003', 'op_name': 'VA', 'min_name': 'P.B. Dirtmovers', 'state': 'No 2', 'type': 'Underground', 'source': 'C', 'status': 'Abandoned*', 'comm': 'Coal (Bituminous)'}\n",
      "--------\n",
      "{'op_id': '2602570', 'op_name': 'NV', 'min_name': \"PAPA'S DIRT WORKES\", 'state': 'COUNTY FAIRE TEMP GRAVEL PIT', 'type': 'Surface', 'source': 'M', 'status': 'Abandoned', 'comm': 'Construction Sand and Gravel'}\n",
      "--------\n",
      "{'op_id': '2402503', 'op_name': 'MT', 'min_name': 'Paydirt Exc Inc', 'state': 'Robison Mine', 'type': 'Surface', 'source': 'M', 'status': 'Abandoned', 'comm': 'Construction Sand and Gravel'}\n",
      "--------\n",
      "{'op_id': '4407296', 'op_name': 'VA', 'min_name': 'PB Dirt Movers', 'state': 'Mine No. 6', 'type': 'Underground', 'source': 'C', 'status': 'Temporarily Idled', 'comm': 'Coal (Bituminous)'}\n",
      "--------\n",
      "{'op_id': '1519273', 'op_name': 'KY', 'min_name': 'PB Dirt Movers Inc.', 'state': 'Blair Face Up', 'type': 'Surface', 'source': 'C', 'status': 'Abandoned', 'comm': 'Coal (Bituminous)'}\n",
      "--------\n",
      "{'op_id': '4407270', 'op_name': 'VA', 'min_name': 'PB Dirt Movers, Inc', 'state': 'Surface Mine No. 1', 'type': 'Surface', 'source': 'C', 'status': 'NonProducing', 'comm': 'Coal (Bituminous)'}\n",
      "--------\n",
      "{'op_id': '4102682', 'op_name': 'TX', 'min_name': 'Peveto Dirt Pit', 'state': 'Peveto Pit', 'type': 'Surface', 'source': 'M', 'status': 'Abandoned', 'comm': 'Construction Sand and Gravel'}\n",
      "--------\n",
      "{'op_id': '0801259', 'op_name': 'FL', 'min_name': 'Phil-Dirt Industries, Inc', 'state': 'PIT #1', 'type': 'Surface', 'source': 'M', 'status': 'Abandoned', 'comm': 'Construction Sand and Gravel'}\n",
      "--------\n",
      "{'op_id': '0203332', 'op_name': 'AZ', 'min_name': 'Prescott Dirt, LLC', 'state': 'Sandretto Drive', 'type': 'Surface', 'source': 'M', 'status': 'Intermittent', 'comm': 'Construction Sand and Gravel'}\n",
      "--------\n",
      "{'op_id': '0302015', 'op_name': 'AR', 'min_name': 'R & R Dirtworks', 'state': 'Martins Quarry', 'type': 'Surface', 'source': 'M', 'status': 'Abandoned', 'comm': 'Crushed, Broken Limestone NEC'}\n",
      "--------\n",
      "{'op_id': '2901986', 'op_name': 'NM', 'min_name': 'R D Blankenship Dirt Work LLC', 'state': 'R D BLANKENSHIP DIRT WORK', 'type': 'Surface', 'source': 'M', 'status': 'Active', 'comm': 'Construction Sand and Gravel'}\n",
      "--------\n",
      "{'op_id': '1601127', 'op_name': 'LA', 'min_name': 'Reeves Dirt Pit Inc', 'state': 'Reeves Dirt Pit Incorporated', 'type': 'Surface', 'source': 'M', 'status': 'Abandoned', 'comm': 'Construction Sand and Gravel'}\n",
      "--------\n",
      "{'op_id': '4105017', 'op_name': 'TX', 'min_name': 'River Bottom Dirt', 'state': 'River Bottom Dirt', 'type': 'Surface', 'source': 'M', 'status': 'Abandoned', 'comm': 'Sand, Common'}\n",
      "--------\n",
      "{'op_id': '1600986', 'op_name': 'LA', 'min_name': \"Roe'S Dirt Pit\", 'state': \"Roe'S Dirt Pit\", 'type': 'Surface', 'source': 'M', 'status': 'Abandoned', 'comm': 'Construction Sand and Gravel'}\n",
      "--------\n",
      "{'op_id': '4103324', 'op_name': 'TX', 'min_name': 'Russell Trest-Dirt Contractor', 'state': 'Pine Ridge Pit', 'type': 'Surface', 'source': 'M', 'status': 'Abandoned', 'comm': 'Construction Sand and Gravel'}\n",
      "--------\n",
      "{'op_id': '4202013', 'op_name': 'UT', 'min_name': 'S J Stahr Dirt Movers Inc', 'state': 'Stahr Portable Crusher', 'type': 'Surface', 'source': 'M', 'status': 'Abandoned', 'comm': 'Construction Sand and Gravel'}\n",
      "--------\n",
      "{'op_id': '0801371', 'op_name': 'FL', 'min_name': 'Sand and Dirt, Inc.', 'state': 'CENTURY PIT', 'type': 'Surface', 'source': 'M', 'status': 'Abandoned', 'comm': 'Sand, Common'}\n",
      "--------\n",
      "{'op_id': '2402115', 'op_name': 'MT', 'min_name': 'Sierra Rock & Dirt, Inc.', 'state': 'Sierra Rock & Dirt Inc', 'type': 'Surface', 'source': 'M', 'status': 'Abandoned', 'comm': 'Construction Sand and Gravel'}\n",
      "--------\n",
      "{'op_id': '4300748', 'op_name': 'VT', 'min_name': 'Simpson Dirtworx llc', 'state': 'Simpson Sand and Gravel', 'type': 'Surface', 'source': 'M', 'status': 'Abandoned', 'comm': 'Construction Sand and Gravel'}\n",
      "--------\n",
      "{'op_id': '4300768', 'op_name': 'VT', 'min_name': 'SIMPSON DIRTWORX LLC', 'state': 'Pettibone Jaw Crusher', 'type': 'Surface', 'source': 'M', 'status': 'Intermittent', 'comm': 'Construction Sand and Gravel'}\n",
      "--------\n",
      "{'op_id': '4300776', 'op_name': 'VT', 'min_name': 'SIMPSON DIRTWORX LLC', 'state': 'Chieftan 1400', 'type': 'Surface', 'source': 'M', 'status': 'Intermittent', 'comm': 'Construction Sand and Gravel'}\n",
      "--------\n",
      "{'op_id': '0103209', 'op_name': 'AL', 'min_name': \"Slay'S Dirt Hauling\", 'state': 'SLAY PIT', 'type': 'Surface', 'source': 'M', 'status': 'Abandoned', 'comm': 'Construction Sand and Gravel'}\n",
      "--------\n",
      "{'op_id': '1601159', 'op_name': 'LA', 'min_name': 'Southside Dirt Company', 'state': 'Southside Dirt Pit', 'type': 'Surface', 'source': 'M', 'status': 'Abandoned', 'comm': 'Construction Sand and Gravel'}\n",
      "--------\n",
      "{'op_id': '2302283', 'op_name': 'MO', 'min_name': \"Spry's Dirt & Gravel, Inc.\", 'state': \"Mike's Money Pit\", 'type': 'Surface', 'source': 'M', 'status': 'Intermittent', 'comm': 'Construction Sand and Gravel'}\n",
      "--------\n",
      "{'op_id': '4102586', 'op_name': 'TX', 'min_name': 'Stewart Dirt Pit', 'state': 'Stewart Pit', 'type': 'Surface', 'source': 'M', 'status': 'Abandoned', 'comm': 'Construction Sand and Gravel'}\n",
      "--------\n",
      "{'op_id': '4104475', 'op_name': 'TX', 'min_name': 'Stewart Dirt Work, Inc.', 'state': 'Stewart Dirt Work Inc - Hanna Pit', 'type': 'Surface', 'source': 'M', 'status': 'Abandoned', 'comm': 'Crushed, Broken Stone NEC'}\n",
      "--------\n",
      "{'op_id': '3800617', 'op_name': 'SC', 'min_name': \"Sweat'S Dirt Hauling Inc\", 'state': 'Highway 642 Dirt Pit', 'type': 'Surface', 'source': 'M', 'status': 'Abandoned', 'comm': 'Construction Sand and Gravel'}\n",
      "--------\n",
      "{'op_id': '1601234', 'op_name': 'LA', 'min_name': 'Toler Roe Dirt Pit', 'state': 'Toler Roe Dirt Pit', 'type': 'Surface', 'source': 'M', 'status': 'Abandoned', 'comm': 'Construction Sand and Gravel'}\n",
      "--------\n",
      "{'op_id': '4104648', 'op_name': 'TX', 'min_name': 'Tres Palacios Dirt, Sand & Gravel', 'state': 'La Calichera Pit', 'type': 'Surface', 'source': 'M', 'status': 'Abandoned', 'comm': 'Construction Sand and Gravel'}\n",
      "--------\n",
      "{'op_id': '2103518', 'op_name': 'MN', 'min_name': 'Vogt Dirt Service', 'state': 'Crusher', 'type': 'Surface', 'source': 'M', 'status': 'Intermittent', 'comm': 'Construction Sand and Gravel'}\n",
      "--------\n",
      "{'op_id': '1601292', 'op_name': 'LA', 'min_name': 'Watson Dirt Sand & Gravel Pit Inc', 'state': 'ADDISON LEASE', 'type': 'Surface', 'source': 'M', 'status': 'Abandoned', 'comm': 'Construction Sand and Gravel'}\n",
      "--------\n",
      "{'op_id': '4103429', 'op_name': 'TX', 'min_name': 'Y B Dirt & Loam', 'state': 'Y B Mine', 'type': 'Surface', 'source': 'M', 'status': 'Abandoned', 'comm': 'Construction Sand and Gravel'}\n",
      "--------\n"
     ]
    }
   ],
   "source": [
    "mine_list = []\n",
    "res_table = doc.find_all('tr')[7:-2]\n",
    "for line in res_table:\n",
    "    mine_dict = {}\n",
    "    op_id = line.find_all('td')[0].text.strip()\n",
    "    if op_id:\n",
    "        #print(op_id)\n",
    "        mine_dict['op_id'] = op_id\n",
    "    op_name = line.find_all('td')[1].text.strip()\n",
    "    if op_name:\n",
    "        #print(op_name)\n",
    "        mine_dict['op_name'] = op_name\n",
    "    min_name = line.find_all('td')[2].text.strip()\n",
    "    if min_name:\n",
    "        #print(min_name)\n",
    "        mine_dict['min_name'] = min_name\n",
    "    state = line.find_all('td')[3].text.strip()\n",
    "    if state:\n",
    "        #print(state)\n",
    "        mine_dict['state'] = state\n",
    "    type = line.find_all('td')[4].text.strip()\n",
    "    if type:\n",
    "        #print(type)\n",
    "        mine_dict['type'] = type\n",
    "    source = line.find_all('td')[5].text.strip()\n",
    "    if source:\n",
    "        #print(source)\n",
    "        mine_dict['source'] = source\n",
    "    status = line.find_all('td')[6].text.strip()\n",
    "    if status:\n",
    "        #print(status)\n",
    "        mine_dict['status'] = status\n",
    "    comm = line.find_all('td')[7].text.strip()\n",
    "    if comm:\n",
    "        #print(comm)\n",
    "        mine_dict['comm'] = comm\n",
    "    mine_list.append(mine_dict)\n",
    "    print(mine_dict)\n",
    "    print(\"--------\")"
   ]
  },
  {
   "cell_type": "markdown",
   "metadata": {},
   "source": [
    "### Save that to a CSV"
   ]
  },
  {
   "cell_type": "code",
   "execution_count": 85,
   "metadata": {
    "collapsed": true
   },
   "outputs": [],
   "source": [
    "import pandas as pd"
   ]
  },
  {
   "cell_type": "code",
   "execution_count": 86,
   "metadata": {},
   "outputs": [
    {
     "data": {
      "text/html": [
       "<div>\n",
       "<style>\n",
       "    .dataframe thead tr:only-child th {\n",
       "        text-align: right;\n",
       "    }\n",
       "\n",
       "    .dataframe thead th {\n",
       "        text-align: left;\n",
       "    }\n",
       "\n",
       "    .dataframe tbody tr th {\n",
       "        vertical-align: top;\n",
       "    }\n",
       "</style>\n",
       "<table border=\"1\" class=\"dataframe\">\n",
       "  <thead>\n",
       "    <tr style=\"text-align: right;\">\n",
       "      <th></th>\n",
       "      <th>comm</th>\n",
       "      <th>min_name</th>\n",
       "      <th>op_id</th>\n",
       "      <th>op_name</th>\n",
       "      <th>source</th>\n",
       "      <th>state</th>\n",
       "      <th>status</th>\n",
       "      <th>type</th>\n",
       "    </tr>\n",
       "  </thead>\n",
       "  <tbody>\n",
       "    <tr>\n",
       "      <th>0</th>\n",
       "      <td>Crushed, Broken Stone NEC</td>\n",
       "      <td>Newberg Rock &amp; Dirt</td>\n",
       "      <td>3503598</td>\n",
       "      <td>OR</td>\n",
       "      <td>M</td>\n",
       "      <td>Newberg Rock &amp; Dirt</td>\n",
       "      <td>Active</td>\n",
       "      <td>Surface</td>\n",
       "    </tr>\n",
       "    <tr>\n",
       "      <th>1</th>\n",
       "      <td>Construction Sand and Gravel</td>\n",
       "      <td>Allied Dirt Moving Company</td>\n",
       "      <td>0502030</td>\n",
       "      <td>CO</td>\n",
       "      <td>M</td>\n",
       "      <td>Allied Dirt Moving Co Pit &amp; Plant</td>\n",
       "      <td>Abandoned</td>\n",
       "      <td>Surface</td>\n",
       "    </tr>\n",
       "    <tr>\n",
       "      <th>2</th>\n",
       "      <td>Construction Sand and Gravel</td>\n",
       "      <td>AM Dirtworks &amp; Aggregate Sales</td>\n",
       "      <td>4801789</td>\n",
       "      <td>ND</td>\n",
       "      <td>M</td>\n",
       "      <td>AM Dirtworks &amp; Aggregate Sales</td>\n",
       "      <td>Intermittent</td>\n",
       "      <td>Surface</td>\n",
       "    </tr>\n",
       "    <tr>\n",
       "      <th>3</th>\n",
       "      <td>Coal (Bituminous)</td>\n",
       "      <td>Atlas-Dirty Devil Mining</td>\n",
       "      <td>4201449</td>\n",
       "      <td>UT</td>\n",
       "      <td>C</td>\n",
       "      <td>Unit Train Loading Facility</td>\n",
       "      <td>Abandoned</td>\n",
       "      <td>Facility</td>\n",
       "    </tr>\n",
       "    <tr>\n",
       "      <th>4</th>\n",
       "      <td>Coal (Bituminous)</td>\n",
       "      <td>Atlas-Dirty Devil Mining</td>\n",
       "      <td>4201450</td>\n",
       "      <td>UT</td>\n",
       "      <td>C</td>\n",
       "      <td>Blackie Surface Mine &amp; Prep Plant</td>\n",
       "      <td>Abandoned</td>\n",
       "      <td>Surface</td>\n",
       "    </tr>\n",
       "  </tbody>\n",
       "</table>\n",
       "</div>"
      ],
      "text/plain": [
       "                           comm                        min_name    op_id  \\\n",
       "0     Crushed, Broken Stone NEC             Newberg Rock & Dirt  3503598   \n",
       "1  Construction Sand and Gravel      Allied Dirt Moving Company  0502030   \n",
       "2  Construction Sand and Gravel  AM Dirtworks & Aggregate Sales  4801789   \n",
       "3             Coal (Bituminous)        Atlas-Dirty Devil Mining  4201449   \n",
       "4             Coal (Bituminous)        Atlas-Dirty Devil Mining  4201450   \n",
       "\n",
       "  op_name source                              state        status      type  \n",
       "0      OR      M                Newberg Rock & Dirt        Active   Surface  \n",
       "1      CO      M  Allied Dirt Moving Co Pit & Plant     Abandoned   Surface  \n",
       "2      ND      M     AM Dirtworks & Aggregate Sales  Intermittent   Surface  \n",
       "3      UT      C        Unit Train Loading Facility     Abandoned  Facility  \n",
       "4      UT      C  Blackie Surface Mine & Prep Plant     Abandoned   Surface  "
      ]
     },
     "execution_count": 86,
     "metadata": {},
     "output_type": "execute_result"
    }
   ],
   "source": [
    "df = pd.DataFrame(mine_list)\n",
    "df.head()"
   ]
  },
  {
   "cell_type": "code",
   "execution_count": 87,
   "metadata": {
    "collapsed": true
   },
   "outputs": [],
   "source": [
    "df.to_csv(\"mine_list.csv\", index=False)"
   ]
  },
  {
   "cell_type": "markdown",
   "metadata": {},
   "source": [
    "### Open the CSV file and examine the first few. Make sure you didn't save an extra weird unnamed column."
   ]
  },
  {
   "cell_type": "markdown",
   "metadata": {
    "collapsed": true
   },
   "source": [
    "OK! done"
   ]
  }
 ],
 "metadata": {
  "kernelspec": {
   "display_name": "Python 3",
   "language": "python",
   "name": "python3"
  },
  "language_info": {
   "codemirror_mode": {
    "name": "ipython",
    "version": 3
   },
   "file_extension": ".py",
   "mimetype": "text/x-python",
   "name": "python",
   "nbconvert_exporter": "python",
   "pygments_lexer": "ipython3",
   "version": "3.6.1"
  }
 },
 "nbformat": 4,
 "nbformat_minor": 2
}
