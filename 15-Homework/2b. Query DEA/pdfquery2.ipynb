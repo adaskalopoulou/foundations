{
 "cells": [
  {
   "cell_type": "code",
   "execution_count": 2,
   "metadata": {
    "collapsed": true
   },
   "outputs": [],
   "source": [
    "import pdfquery\n",
    "import pandas as pd"
   ]
  },
  {
   "cell_type": "code",
   "execution_count": 3,
   "metadata": {},
   "outputs": [],
   "source": [
    "pdf = pdfquery.PDFQuery(\"page-1.pdf\")\n",
    "pdf.load()"
   ]
  },
  {
   "cell_type": "code",
   "execution_count": 5,
   "metadata": {},
   "outputs": [
    {
     "data": {
      "text/plain": [
       "[<LTTextLineHorizontal>, <LTTextLineHorizontal>]"
      ]
     },
     "execution_count": 5,
     "metadata": {},
     "output_type": "execute_result"
    }
   ],
   "source": [
    "label = pdf.pq('LTTextLineHorizontal:contains(\"Budget\")')\n",
    "label"
   ]
  },
  {
   "cell_type": "code",
   "execution_count": 6,
   "metadata": {},
   "outputs": [
    {
     "data": {
      "text/plain": [
       "'FY 2012 Budget Request at a Glance FY 2012 Budget Request:'"
      ]
     },
     "execution_count": 6,
     "metadata": {},
     "output_type": "execute_result"
    }
   ],
   "source": [
    "label.text()"
   ]
  },
  {
   "cell_type": "code",
   "execution_count": 8,
   "metadata": {
    "scrolled": true
   },
   "outputs": [
    {
     "data": {
      "text/plain": [
       "[{'Current Services Adjustments': 'Current Services Adjustments: +$57.1 million Program Changes: -$34.6 million',\n",
       "  'FY 2011 CR': 'FY 2011 CR: $2,019.7 million (8,399 positions; 4,130 agents) Current Services Adjustments: +$57.1 million',\n",
       "  'FY 2012 Budget Request': 'FY 2012 Budget Request: $2,042.1 million (8,312 positions; 4,059 agents) Change From FY 2011 CR: +$22.4 million (+1.1%) (-87 positions; -87 agents)',\n",
       "  'FY 2012 Budget Request at a Glance FY 2011 CR': 'FY 2012 Budget Request at a Glance FY 2011 CR: $2,019.7 million (8,399 positions; 4,130 agents)',\n",
       "  'Program Changes': 'Program Changes: -$34.6 million FY 2012 Budget Request: $2,042.1 million (8,312 positions; 4,059 agents)'}]"
      ]
     },
     "execution_count": 8,
     "metadata": {},
     "output_type": "execute_result"
    }
   ],
   "source": [
    "pdf = pdfquery.PDFQuery('page-1.pdf')\n",
    "\n",
    "query= []\n",
    "my_query = pdf.extract([\n",
    "\t('with_formatter', 'text'),\n",
    "\t('FY 2012 Budget Request at a Glance FY 2011 CR', 'LTPage[pageid=\\'1\\'] LTTextLineHorizontal:overlaps_bbox(\"118,676,498,697\")'),\n",
    "\t('FY 2011 CR', 'LTPage[pageid=\\'1\\'] LTTextLineHorizontal:overlaps_bbox(\"118,655,500,673\")'),\n",
    "\t('Current Services Adjustments', 'LTPage[pageid=\\'1\\'] LTTextLineHorizontal:overlaps_bbox(\"120,637,499,653\")'),\n",
    "\t('Program Changes', 'LTPage[pageid=\\'1\\'] LTTextLineHorizontal:overlaps_bbox(\"121,613,499,634\")'),\n",
    "\t('FY 2012 Budget Request', 'LTPage[pageid=\\'1\\'] LTTextLineHorizontal:overlaps_bbox(\"121,593,498,613\")')\n",
    "])\n",
    "\n",
    "query.append(my_query)\n",
    "query"
   ]
  },
  {
   "cell_type": "code",
   "execution_count": 9,
   "metadata": {},
   "outputs": [
    {
     "data": {
      "text/html": [
       "<div>\n",
       "<style>\n",
       "    .dataframe thead tr:only-child th {\n",
       "        text-align: right;\n",
       "    }\n",
       "\n",
       "    .dataframe thead th {\n",
       "        text-align: left;\n",
       "    }\n",
       "\n",
       "    .dataframe tbody tr th {\n",
       "        vertical-align: top;\n",
       "    }\n",
       "</style>\n",
       "<table border=\"1\" class=\"dataframe\">\n",
       "  <thead>\n",
       "    <tr style=\"text-align: right;\">\n",
       "      <th></th>\n",
       "      <th>Current Services Adjustments</th>\n",
       "      <th>FY 2011 CR</th>\n",
       "      <th>FY 2012 Budget Request</th>\n",
       "      <th>FY 2012 Budget Request at a Glance FY 2011 CR</th>\n",
       "      <th>Program Changes</th>\n",
       "    </tr>\n",
       "  </thead>\n",
       "  <tbody>\n",
       "    <tr>\n",
       "      <th>0</th>\n",
       "      <td>Current Services Adjustments: +$57.1 million P...</td>\n",
       "      <td>FY 2011 CR: $2,019.7 million (8,399 positions;...</td>\n",
       "      <td>FY 2012 Budget Request: $2,042.1 million (8,31...</td>\n",
       "      <td>FY 2012 Budget Request at a Glance FY 2011 CR:...</td>\n",
       "      <td>Program Changes: -$34.6 million FY 2012 Budget...</td>\n",
       "    </tr>\n",
       "  </tbody>\n",
       "</table>\n",
       "</div>"
      ],
      "text/plain": [
       "                        Current Services Adjustments  \\\n",
       "0  Current Services Adjustments: +$57.1 million P...   \n",
       "\n",
       "                                          FY 2011 CR  \\\n",
       "0  FY 2011 CR: $2,019.7 million (8,399 positions;...   \n",
       "\n",
       "                              FY 2012 Budget Request  \\\n",
       "0  FY 2012 Budget Request: $2,042.1 million (8,31...   \n",
       "\n",
       "       FY 2012 Budget Request at a Glance FY 2011 CR  \\\n",
       "0  FY 2012 Budget Request at a Glance FY 2011 CR:...   \n",
       "\n",
       "                                     Program Changes  \n",
       "0  Program Changes: -$34.6 million FY 2012 Budget...  "
      ]
     },
     "execution_count": 9,
     "metadata": {},
     "output_type": "execute_result"
    }
   ],
   "source": [
    "pd.DataFrame(query)"
   ]
  }
 ],
 "metadata": {
  "kernelspec": {
   "display_name": "Python 3",
   "language": "python",
   "name": "python3"
  },
  "language_info": {
   "codemirror_mode": {
    "name": "ipython",
    "version": 3
   },
   "file_extension": ".py",
   "mimetype": "text/x-python",
   "name": "python",
   "nbconvert_exporter": "python",
   "pygments_lexer": "ipython3",
   "version": "3.6.1"
  }
 },
 "nbformat": 4,
 "nbformat_minor": 2
}
