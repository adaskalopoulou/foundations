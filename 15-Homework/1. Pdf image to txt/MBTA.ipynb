{
 "cells": [
  {
   "cell_type": "code",
   "execution_count": 1,
   "metadata": {
    "collapsed": true
   },
   "outputs": [],
   "source": [
    "import re"
   ]
  },
  {
   "cell_type": "code",
   "execution_count": 2,
   "metadata": {},
   "outputs": [
    {
     "data": {
      "text/plain": [
       "'2012 MBTA Fare Policy\\n\\n1. Purpose\\n\\nThe purpose of this Fare Policy is to establish guidelines for setting or restructuring\\nMBTA fares. MBTA staff and the Board of Directors will look to this policy when they\\nmake decisions about adjusting fares. All such decisions will also be made in accordance\\nwith the MBTA’s enabling legislation (MGL c. 161A), speciﬁcally § S(r), which directs\\nthe MBTA to adopt a fare policy that addresses the following:\\n\\nA fare structure, including fare media and passes1\\nFare levels, including discounts\\n\\nA system for free or substantially price-reduced transfer privileges\\nFare equity.\\n\\nll. Fare Policy Goal\\n\\nThe goal of this Fare Policy is to support the MBTA’s mission of providing high-quality\\n\\npublic transportation services for the beneﬁt of the individuals and communities that it\\nserves.\\n\\nFare Policy Objectives\\n\\nThe MBTA, in consultation with the Rider Oversight Committee, has developed six\\nFare Policy Objectives that are critical to achieving the Fare Policy Goal. The nature\\nof these objectives reﬂects the complexity of developing a Fare Structure that will\\nbalance the desire to keep fares affordable for MBTA customers with the need to\\nmaximize fare revenue to help maintain and expand transit operations. These\\nobjectives were used to develop the Fare Structure described later in the policy.\\n\\nIn the future, when changes to the Fare Structure are considered, strategies for\\nmeeting the six objectives will be developed and evaluated. The new Fare Structure\\nthat emerges will encompass the mix of strategies that are determined to best meet the\\n\\nF are Policy Objectives, as described below, in the context of the conditions and needs\\nat that time.\\n\\n1. Customer- and Community-Related Objectives\\n\\nThe following three objectives directly support the MBTA’s mission of operating\\nhigh-quality public transportation services. When a fare increase or restructuring\\nis proposed, all fare strategies considered for achieving these three objectives\\nshould be carefully weighed in relation to each other, as some possible strategies\\n\\nmay achieve one objective at the expense of another. The MBTA must strive to\\nmeet all of these objectives.\\n\\n1 For the purposes of this policy, “fare structure” encompasses all four of the fare requirements found in\\nMGL, c. 161A § 5(r).\\n\\nPage 1 Effective July 1, 2012\\n\\n'"
      ]
     },
     "execution_count": 2,
     "metadata": {},
     "output_type": "execute_result"
    }
   ],
   "source": [
    "text = open('page-0.txt')\n",
    "my_text1 = text.read()\n",
    "my_text1"
   ]
  },
  {
   "cell_type": "code",
   "execution_count": 3,
   "metadata": {},
   "outputs": [
    {
     "data": {
      "text/plain": [
       "'2012 MBTA Fare Policy 1. Purpose The purpose of this Fare Policy is to establish guidelines for setting or restructuring MBTA fares. MBTA staff and the Board of Directors will look to this policy when they make decisions about adjusting fares. All such decisions will also be made in accordance with the MBTA’s enabling legislation (MGL c. 161A), speciﬁcally § S(r), which directs the MBTA to adopt a fare policy that addresses the following: A fare structure, including fare media and passes1 Fare levels, including discounts A system for free or substantially price-reduced transfer privileges Fare equity. ll. Fare Policy Goal The goal of this Fare Policy is to support the MBTA’s mission of providing high-quality public transportation services for the beneﬁt of the individuals and communities that it serves. Fare Policy Objectives The MBTA, in consultation with the Rider Oversight Committee, has developed six Fare Policy Objectives that are critical to achieving the Fare Policy Goal. The nature of these objectives reﬂects the complexity of developing a Fare Structure that will balance the desire to keep fares affordable for MBTA customers with the need to maximize fare revenue to help maintain and expand transit operations. These objectives were used to develop the Fare Structure described later in the policy. In the future, when changes to the Fare Structure are considered, strategies for meeting the six objectives will be developed and evaluated. The new Fare Structure that emerges will encompass the mix of strategies that are determined to best meet the F are Policy Objectives, as described below, in the context of the conditions and needs at that time. 1. Customer- and Community-Related Objectives The following three objectives directly support the MBTA’s mission of operating high-quality public transportation services. When a fare increase or restructuring is proposed, all fare strategies considered for achieving these three objectives should be carefully weighed in relation to each other, as some possible strategies may achieve one objective at the expense of another. The MBTA must strive to meet all of these objectives. 1 For the purposes of this policy, “fare structure” encompasses all four of the fare requirements found in MGL, c. 161A § 5(r). Page 1 Effective July 1, 2012 '"
      ]
     },
     "execution_count": 3,
     "metadata": {},
     "output_type": "execute_result"
    }
   ],
   "source": [
    "my_text2 = re.sub(\"\\n+\", \" \", my_text1)\n",
    "my_text2"
   ]
  },
  {
   "cell_type": "code",
   "execution_count": 4,
   "metadata": {},
   "outputs": [
    {
     "data": {
      "text/plain": [
       "['The MBTA, in consultation with the Rider Oversight Committee, has developed six Fare Policy Objectives that are critical to achieving the Fare Policy Goal. The nature of these objectives reﬂects the complexity of developing a Fare Structure that will balance the desire to keep fares affordable for MBTA customers with the need to maximize fare revenue to help maintain and expand transit operations. These objectives were used to develop the Fare Structure described later in the policy. In the future, when changes to the Fare Structure are considered, strategies for meeting the six objectives will be developed and evaluated. The new Fare Structure that emerges will encompass the mix of strategies that are determined to best meet the F are Policy Objectives, as described below, in the context of the conditions and needs at that time.']"
      ]
     },
     "execution_count": 4,
     "metadata": {},
     "output_type": "execute_result"
    }
   ],
   "source": [
    "my_regex1 = r\"Fare Policy Objectives (.*) 1. Customer- and Community-Related Objectives\"\n",
    "objectives = re.findall(my_regex1, my_text2)\n",
    "objectives"
   ]
  },
  {
   "cell_type": "markdown",
   "metadata": {},
   "source": [
    "## Finding the General Law's chapter"
   ]
  },
  {
   "cell_type": "code",
   "execution_count": 57,
   "metadata": {},
   "outputs": [
    {
     "data": {
      "text/plain": [
       "['161A']"
      ]
     },
     "execution_count": 57,
     "metadata": {},
     "output_type": "execute_result"
    }
   ],
   "source": [
    "my_regex2 = r\"MGL c. (\\d{1,4}[A-Z])\"\n",
    "legislation = re.findall(my_regex2, my_text2)\n",
    "legislation"
   ]
  }
 ],
 "metadata": {
  "kernelspec": {
   "display_name": "Python 3",
   "language": "python",
   "name": "python3"
  },
  "language_info": {
   "codemirror_mode": {
    "name": "ipython",
    "version": 3
   },
   "file_extension": ".py",
   "mimetype": "text/x-python",
   "name": "python",
   "nbconvert_exporter": "python",
   "pygments_lexer": "ipython3",
   "version": "3.6.1"
  }
 },
 "nbformat": 4,
 "nbformat_minor": 2
}
