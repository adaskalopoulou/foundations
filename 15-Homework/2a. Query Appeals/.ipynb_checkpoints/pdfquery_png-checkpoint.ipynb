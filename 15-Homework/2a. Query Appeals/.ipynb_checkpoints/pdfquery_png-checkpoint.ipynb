{
 "cells": [
  {
   "cell_type": "code",
   "execution_count": 7,
   "metadata": {
    "collapsed": true
   },
   "outputs": [],
   "source": [
    "import re"
   ]
  },
  {
   "cell_type": "code",
   "execution_count": 8,
   "metadata": {},
   "outputs": [
    {
     "data": {
      "text/plain": [
       "'COMMONWEALTH OF MASSACHUSETTS\\nCIVIL SERVICE COMMISSION\\nSUFFOLK, ss. One Ashburton Place —Room 503\\nBoston, MA 02108\\n617-727-2253\\n\\nCASE NOS: D-01-1409 (Thompson)\\nD-02-656 (Beckers)\\nD-02-657 (Jones)\\nD-03-116 (McGowan)\\nD-03-212 (Bridgeman)\\nD-03-213 (Harris)\\nD-03-214 (Washington)\\nD-03-362 (Bridgeforth)\\nD-04-52 (Downing)\\nD1-07-107 (Guity)\\n\\n \\n\\nAppearance for Appellants: Alan H. Shapiro, Esq.\\nJ ennifer E. Rubin, Esq.\\nSandulli Grace RC.\\n44 School Street, Suite 1100\\nBoston, MA 02108\\n\\nAppearances for Respondent: Michael Clarkson, Esq.\\nOgletree, Deakins, Nash,\\nSmoak & Stewart, P.C.\\nOne Boston Place, Suite 3220\\nBoston, MA 02108\\n\\nHelen G. Litsas, Esq.\\n\\nLaw Office of Helen G. Litsas\\n\\n22 Mill Street, Suite 408\\n\\nArlington, MA 02476\\nCommissioner: Paul M. Stein\\n\\nDECISION\\nTen Appellants1 brought these appeals to the Civil Service Commission\\n\\n(Commission), pursuant to G.L.c.31,§§41-43, to seek reinstatement following decisions\\nof the Boston Police Department (BPD) discharging each of them from employment as\\n\\ntenured BPD police officers after they tested positive for the presence of cocaine in hair\\n\\nsamples collected from them. The Appellants claim that the hair tests relied upon by the\\n\\n1 Preston Thompson, Richard Beckers, Ronnie Jones, Jacqueline McGowan, Oscar Bridgeman, Shawn\\nHarris, Walter Washington, William Bridgeforth, George Downing & Rudy Guity.\\n1\\n\\n'"
      ]
     },
     "execution_count": 8,
     "metadata": {},
     "output_type": "execute_result"
    }
   ],
   "source": [
    "text = open('/Users/aspasiadaskalopoulou/Desktop/15-documents/Homework/2. Query Appeals/page-1.txt')\n",
    "my_text1 = text.read()\n",
    "my_text1"
   ]
  },
  {
   "cell_type": "code",
   "execution_count": 9,
   "metadata": {},
   "outputs": [
    {
     "data": {
      "text/plain": [
       "'COMMONWEALTH OF MASSACHUSETTS CIVIL SERVICE COMMISSION SUFFOLK, ss. One Ashburton Place —Room 503 Boston, MA 02108 617-727-2253 CASE NOS: D-01-1409 (Thompson) D-02-656 (Beckers) D-02-657 (Jones) D-03-116 (McGowan) D-03-212 (Bridgeman) D-03-213 (Harris) D-03-214 (Washington) D-03-362 (Bridgeforth) D-04-52 (Downing) D1-07-107 (Guity)   Appearance for Appellants: Alan H. Shapiro, Esq. J ennifer E. Rubin, Esq. Sandulli Grace RC. 44 School Street, Suite 1100 Boston, MA 02108 Appearances for Respondent: Michael Clarkson, Esq. Ogletree, Deakins, Nash, Smoak & Stewart, P.C. One Boston Place, Suite 3220 Boston, MA 02108 Helen G. Litsas, Esq. Law Office of Helen G. Litsas 22 Mill Street, Suite 408 Arlington, MA 02476 Commissioner: Paul M. Stein DECISION Ten Appellants1 brought these appeals to the Civil Service Commission (Commission), pursuant to G.L.c.31,§§41-43, to seek reinstatement following decisions of the Boston Police Department (BPD) discharging each of them from employment as tenured BPD police officers after they tested positive for the presence of cocaine in hair samples collected from them. The Appellants claim that the hair tests relied upon by the 1 Preston Thompson, Richard Beckers, Ronnie Jones, Jacqueline McGowan, Oscar Bridgeman, Shawn Harris, Walter Washington, William Bridgeforth, George Downing & Rudy Guity. 1 '"
      ]
     },
     "execution_count": 9,
     "metadata": {},
     "output_type": "execute_result"
    }
   ],
   "source": [
    "text2 = re.sub(\"\\n+\", \" \", my_text1)\n",
    "text2"
   ]
  },
  {
   "cell_type": "code",
   "execution_count": 11,
   "metadata": {},
   "outputs": [
    {
     "data": {
      "text/plain": [
       "['D-01-1409 (Thompson) D-02-656 (Beckers) D-02-657 (Jones) D-03-116 (McGowan) D-03-212 (Bridgeman) D-03-213 (Harris) D-03-214 (Washington) D-03-362 (Bridgeforth) D-04-52 (Downing) D1-07-107 (Guity) ']"
      ]
     },
     "execution_count": 11,
     "metadata": {},
     "output_type": "execute_result"
    }
   ],
   "source": [
    "my_regex1 = r\"CASE NOS: (.*)  Appearance for Appellants:\"\n",
    "caseN = re.findall(my_regex1, text2)\n",
    "caseN"
   ]
  },
  {
   "cell_type": "code",
   "execution_count": 12,
   "metadata": {},
   "outputs": [
    {
     "data": {
      "text/plain": [
       "['Paul M. Stein']"
      ]
     },
     "execution_count": 12,
     "metadata": {},
     "output_type": "execute_result"
    }
   ],
   "source": [
    "my_regex2 = r\"Commissioner: (.*) DECISION\"\n",
    "comm = re.findall(my_regex2, text2)\n",
    "comm"
   ]
  }
 ],
 "metadata": {
  "kernelspec": {
   "display_name": "Python 3",
   "language": "python",
   "name": "python3"
  },
  "language_info": {
   "codemirror_mode": {
    "name": "ipython",
    "version": 3
   },
   "file_extension": ".py",
   "mimetype": "text/x-python",
   "name": "python",
   "nbconvert_exporter": "python",
   "pygments_lexer": "ipython3",
   "version": "3.6.1"
  }
 },
 "nbformat": 4,
 "nbformat_minor": 2
}
