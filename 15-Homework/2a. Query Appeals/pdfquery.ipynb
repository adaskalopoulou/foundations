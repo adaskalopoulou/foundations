{
 "cells": [
  {
   "cell_type": "code",
   "execution_count": 1,
   "metadata": {
    "collapsed": true
   },
   "outputs": [],
   "source": [
    "import pdfquery\n",
    "import pandas as pd"
   ]
  },
  {
   "cell_type": "code",
   "execution_count": 2,
   "metadata": {
    "collapsed": true
   },
   "outputs": [],
   "source": [
    "pdf = pdfquery.PDFQuery(\"4-9-13_mr3254_RES-page1.pdf\")\n",
    "pdf.load()"
   ]
  },
  {
   "cell_type": "code",
   "execution_count": 3,
   "metadata": {},
   "outputs": [
    {
     "data": {
      "text/plain": [
       "[<LTTextLineHorizontal>]"
      ]
     },
     "execution_count": 3,
     "metadata": {},
     "output_type": "execute_result"
    }
   ],
   "source": [
    "label = pdf.pq('LTTextLineHorizontal:contains(\"CASE NOS\")')\n",
    "label"
   ]
  },
  {
   "cell_type": "code",
   "execution_count": 4,
   "metadata": {},
   "outputs": [
    {
     "data": {
      "text/plain": [
       "'CASE NOS: D-01-1409 (Thompson)'"
      ]
     },
     "execution_count": 4,
     "metadata": {},
     "output_type": "execute_result"
    }
   ],
   "source": [
    "label.text()"
   ]
  },
  {
   "cell_type": "code",
   "execution_count": 7,
   "metadata": {
    "scrolled": true
   },
   "outputs": [
    {
     "data": {
      "text/plain": [
       "[{'Appearance for Appellants': 'D1-07-107 (Guity) Alan H. Shapiro, Esq. Jennifer E. Rubin, Esq. Sandulli Grace P.C. 44 School Street, Suite 1100 ppearance for Appellants:',\n",
       "  'Appearances for Respondent': 'One Boston Place, Suite 3220 Boston, MA 02108 elen G. Litsas, Esq. 44 School Street, Suite 1100 Boston, MA 02108 Michael Clarkson, Esq. Ogletree, Deakins, Nash, Smoak & Stewart, P.C. ppearances for Respondent: Law Office of Helen G. Litsas 22 Mill Street, Suite 408',\n",
       "  'Commissioner': 'Law Office of Helen G. Litsas 22 Mill Street, Suite 408 Arlington, MA 02476'}]"
      ]
     },
     "execution_count": 7,
     "metadata": {},
     "output_type": "execute_result"
    }
   ],
   "source": [
    "pdf = pdfquery.PDFQuery('4-9-13_mr3254_RES-page1.pdf')\n",
    "\n",
    "query=[]\n",
    "my_query = pdf.extract([\n",
    "\t('with_formatter', 'text'),\n",
    "\t('Appearance for Appellants', 'LTPage[pageid=\\'1\\'] LTTextLineHorizontal:overlaps_bbox(\"82,463,490,533\")'),\n",
    "\t('Appearances for Respondent', 'LTPage[pageid=\\'1\\'] LTTextLineHorizontal:overlaps_bbox(\"83,327,490,458\")'),\n",
    "\t('Commissioner', 'LTPage[pageid=\\'1\\'] LTTextLineHorizontal:overlaps_bbox(\"85,303,491,333\")')\n",
    "])\n",
    "\n",
    "query.append(my_query)\n",
    "query"
   ]
  },
  {
   "cell_type": "code",
   "execution_count": 8,
   "metadata": {},
   "outputs": [
    {
     "data": {
      "text/html": [
       "<div>\n",
       "<style>\n",
       "    .dataframe thead tr:only-child th {\n",
       "        text-align: right;\n",
       "    }\n",
       "\n",
       "    .dataframe thead th {\n",
       "        text-align: left;\n",
       "    }\n",
       "\n",
       "    .dataframe tbody tr th {\n",
       "        vertical-align: top;\n",
       "    }\n",
       "</style>\n",
       "<table border=\"1\" class=\"dataframe\">\n",
       "  <thead>\n",
       "    <tr style=\"text-align: right;\">\n",
       "      <th></th>\n",
       "      <th>Appearance for Appellants</th>\n",
       "      <th>Appearances for Respondent</th>\n",
       "      <th>Commissioner</th>\n",
       "    </tr>\n",
       "  </thead>\n",
       "  <tbody>\n",
       "    <tr>\n",
       "      <th>0</th>\n",
       "      <td>D1-07-107 (Guity) Alan H. Shapiro, Esq. Jennif...</td>\n",
       "      <td>One Boston Place, Suite 3220 Boston, MA 02108 ...</td>\n",
       "      <td>Law Office of Helen G. Litsas 22 Mill Street, ...</td>\n",
       "    </tr>\n",
       "  </tbody>\n",
       "</table>\n",
       "</div>"
      ],
      "text/plain": [
       "                           Appearance for Appellants  \\\n",
       "0  D1-07-107 (Guity) Alan H. Shapiro, Esq. Jennif...   \n",
       "\n",
       "                          Appearances for Respondent  \\\n",
       "0  One Boston Place, Suite 3220 Boston, MA 02108 ...   \n",
       "\n",
       "                                        Commissioner  \n",
       "0  Law Office of Helen G. Litsas 22 Mill Street, ...  "
      ]
     },
     "execution_count": 8,
     "metadata": {},
     "output_type": "execute_result"
    }
   ],
   "source": [
    "pd.DataFrame(query)"
   ]
  }
 ],
 "metadata": {
  "kernelspec": {
   "display_name": "Python 3",
   "language": "python",
   "name": "python3"
  },
  "language_info": {
   "codemirror_mode": {
    "name": "ipython",
    "version": 3
   },
   "file_extension": ".py",
   "mimetype": "text/x-python",
   "name": "python",
   "nbconvert_exporter": "python",
   "pygments_lexer": "ipython3",
   "version": "3.6.1"
  }
 },
 "nbformat": 4,
 "nbformat_minor": 2
}
