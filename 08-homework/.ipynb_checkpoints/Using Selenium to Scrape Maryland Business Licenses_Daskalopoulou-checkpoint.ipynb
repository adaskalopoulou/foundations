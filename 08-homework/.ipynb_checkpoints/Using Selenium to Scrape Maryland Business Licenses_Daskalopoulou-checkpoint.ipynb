{
 "cells": [
  {
   "cell_type": "markdown",
   "metadata": {},
   "source": [
    "# Scraping Maryland Business Licenses with Selenium\n",
    "\n",
    "Maryland has a [great portal](https://jportal.mdcourts.gov/license/pbPublicSearch.jsp) for searching business licenses, but the only problem is you have to check a box in order to get in.\n",
    "\n",
    "1. Try to visit [the public search page](https://jportal.mdcourts.gov/license/pbPublicSearch.jsp)\n",
    "2. Get redirected to a \"I agree to this\" page. Click that you've read the disclaimer, click Enter the Site.\n",
    "3. Click \"Search License Records\" down at the bottom of the page\n",
    "4. You're now on the search page! From the \"Jurisdiction\" dropdown, select \"Statewide\"\n",
    "5. In the \"Trade Name\" field, type \"Vap%\" to try to find vape shops\n",
    "6. Click \"Next\" in the bottom right-hand corner to go to the next page\n",
    "7. Click \"Click for detail\" to see the details for a specific business license.\n",
    "\n",
    "That's a lot of stuff! **Let's get to work.**"
   ]
  },
  {
   "cell_type": "code",
   "execution_count": 2,
   "metadata": {
    "collapsed": true
   },
   "outputs": [],
   "source": [
    "# vap%  / more results in page: click next until there is no more next /\n",
    "\n",
    "# TO TYPE ENTER: \n",
    "# from selenium.webdriver.common.keys import keys\n",
    "# element = driver.find_element_by_class_name(\"q\")\n",
    "# element.send_keys(Keys.return)\n",
    "\n",
    "# TO USE a SELECT:\n",
    "# from selenum.webdriver.support.ui import Select\n",
    "\n",
    "# select = Select(driver.find_element_by_name('phy_city') or _by_xpath\n",
    "# select = Select(select) ===> it makes it so you can do .select_...\n",
    "# select.select_by_visible_text('Houston')\n",
    "\n",
    "# ALWAYS PRESS THE NEXT BUTTON: ===> WHILELOOP\n",
    "# try:\n",
    "#     driver.find_element....\n",
    "#   except:\n",
    "#     pass\n",
    "    \n",
    "\n",
    "######### Grab the next button\n",
    "#count = 0\n",
    "#while True:\n",
    "#   count = count +1 \n",
    "    \n",
    "#count = 0\n",
    "#while True:\n",
    "#try:\n",
    "    # Hey to get that link and click it\n",
    "    #driver.get_the_thing(\"Next\").click()\n",
    "#   count = count +1 \n",
    "   #except:\n",
    "        # oh did you get an error? Exit the while loop\n",
    "        # break\n"
   ]
  },
  {
   "cell_type": "markdown",
   "metadata": {},
   "source": [
    "## Preparation\n",
    "\n",
    "### When you search for a business license, what URL should Selenium try to visit first?"
   ]
  },
  {
   "cell_type": "code",
   "execution_count": 3,
   "metadata": {
    "collapsed": true
   },
   "outputs": [],
   "source": [
    "# https://jportal.mdcourts.gov/license/pbPublicSearch.jsp"
   ]
  },
  {
   "cell_type": "markdown",
   "metadata": {},
   "source": [
    "**It isn't going to work, though! It's going to redirect to that intro page.** You can use *Incognito mode* to go back through the \"Check the box, etc\" series of pages.\n",
    "\n",
    "### How will you identify the checkbox to check it?\n",
    "\n",
    "Selenium can find elements by:\n",
    "\n",
    "- name\n",
    "- Class\n",
    "- ID\n",
    "- CSS selector (**ASK ME WHAT THIS IS** if you don't know)\n",
    "- XPath (**ASK ME WHAT THIS IS** because you definitely don't know)\n",
    "- Link text\n",
    "- Partial link text\n",
    "\n",
    "So in other words, what's unique about this element?\n",
    "\n",
    "- *TIP: I have a secret awesome way to do this, but you have to ask.*"
   ]
  },
  {
   "cell_type": "code",
   "execution_count": 4,
   "metadata": {
    "collapsed": true
   },
   "outputs": [],
   "source": [
    "# It has an id, which is: //*[@id=\"checkbox\"]"
   ]
  },
  {
   "cell_type": "markdown",
   "metadata": {},
   "source": [
    "### How will you identify the button to select it, or the form to submit it?\n",
    "\n",
    "Selenium can submit forms by either\n",
    "\n",
    "- Selecting the form and using `.submit()`, or\n",
    "- Selecting the button and using `.click()`\n",
    "\n",
    "You only need to be able to get **one, not both.**"
   ]
  },
  {
   "cell_type": "code",
   "execution_count": 5,
   "metadata": {
    "collapsed": true
   },
   "outputs": [],
   "source": [
    "# .submit() ==>  /html/body/table/tbody/tr[7]/td/form/div/input[2]"
   ]
  },
  {
   "cell_type": "markdown",
   "metadata": {},
   "source": [
    "### Once you're on the next page, how will you click the \"SEARCH LICENSE RECORDS\" link or follow its URL?"
   ]
  },
  {
   "cell_type": "code",
   "execution_count": 6,
   "metadata": {
    "collapsed": true
   },
   "outputs": [],
   "source": [
    "# 1) /html/body/table[2]/tbody/tr[6]/td[2]/a[2]\n",
    "# click()"
   ]
  },
  {
   "cell_type": "markdown",
   "metadata": {},
   "source": [
    "### Now you're on the form page. How do you pick \"Statewide\" for the jurisdiction dropdown?"
   ]
  },
  {
   "cell_type": "code",
   "execution_count": 7,
   "metadata": {
    "collapsed": true
   },
   "outputs": [],
   "source": [
    "# from selenum.webdriver.support.ui import Select\n",
    "\n",
    "# select = Select(driver.find_element_by_xpath('//*[@id=\"slcJurisdiction\"]')\n",
    "# select.select_by_visible_text('Statewide')"
   ]
  },
  {
   "cell_type": "markdown",
   "metadata": {},
   "source": [
    "### How do you type \"vap%\" into the Trade Name field?"
   ]
  },
  {
   "cell_type": "code",
   "execution_count": 8,
   "metadata": {
    "collapsed": true
   },
   "outputs": [],
   "source": [
    "#  search_input = driver.find_element_by_xpath('//*[@id=\"txtTradeName\"]')\n",
    "#  search_input.send_keys(\"vap%\")"
   ]
  },
  {
   "cell_type": "markdown",
   "metadata": {},
   "source": [
    "### How do you click the submit button or submit the form?"
   ]
  },
  {
   "cell_type": "code",
   "execution_count": 9,
   "metadata": {
    "collapsed": true
   },
   "outputs": [],
   "source": [
    "# go_button = driver.find_element_by_xpath('//*[@id=\"masthead\"]/div[5]/nav/form/div/div[2]/button[2]')\n",
    "# go_button.click()"
   ]
  },
  {
   "cell_type": "code",
   "execution_count": 10,
   "metadata": {
    "collapsed": true
   },
   "outputs": [],
   "source": [
    "#OR\n",
    "#driver.find_element_by_xpath('/html/body/table[2]/tbody/tr[4]/td[2]/form').submit()"
   ]
  },
  {
   "cell_type": "markdown",
   "metadata": {},
   "source": [
    "### How can you find and click the 'Next' button on the search results page?"
   ]
  },
  {
   "cell_type": "code",
   "execution_count": 11,
   "metadata": {
    "collapsed": true
   },
   "outputs": [],
   "source": [
    "# next_link = driver.find_element_by_xpath('/html/body/table[2]/tbody/tr[4]/td[2]/table[2]/tbody/tr/td[3]/a')\n",
    "# next_link.click()"
   ]
  },
  {
   "cell_type": "markdown",
   "metadata": {},
   "source": [
    "# Okay, let's scrape!\n",
    "\n",
    "### Use Selenium to search for vape shops statewide, and then click through until it reaches the last page.\n",
    "\n",
    "Don't scrape yet!"
   ]
  },
  {
   "cell_type": "code",
   "execution_count": 12,
   "metadata": {
    "collapsed": true
   },
   "outputs": [],
   "source": [
    "import selenium"
   ]
  },
  {
   "cell_type": "code",
   "execution_count": 13,
   "metadata": {
    "collapsed": true
   },
   "outputs": [],
   "source": [
    "from selenium import webdriver"
   ]
  },
  {
   "cell_type": "code",
   "execution_count": 14,
   "metadata": {
    "collapsed": true
   },
   "outputs": [],
   "source": [
    "from selenium.webdriver.support.ui import Select"
   ]
  },
  {
   "cell_type": "code",
   "execution_count": 15,
   "metadata": {
    "collapsed": true
   },
   "outputs": [],
   "source": [
    "import time\n"
   ]
  },
  {
   "cell_type": "code",
   "execution_count": 16,
   "metadata": {
    "collapsed": true
   },
   "outputs": [],
   "source": [
    "driver = webdriver.Chrome()"
   ]
  },
  {
   "cell_type": "code",
   "execution_count": 17,
   "metadata": {
    "collapsed": true
   },
   "outputs": [],
   "source": [
    "driver.get(\"https://jportal.mdcourts.gov/license/pbIndex.jsp?ac=y\")"
   ]
  },
  {
   "cell_type": "code",
   "execution_count": 18,
   "metadata": {
    "collapsed": true
   },
   "outputs": [],
   "source": [
    "driver.find_element_by_xpath('//*[@id=\"checkbox\"]').click()\n",
    "driver.find_element_by_xpath('/html/body/table/tbody/tr[7]/td/form/div/input[2]').click()"
   ]
  },
  {
   "cell_type": "code",
   "execution_count": 19,
   "metadata": {
    "collapsed": true
   },
   "outputs": [],
   "source": [
    "driver.find_element_by_xpath('/html/body/table[2]/tbody/tr[6]/td[2]/a[2]').click()"
   ]
  },
  {
   "cell_type": "code",
   "execution_count": 20,
   "metadata": {
    "collapsed": true
   },
   "outputs": [],
   "source": [
    "Select(driver.find_element_by_xpath('//*[@id=\"slcJurisdiction\"]')).select_by_visible_text('Statewide')"
   ]
  },
  {
   "cell_type": "code",
   "execution_count": 21,
   "metadata": {
    "collapsed": true
   },
   "outputs": [],
   "source": [
    "driver.find_element_by_xpath('//*[@id=\"txtTradeName\"]').send_keys('vap%')"
   ]
  },
  {
   "cell_type": "code",
   "execution_count": 22,
   "metadata": {
    "collapsed": true
   },
   "outputs": [],
   "source": [
    "driver.find_element_by_xpath('/html/body/table[2]/tbody/tr[4]/td[2]/form').submit()"
   ]
  },
  {
   "cell_type": "markdown",
   "metadata": {},
   "source": [
    "### Use Selenium to scrape the first page of search results for vape shops statewide (well, we'll try).\n",
    "\n",
    "- *TIP: You can find elements/text using Selenium, or use BeautifulSoup with `doc = BeautifulSoup(driver.page_source)`*\n",
    "\n",
    "I've included some BeautifulSoup code that might be helpful. If you use it, **ask me how I made it.** It's important."
   ]
  },
  {
   "cell_type": "code",
   "execution_count": 23,
   "metadata": {
    "collapsed": true
   },
   "outputs": [],
   "source": [
    "# from bs4 import BeautifulSoup"
   ]
  },
  {
   "cell_type": "code",
   "execution_count": 24,
   "metadata": {
    "collapsed": true
   },
   "outputs": [],
   "source": [
    "# # IF YOU ARE USING BEAUTIFULSOUP, HERE IS SOME SAMPLE CODE\n",
    "# # IF YOU USE THIS CODE, ASK ME HOW I MADE IT. IT'S IMPORTANT.\n",
    "# doc = BeautifulSoup(driver.page_source, 'html.parser')\n",
    "# business_headers = doc.find_all('tr',class_='searchfieldtitle')\n",
    "# len(business_headers) "
   ]
  },
  {
   "cell_type": "code",
   "execution_count": 25,
   "metadata": {
    "collapsed": true
   },
   "outputs": [],
   "source": [
    "# # You'll probably need to find specific tds inside\n",
    "# # of the rows instead of looking at the whole thing.\n",
    "# for header in business_headers:\n",
    "#     rows = header.find_next_siblings('tr')\n",
    "#     print(\"HEADER is\", header.text.strip())\n",
    "#     print(\"ROW 0 IS\", rows[0].text.strip())\n",
    "#     print(\"ROW 1 IS\", rows[1].text.strip())\n",
    "#     print(\"ROW 2 IS\", rows[2].text.strip())\n",
    "#     print(\"ROW 3 IS\", rows[3].text.strip())\n",
    "#     print(\"----\")"
   ]
  },
  {
   "cell_type": "code",
   "execution_count": 26,
   "metadata": {},
   "outputs": [
    {
     "data": {
      "text/plain": [
       "5"
      ]
     },
     "execution_count": 26,
     "metadata": {},
     "output_type": "execute_result"
    }
   ],
   "source": [
    "business_headers = driver.find_elements_by_class_name('searchlistitem')\n",
    "len(business_headers)"
   ]
  },
  {
   "cell_type": "code",
   "execution_count": 27,
   "metadata": {},
   "outputs": [
    {
     "name": "stdout",
     "output_type": "stream",
     "text": [
      "VAPE IT STORE I\n",
      "VAPE IT STORE II\n",
      "VAPEPAD THE\n",
      "VAPE FROG\n",
      "VAPE FROG\n"
     ]
    }
   ],
   "source": [
    "for name in business_headers:\n",
    "    print(name.text.strip())"
   ]
  },
  {
   "cell_type": "code",
   "execution_count": 28,
   "metadata": {},
   "outputs": [
    {
     "data": {
      "text/plain": [
       "[{'name': 'VAPE IT STORE I'},\n",
       " {'name': 'VAPE IT STORE II'},\n",
       " {'name': 'VAPEPAD THE'},\n",
       " {'name': 'VAPE FROG'},\n",
       " {'name': 'VAPE FROG'}]"
      ]
     },
     "execution_count": 28,
     "metadata": {},
     "output_type": "execute_result"
    }
   ],
   "source": [
    "business_list1 = []\n",
    "\n",
    "for name in business_headers:\n",
    "    business_list1.append({\n",
    "            'name': name.text\n",
    "        })\n",
    "    \n",
    "business_list1"
   ]
  },
  {
   "cell_type": "markdown",
   "metadata": {},
   "source": [
    "### Save these into `vape-results.csv`"
   ]
  },
  {
   "cell_type": "code",
   "execution_count": 29,
   "metadata": {},
   "outputs": [
    {
     "data": {
      "text/html": [
       "<div>\n",
       "<style>\n",
       "    .dataframe thead tr:only-child th {\n",
       "        text-align: right;\n",
       "    }\n",
       "\n",
       "    .dataframe thead th {\n",
       "        text-align: left;\n",
       "    }\n",
       "\n",
       "    .dataframe tbody tr th {\n",
       "        vertical-align: top;\n",
       "    }\n",
       "</style>\n",
       "<table border=\"1\" class=\"dataframe\">\n",
       "  <thead>\n",
       "    <tr style=\"text-align: right;\">\n",
       "      <th></th>\n",
       "      <th>name</th>\n",
       "    </tr>\n",
       "  </thead>\n",
       "  <tbody>\n",
       "    <tr>\n",
       "      <th>0</th>\n",
       "      <td>VAPE IT STORE I</td>\n",
       "    </tr>\n",
       "    <tr>\n",
       "      <th>1</th>\n",
       "      <td>VAPE IT STORE II</td>\n",
       "    </tr>\n",
       "    <tr>\n",
       "      <th>2</th>\n",
       "      <td>VAPEPAD THE</td>\n",
       "    </tr>\n",
       "    <tr>\n",
       "      <th>3</th>\n",
       "      <td>VAPE FROG</td>\n",
       "    </tr>\n",
       "    <tr>\n",
       "      <th>4</th>\n",
       "      <td>VAPE FROG</td>\n",
       "    </tr>\n",
       "  </tbody>\n",
       "</table>\n",
       "</div>"
      ],
      "text/plain": [
       "               name\n",
       "0   VAPE IT STORE I\n",
       "1  VAPE IT STORE II\n",
       "2       VAPEPAD THE\n",
       "3         VAPE FROG\n",
       "4         VAPE FROG"
      ]
     },
     "execution_count": 29,
     "metadata": {},
     "output_type": "execute_result"
    }
   ],
   "source": [
    "import pandas as pd\n",
    "df = pd.DataFrame(business_list1)\n",
    "df.head()"
   ]
  },
  {
   "cell_type": "code",
   "execution_count": 30,
   "metadata": {
    "collapsed": true
   },
   "outputs": [],
   "source": [
    "df.to_csv('vape-results.csv', index=False)"
   ]
  },
  {
   "cell_type": "markdown",
   "metadata": {},
   "source": [
    "### Open `vape-results.csv` to make sure there aren't any extra weird columns"
   ]
  },
  {
   "cell_type": "code",
   "execution_count": 31,
   "metadata": {},
   "outputs": [
    {
     "data": {
      "text/html": [
       "<div>\n",
       "<style>\n",
       "    .dataframe thead tr:only-child th {\n",
       "        text-align: right;\n",
       "    }\n",
       "\n",
       "    .dataframe thead th {\n",
       "        text-align: left;\n",
       "    }\n",
       "\n",
       "    .dataframe tbody tr th {\n",
       "        vertical-align: top;\n",
       "    }\n",
       "</style>\n",
       "<table border=\"1\" class=\"dataframe\">\n",
       "  <thead>\n",
       "    <tr style=\"text-align: right;\">\n",
       "      <th></th>\n",
       "      <th>name</th>\n",
       "    </tr>\n",
       "  </thead>\n",
       "  <tbody>\n",
       "    <tr>\n",
       "      <th>0</th>\n",
       "      <td>VAPE IT STORE I</td>\n",
       "    </tr>\n",
       "    <tr>\n",
       "      <th>1</th>\n",
       "      <td>VAPE IT STORE II</td>\n",
       "    </tr>\n",
       "    <tr>\n",
       "      <th>2</th>\n",
       "      <td>VAPEPAD THE</td>\n",
       "    </tr>\n",
       "    <tr>\n",
       "      <th>3</th>\n",
       "      <td>VAPE FROG</td>\n",
       "    </tr>\n",
       "    <tr>\n",
       "      <th>4</th>\n",
       "      <td>VAPE FROG</td>\n",
       "    </tr>\n",
       "  </tbody>\n",
       "</table>\n",
       "</div>"
      ],
      "text/plain": [
       "               name\n",
       "0   VAPE IT STORE I\n",
       "1  VAPE IT STORE II\n",
       "2       VAPEPAD THE\n",
       "3         VAPE FROG\n",
       "4         VAPE FROG"
      ]
     },
     "execution_count": 31,
     "metadata": {},
     "output_type": "execute_result"
    }
   ],
   "source": [
    "pd.read_csv('vape-results.csv')"
   ]
  },
  {
   "cell_type": "markdown",
   "metadata": {},
   "source": [
    "## Use Selenium to scrape ALL pages of results, save the results into `vape-results-all.csv`."
   ]
  },
  {
   "cell_type": "code",
   "execution_count": 32,
   "metadata": {},
   "outputs": [
    {
     "data": {
      "text/plain": [
       "[{'name': 'VAPE IT STORE I'},\n",
       " {'name': 'VAPE IT STORE II'},\n",
       " {'name': 'VAPEPAD THE'},\n",
       " {'name': 'VAPE FROG'},\n",
       " {'name': 'VAPE FROG'},\n",
       " {'name': 'VAPE LOFT (THE)'},\n",
       " {'name': 'VAPE N CIGAR'},\n",
       " {'name': 'VAPE DOJO'},\n",
       " {'name': 'VAPE HAVEN'},\n",
       " {'name': 'VAPE BIRD'},\n",
       " {'name': 'VAPE FROG'},\n",
       " {'name': 'VAPORS LOUNGE'},\n",
       " {'name': 'VAPORS LOUNGE'},\n",
       " {'name': 'VAPIST MD'},\n",
       " {'name': 'VAPIST MD LLC'},\n",
       " {'name': 'VAPERTETMD'},\n",
       " {'name': 'VAPERTEKMD'},\n",
       " {'name': 'VAPORIOT'},\n",
       " {'name': 'VAPE PLUS'},\n",
       " {'name': 'VAPE SOCIAL'},\n",
       " {'name': 'VAPE JUNGLE'},\n",
       " {'name': 'VAPE TIME'},\n",
       " {'name': 'VAPEBAR EXPESS'},\n",
       " {'name': 'VAPOR 99'},\n",
       " {'name': 'VAPOR ALLEY'},\n",
       " {'name': 'VAPOR EMPORIUM'},\n",
       " {'name': 'VAPOR VILLA'},\n",
       " {'name': 'VAPOR VILLA'},\n",
       " {'name': 'VAPE DOJO'},\n",
       " {'name': 'VAPE DOJO'},\n",
       " {'name': 'VAPE DOJO'},\n",
       " {'name': 'VAPEZ YARDHOUSE'}]"
      ]
     },
     "execution_count": 32,
     "metadata": {},
     "output_type": "execute_result"
    }
   ],
   "source": [
    "business_list = []\n",
    "\n",
    "while True:\n",
    "    business_headers = driver.find_elements_by_class_name('searchlistitem')\n",
    "\n",
    "    for name in business_headers:\n",
    "        business_list.append({\n",
    "            'name': name.text\n",
    "        })\n",
    "    if len(driver.find_elements_by_xpath('/html/body/table[2]/tbody/tr[4]/td[2]/table[2]/tbody/tr/td[3]/a')) > 0:\n",
    "        time.sleep(1)\n",
    "        driver.find_element_by_xpath('/html/body/table[2]/tbody/tr[4]/td[2]/table[2]/tbody/tr/td[3]/a').click()\n",
    "    else:\n",
    "        break\n",
    "\n",
    "business_list"
   ]
  },
  {
   "cell_type": "code",
   "execution_count": 33,
   "metadata": {},
   "outputs": [
    {
     "data": {
      "text/plain": [
       "32"
      ]
     },
     "execution_count": 33,
     "metadata": {},
     "output_type": "execute_result"
    }
   ],
   "source": [
    "len(business_list)"
   ]
  },
  {
   "cell_type": "code",
   "execution_count": 34,
   "metadata": {},
   "outputs": [
    {
     "data": {
      "text/html": [
       "<div>\n",
       "<style>\n",
       "    .dataframe thead tr:only-child th {\n",
       "        text-align: right;\n",
       "    }\n",
       "\n",
       "    .dataframe thead th {\n",
       "        text-align: left;\n",
       "    }\n",
       "\n",
       "    .dataframe tbody tr th {\n",
       "        vertical-align: top;\n",
       "    }\n",
       "</style>\n",
       "<table border=\"1\" class=\"dataframe\">\n",
       "  <thead>\n",
       "    <tr style=\"text-align: right;\">\n",
       "      <th></th>\n",
       "      <th>name</th>\n",
       "    </tr>\n",
       "  </thead>\n",
       "  <tbody>\n",
       "    <tr>\n",
       "      <th>0</th>\n",
       "      <td>VAPE IT STORE I</td>\n",
       "    </tr>\n",
       "    <tr>\n",
       "      <th>1</th>\n",
       "      <td>VAPE IT STORE II</td>\n",
       "    </tr>\n",
       "    <tr>\n",
       "      <th>2</th>\n",
       "      <td>VAPEPAD THE</td>\n",
       "    </tr>\n",
       "    <tr>\n",
       "      <th>3</th>\n",
       "      <td>VAPE FROG</td>\n",
       "    </tr>\n",
       "    <tr>\n",
       "      <th>4</th>\n",
       "      <td>VAPE FROG</td>\n",
       "    </tr>\n",
       "  </tbody>\n",
       "</table>\n",
       "</div>"
      ],
      "text/plain": [
       "               name\n",
       "0   VAPE IT STORE I\n",
       "1  VAPE IT STORE II\n",
       "2       VAPEPAD THE\n",
       "3         VAPE FROG\n",
       "4         VAPE FROG"
      ]
     },
     "execution_count": 34,
     "metadata": {},
     "output_type": "execute_result"
    }
   ],
   "source": [
    "df2 = pd.DataFrame(business_list)\n",
    "df2.head()"
   ]
  },
  {
   "cell_type": "code",
   "execution_count": 43,
   "metadata": {},
   "outputs": [],
   "source": [
    "df2.to_csv('vape-results-all.csv', index=False)"
   ]
  },
  {
   "cell_type": "code",
   "execution_count": 44,
   "metadata": {},
   "outputs": [
    {
     "data": {
      "text/html": [
       "<div>\n",
       "<style>\n",
       "    .dataframe thead tr:only-child th {\n",
       "        text-align: right;\n",
       "    }\n",
       "\n",
       "    .dataframe thead th {\n",
       "        text-align: left;\n",
       "    }\n",
       "\n",
       "    .dataframe tbody tr th {\n",
       "        vertical-align: top;\n",
       "    }\n",
       "</style>\n",
       "<table border=\"1\" class=\"dataframe\">\n",
       "  <thead>\n",
       "    <tr style=\"text-align: right;\">\n",
       "      <th></th>\n",
       "      <th>name</th>\n",
       "    </tr>\n",
       "  </thead>\n",
       "  <tbody>\n",
       "    <tr>\n",
       "      <th>0</th>\n",
       "      <td>VAPE IT STORE I</td>\n",
       "    </tr>\n",
       "    <tr>\n",
       "      <th>1</th>\n",
       "      <td>VAPE IT STORE II</td>\n",
       "    </tr>\n",
       "    <tr>\n",
       "      <th>2</th>\n",
       "      <td>VAPEPAD THE</td>\n",
       "    </tr>\n",
       "    <tr>\n",
       "      <th>3</th>\n",
       "      <td>VAPE FROG</td>\n",
       "    </tr>\n",
       "    <tr>\n",
       "      <th>4</th>\n",
       "      <td>VAPE FROG</td>\n",
       "    </tr>\n",
       "    <tr>\n",
       "      <th>5</th>\n",
       "      <td>VAPE LOFT (THE)</td>\n",
       "    </tr>\n",
       "    <tr>\n",
       "      <th>6</th>\n",
       "      <td>VAPE N CIGAR</td>\n",
       "    </tr>\n",
       "    <tr>\n",
       "      <th>7</th>\n",
       "      <td>VAPE DOJO</td>\n",
       "    </tr>\n",
       "    <tr>\n",
       "      <th>8</th>\n",
       "      <td>VAPE HAVEN</td>\n",
       "    </tr>\n",
       "    <tr>\n",
       "      <th>9</th>\n",
       "      <td>VAPE BIRD</td>\n",
       "    </tr>\n",
       "    <tr>\n",
       "      <th>10</th>\n",
       "      <td>VAPE FROG</td>\n",
       "    </tr>\n",
       "    <tr>\n",
       "      <th>11</th>\n",
       "      <td>VAPORS LOUNGE</td>\n",
       "    </tr>\n",
       "    <tr>\n",
       "      <th>12</th>\n",
       "      <td>VAPORS LOUNGE</td>\n",
       "    </tr>\n",
       "    <tr>\n",
       "      <th>13</th>\n",
       "      <td>VAPIST MD</td>\n",
       "    </tr>\n",
       "    <tr>\n",
       "      <th>14</th>\n",
       "      <td>VAPIST MD LLC</td>\n",
       "    </tr>\n",
       "    <tr>\n",
       "      <th>15</th>\n",
       "      <td>VAPERTETMD</td>\n",
       "    </tr>\n",
       "    <tr>\n",
       "      <th>16</th>\n",
       "      <td>VAPERTEKMD</td>\n",
       "    </tr>\n",
       "    <tr>\n",
       "      <th>17</th>\n",
       "      <td>VAPORIOT</td>\n",
       "    </tr>\n",
       "    <tr>\n",
       "      <th>18</th>\n",
       "      <td>VAPE PLUS</td>\n",
       "    </tr>\n",
       "    <tr>\n",
       "      <th>19</th>\n",
       "      <td>VAPE SOCIAL</td>\n",
       "    </tr>\n",
       "    <tr>\n",
       "      <th>20</th>\n",
       "      <td>VAPE JUNGLE</td>\n",
       "    </tr>\n",
       "    <tr>\n",
       "      <th>21</th>\n",
       "      <td>VAPE TIME</td>\n",
       "    </tr>\n",
       "    <tr>\n",
       "      <th>22</th>\n",
       "      <td>VAPEBAR EXPESS</td>\n",
       "    </tr>\n",
       "    <tr>\n",
       "      <th>23</th>\n",
       "      <td>VAPOR 99</td>\n",
       "    </tr>\n",
       "    <tr>\n",
       "      <th>24</th>\n",
       "      <td>VAPOR ALLEY</td>\n",
       "    </tr>\n",
       "    <tr>\n",
       "      <th>25</th>\n",
       "      <td>VAPOR EMPORIUM</td>\n",
       "    </tr>\n",
       "    <tr>\n",
       "      <th>26</th>\n",
       "      <td>VAPOR VILLA</td>\n",
       "    </tr>\n",
       "    <tr>\n",
       "      <th>27</th>\n",
       "      <td>VAPOR VILLA</td>\n",
       "    </tr>\n",
       "    <tr>\n",
       "      <th>28</th>\n",
       "      <td>VAPE DOJO</td>\n",
       "    </tr>\n",
       "    <tr>\n",
       "      <th>29</th>\n",
       "      <td>VAPE DOJO</td>\n",
       "    </tr>\n",
       "    <tr>\n",
       "      <th>30</th>\n",
       "      <td>VAPE DOJO</td>\n",
       "    </tr>\n",
       "    <tr>\n",
       "      <th>31</th>\n",
       "      <td>VAPEZ YARDHOUSE</td>\n",
       "    </tr>\n",
       "  </tbody>\n",
       "</table>\n",
       "</div>"
      ],
      "text/plain": [
       "                name\n",
       "0    VAPE IT STORE I\n",
       "1   VAPE IT STORE II\n",
       "2        VAPEPAD THE\n",
       "3          VAPE FROG\n",
       "4          VAPE FROG\n",
       "5    VAPE LOFT (THE)\n",
       "6       VAPE N CIGAR\n",
       "7          VAPE DOJO\n",
       "8         VAPE HAVEN\n",
       "9          VAPE BIRD\n",
       "10         VAPE FROG\n",
       "11     VAPORS LOUNGE\n",
       "12     VAPORS LOUNGE\n",
       "13         VAPIST MD\n",
       "14     VAPIST MD LLC\n",
       "15        VAPERTETMD\n",
       "16        VAPERTEKMD\n",
       "17          VAPORIOT\n",
       "18         VAPE PLUS\n",
       "19       VAPE SOCIAL\n",
       "20       VAPE JUNGLE\n",
       "21         VAPE TIME\n",
       "22    VAPEBAR EXPESS\n",
       "23          VAPOR 99\n",
       "24       VAPOR ALLEY\n",
       "25    VAPOR EMPORIUM\n",
       "26       VAPOR VILLA\n",
       "27       VAPOR VILLA\n",
       "28         VAPE DOJO\n",
       "29         VAPE DOJO\n",
       "30         VAPE DOJO\n",
       "31   VAPEZ YARDHOUSE"
      ]
     },
     "execution_count": 44,
     "metadata": {},
     "output_type": "execute_result"
    }
   ],
   "source": [
    "pd.read_csv('vape-results-all.csv')"
   ]
  },
  {
   "cell_type": "markdown",
   "metadata": {},
   "source": [
    "## Also CLICK FOR DETAIL"
   ]
  },
  {
   "cell_type": "code",
   "execution_count": 35,
   "metadata": {},
   "outputs": [
    {
     "data": {
      "text/plain": [
       "[{'name': 'VAPE DOJO'}, {'name': 'VAPEZ YARDHOUSE'}]"
      ]
     },
     "execution_count": 35,
     "metadata": {},
     "output_type": "execute_result"
    }
   ],
   "source": [
    "business_list = []\n",
    "\n",
    "while True:\n",
    "    business_headers = driver.find_elements_by_class_name('searchlistitem')\n",
    "\n",
    "    for name in business_headers:\n",
    "        business_list.append({\n",
    "            'name': name.text\n",
    "        })\n",
    "    if len(driver.find_elements_by_xpath('/html/body/table[2]/tbody/tr[4]/td[2]/table[2]/tbody/tr/td[3]/a')) > 0:\n",
    "        time.sleep(1)\n",
    "        driver.find_element_by_xpath('/html/body/table[2]/tbody/tr[4]/td[2]/table[2]/tbody/tr/td[3]/a').click()\n",
    "    else:\n",
    "        break\n",
    "\n",
    "business_list"
   ]
  },
  {
   "cell_type": "code",
   "execution_count": null,
   "metadata": {
    "collapsed": true
   },
   "outputs": [],
   "source": []
  },
  {
   "cell_type": "code",
   "execution_count": null,
   "metadata": {
    "collapsed": true
   },
   "outputs": [],
   "source": []
  },
  {
   "cell_type": "code",
   "execution_count": 36,
   "metadata": {
    "collapsed": true
   },
   "outputs": [],
   "source": [
    "from bs4 import BeautifulSoup"
   ]
  },
  {
   "cell_type": "code",
   "execution_count": 37,
   "metadata": {},
   "outputs": [
    {
     "data": {
      "text/plain": [
       "'pbIndex.jsp'"
      ]
     },
     "execution_count": 37,
     "metadata": {},
     "output_type": "execute_result"
    }
   ],
   "source": [
    "doc = BeautifulSoup(driver.page_source, 'html.parser')\n",
    "business_links = doc.find('a')['href']\n",
    "business_links"
   ]
  },
  {
   "cell_type": "code",
   "execution_count": 38,
   "metadata": {},
   "outputs": [
    {
     "data": {
      "text/plain": [
       "2"
      ]
     },
     "execution_count": 38,
     "metadata": {},
     "output_type": "execute_result"
    }
   ],
   "source": [
    "doc = BeautifulSoup(driver.page_source, 'html.parser')\n",
    "business_headers = doc.find_all('tr',class_='searchfieldtitle')\n",
    "len(business_headers) "
   ]
  },
  {
   "cell_type": "code",
   "execution_count": 39,
   "metadata": {},
   "outputs": [
    {
     "ename": "IndentationError",
     "evalue": "expected an indented block (<ipython-input-39-28df8c42df00>, line 6)",
     "output_type": "error",
     "traceback": [
      "\u001b[0;36m  File \u001b[0;32m\"<ipython-input-39-28df8c42df00>\"\u001b[0;36m, line \u001b[0;32m6\u001b[0m\n\u001b[0;31m    print(\"HEADER is\", header.find_all('a')['href'].strip())\u001b[0m\n\u001b[0m        ^\u001b[0m\n\u001b[0;31mIndentationError\u001b[0m\u001b[0;31m:\u001b[0m expected an indented block\n"
     ]
    }
   ],
   "source": [
    "# You'll probably need to find specific tds inside\n",
    "# of the rows instead of looking at the whole thing.\n",
    "for link in business_links:\n",
    "    rows = header.find_next_siblings('tr')\n",
    "    if header:\n",
    "    print(\"HEADER is\", header.find_all('a')['href'].strip())\n",
    "    print(\"ROW 0 IS\", rows[0].text.strip())\n",
    "    print(\"ROW 1 IS\", rows[1].text.strip())\n",
    "    print(\"ROW 2 IS\", rows[2].text.strip())\n",
    "    print(\"ROW 3 IS\", rows[3].text.strip())\n",
    "    print(\"----\")"
   ]
  },
  {
   "cell_type": "code",
   "execution_count": null,
   "metadata": {},
   "outputs": [],
   "source": [
    "business_links = driver.find_elements_by_xpath(''/html/body/table[2]/tbody/tr[4]/td[2]/table[1]/tbody')\n",
    "len(business_links)\n",
    "                                               \n"
   ]
  },
  {
   "cell_type": "code",
   "execution_count": null,
   "metadata": {
    "collapsed": true
   },
   "outputs": [],
   "source": [
    "for name in business_headers:\n",
    "    print(name.text.strip())"
   ]
  },
  {
   "cell_type": "code",
   "execution_count": null,
   "metadata": {
    "collapsed": true
   },
   "outputs": [],
   "source": []
  }
 ],
 "metadata": {
  "kernelspec": {
   "display_name": "Python 3",
   "language": "python",
   "name": "python3"
  },
  "language_info": {
   "codemirror_mode": {
    "name": "ipython",
    "version": 3
   },
   "file_extension": ".py",
   "mimetype": "text/x-python",
   "name": "python",
   "nbconvert_exporter": "python",
   "pygments_lexer": "ipython3",
   "version": "3.6.1"
  }
 },
 "nbformat": 4,
 "nbformat_minor": 2
}
