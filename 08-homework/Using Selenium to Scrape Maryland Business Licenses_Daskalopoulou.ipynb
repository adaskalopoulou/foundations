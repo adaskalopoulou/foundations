{
 "cells": [
  {
   "cell_type": "markdown",
   "metadata": {},
   "source": [
    "# Scraping Maryland Business Licenses with Selenium\n",
    "\n",
    "Maryland has a [great portal](https://jportal.mdcourts.gov/license/pbPublicSearch.jsp) for searching business licenses, but the only problem is you have to check a box in order to get in.\n",
    "\n",
    "1. Try to visit [the public search page](https://jportal.mdcourts.gov/license/pbPublicSearch.jsp)\n",
    "2. Get redirected to a \"I agree to this\" page. Click that you've read the disclaimer, click Enter the Site.\n",
    "3. Click \"Search License Records\" down at the bottom of the page\n",
    "4. You're now on the search page! From the \"Jurisdiction\" dropdown, select \"Statewide\"\n",
    "5. In the \"Trade Name\" field, type \"Vap%\" to try to find vape shops\n",
    "6. Click \"Next\" in the bottom right-hand corner to go to the next page\n",
    "7. Click \"Click for detail\" to see the details for a specific business license.\n",
    "\n",
    "That's a lot of stuff! **Let's get to work.**"
   ]
  },
  {
   "cell_type": "code",
   "execution_count": 2,
   "metadata": {
    "collapsed": true
   },
   "outputs": [],
   "source": [
    "# vap%  / more results in page: click next until there is no more next /\n",
    "\n",
    "# TO TYPE ENTER: \n",
    "# from selenium.webdriver.common.keys import keys\n",
    "# element = driver.find_element_by_class_name(\"q\")\n",
    "# element.send_keys(Keys.return)\n",
    "\n",
    "# TO USE a SELECT:\n",
    "# from selenum.webdriver.support.ui import Select\n",
    "\n",
    "# select = Select(driver.find_element_by_name('phy_city') or _by_xpath\n",
    "# select = Select(select) ===> it makes it so you can do .select_...\n",
    "# select.select_by_visible_text('Houston')\n",
    "\n",
    "# ALWAYS PRESS THE NEXT BUTTON: ===> WHILELOOP\n",
    "# try:\n",
    "#     driver.find_element....\n",
    "#   except:\n",
    "#     pass\n",
    "    \n",
    "\n",
    "######### Grab the next button\n",
    "#count = 0\n",
    "#while True:\n",
    "#   count = count +1 \n",
    "    \n",
    "#count = 0\n",
    "#while True:\n",
    "#try:\n",
    "    # Hey to get that link and click it\n",
    "    #driver.get_the_thing(\"Next\").click()\n",
    "#   count = count +1 \n",
    "   #except:\n",
    "        # oh did you get an error? Exit the while loop\n",
    "        # break\n"
   ]
  },
  {
   "cell_type": "markdown",
   "metadata": {},
   "source": [
    "## Preparation\n",
    "\n",
    "### When you search for a business license, what URL should Selenium try to visit first?"
   ]
  },
  {
   "cell_type": "code",
   "execution_count": 3,
   "metadata": {
    "collapsed": true
   },
   "outputs": [],
   "source": [
    "# https://jportal.mdcourts.gov/license/pbPublicSearch.jsp"
   ]
  },
  {
   "cell_type": "markdown",
   "metadata": {},
   "source": [
    "**It isn't going to work, though! It's going to redirect to that intro page.** You can use *Incognito mode* to go back through the \"Check the box, etc\" series of pages.\n",
    "\n",
    "### How will you identify the checkbox to check it?\n",
    "\n",
    "Selenium can find elements by:\n",
    "\n",
    "- name\n",
    "- Class\n",
    "- ID\n",
    "- CSS selector (**ASK ME WHAT THIS IS** if you don't know)\n",
    "- XPath (**ASK ME WHAT THIS IS** because you definitely don't know)\n",
    "- Link text\n",
    "- Partial link text\n",
    "\n",
    "So in other words, what's unique about this element?\n",
    "\n",
    "- *TIP: I have a secret awesome way to do this, but you have to ask.*"
   ]
  },
  {
   "cell_type": "code",
   "execution_count": 4,
   "metadata": {
    "collapsed": true
   },
   "outputs": [],
   "source": [
    "# It has an id, which is: //*[@id=\"checkbox\"]"
   ]
  },
  {
   "cell_type": "markdown",
   "metadata": {},
   "source": [
    "### How will you identify the button to select it, or the form to submit it?\n",
    "\n",
    "Selenium can submit forms by either\n",
    "\n",
    "- Selecting the form and using `.submit()`, or\n",
    "- Selecting the button and using `.click()`\n",
    "\n",
    "You only need to be able to get **one, not both.**"
   ]
  },
  {
   "cell_type": "code",
   "execution_count": 5,
   "metadata": {
    "collapsed": true
   },
   "outputs": [],
   "source": [
    "# .submit() ==>  /html/body/table/tbody/tr[7]/td/form/div/input[2]"
   ]
  },
  {
   "cell_type": "markdown",
   "metadata": {},
   "source": [
    "### Once you're on the next page, how will you click the \"SEARCH LICENSE RECORDS\" link or follow its URL?"
   ]
  },
  {
   "cell_type": "code",
   "execution_count": 6,
   "metadata": {
    "collapsed": true
   },
   "outputs": [],
   "source": [
    "# 1) /html/body/table[2]/tbody/tr[6]/td[2]/a[2]\n",
    "# click()"
   ]
  },
  {
   "cell_type": "markdown",
   "metadata": {},
   "source": [
    "### Now you're on the form page. How do you pick \"Statewide\" for the jurisdiction dropdown?"
   ]
  },
  {
   "cell_type": "code",
   "execution_count": 7,
   "metadata": {
    "collapsed": true
   },
   "outputs": [],
   "source": [
    "# from selenum.webdriver.support.ui import Select\n",
    "\n",
    "# select = Select(driver.find_element_by_xpath('//*[@id=\"slcJurisdiction\"]')\n",
    "# select.select_by_visible_text('Statewide')"
   ]
  },
  {
   "cell_type": "markdown",
   "metadata": {},
   "source": [
    "### How do you type \"vap%\" into the Trade Name field?"
   ]
  },
  {
   "cell_type": "code",
   "execution_count": 8,
   "metadata": {
    "collapsed": true
   },
   "outputs": [],
   "source": [
    "#  search_input = driver.find_element_by_xpath('//*[@id=\"txtTradeName\"]')\n",
    "#  search_input.send_keys(\"vap%\")"
   ]
  },
  {
   "cell_type": "markdown",
   "metadata": {},
   "source": [
    "### How do you click the submit button or submit the form?"
   ]
  },
  {
   "cell_type": "code",
   "execution_count": 9,
   "metadata": {
    "collapsed": true
   },
   "outputs": [],
   "source": [
    "# go_button = driver.find_element_by_xpath('//*[@id=\"masthead\"]/div[5]/nav/form/div/div[2]/button[2]')\n",
    "# go_button.click()"
   ]
  },
  {
   "cell_type": "code",
   "execution_count": 10,
   "metadata": {
    "collapsed": true
   },
   "outputs": [],
   "source": [
    "#OR\n",
    "#driver.find_element_by_xpath('/html/body/table[2]/tbody/tr[4]/td[2]/form').submit()"
   ]
  },
  {
   "cell_type": "markdown",
   "metadata": {},
   "source": [
    "### How can you find and click the 'Next' button on the search results page?"
   ]
  },
  {
   "cell_type": "code",
   "execution_count": 11,
   "metadata": {
    "collapsed": true
   },
   "outputs": [],
   "source": [
    "# next_link = driver.find_element_by_xpath('/html/body/table[2]/tbody/tr[4]/td[2]/table[2]/tbody/tr/td[3]/a')\n",
    "# next_link.click()"
   ]
  },
  {
   "cell_type": "markdown",
   "metadata": {},
   "source": [
    "# Okay, let's scrape!\n",
    "\n",
    "### Use Selenium to search for vape shops statewide, and then click through until it reaches the last page.\n",
    "\n",
    "Don't scrape yet!"
   ]
  },
  {
   "cell_type": "code",
   "execution_count": 2,
   "metadata": {
    "collapsed": true
   },
   "outputs": [],
   "source": [
    "import selenium"
   ]
  },
  {
   "cell_type": "code",
   "execution_count": 3,
   "metadata": {
    "collapsed": true
   },
   "outputs": [],
   "source": [
    "from selenium import webdriver"
   ]
  },
  {
   "cell_type": "code",
   "execution_count": 4,
   "metadata": {
    "collapsed": true
   },
   "outputs": [],
   "source": [
    "from selenium.webdriver.support.ui import Select"
   ]
  },
  {
   "cell_type": "code",
   "execution_count": 5,
   "metadata": {
    "collapsed": true
   },
   "outputs": [],
   "source": [
    "import time\n"
   ]
  },
  {
   "cell_type": "code",
   "execution_count": 7,
   "metadata": {},
   "outputs": [],
   "source": [
    "driver = webdriver.Chrome()"
   ]
  },
  {
   "cell_type": "code",
   "execution_count": 8,
   "metadata": {
    "collapsed": true
   },
   "outputs": [],
   "source": [
    "driver.get(\"https://jportal.mdcourts.gov/license/pbIndex.jsp?ac=y\")"
   ]
  },
  {
   "cell_type": "code",
   "execution_count": 9,
   "metadata": {
    "collapsed": true
   },
   "outputs": [],
   "source": [
    "driver.find_element_by_xpath('//*[@id=\"checkbox\"]').click()\n",
    "driver.find_element_by_xpath('/html/body/table/tbody/tr[7]/td/form/div/input[2]').click()"
   ]
  },
  {
   "cell_type": "code",
   "execution_count": 10,
   "metadata": {
    "collapsed": true
   },
   "outputs": [],
   "source": [
    "driver.find_element_by_xpath('/html/body/table[2]/tbody/tr[6]/td[2]/a[2]').click()"
   ]
  },
  {
   "cell_type": "code",
   "execution_count": 11,
   "metadata": {
    "collapsed": true
   },
   "outputs": [],
   "source": [
    "Select(driver.find_element_by_xpath('//*[@id=\"slcJurisdiction\"]')).select_by_visible_text('Statewide')"
   ]
  },
  {
   "cell_type": "code",
   "execution_count": 12,
   "metadata": {
    "collapsed": true
   },
   "outputs": [],
   "source": [
    "driver.find_element_by_xpath('//*[@id=\"txtTradeName\"]').send_keys('vap%')"
   ]
  },
  {
   "cell_type": "code",
   "execution_count": 13,
   "metadata": {
    "collapsed": true
   },
   "outputs": [],
   "source": [
    "driver.find_element_by_xpath('/html/body/table[2]/tbody/tr[4]/td[2]/form').submit()"
   ]
  },
  {
   "cell_type": "markdown",
   "metadata": {},
   "source": [
    "### Use Selenium to scrape the first page of search results for vape shops statewide (well, we'll try).\n",
    "\n",
    "- *TIP: You can find elements/text using Selenium, or use BeautifulSoup with `doc = BeautifulSoup(driver.page_source)`*\n",
    "\n",
    "I've included some BeautifulSoup code that might be helpful. If you use it, **ask me how I made it.** It's important."
   ]
  },
  {
   "cell_type": "code",
   "execution_count": 36,
   "metadata": {
    "collapsed": true
   },
   "outputs": [],
   "source": [
    "# from bs4 import BeautifulSoup"
   ]
  },
  {
   "cell_type": "code",
   "execution_count": 37,
   "metadata": {},
   "outputs": [],
   "source": [
    "# doc = BeautifulSoup(driver.page_source, 'html.parser')\n",
    "# business_headers = doc.find_all('tr',class_='searchfieldtitle')\n",
    "# len(business_headers) "
   ]
  },
  {
   "cell_type": "code",
   "execution_count": 16,
   "metadata": {
    "collapsed": true
   },
   "outputs": [],
   "source": [
    "# # You'll probably need to find specific tds inside\n",
    "# # of the rows instead of looking at the whole thing.\n",
    "# for header in business_headers:\n",
    "#     rows = header.find_next_siblings('tr')\n",
    "#     print(\"HEADER is\", header.text.strip())\n",
    "#     print(\"ROW 0 IS\", rows[0].text.strip())\n",
    "#     print(\"ROW 1 IS\", rows[1].text.strip())\n",
    "#     print(\"ROW 2 IS\", rows[2].text.strip())\n",
    "#     print(\"ROW 3 IS\", rows[3].text.strip())\n",
    "#     print(\"----\")"
   ]
  },
  {
   "cell_type": "code",
   "execution_count": 17,
   "metadata": {
    "scrolled": true
   },
   "outputs": [
    {
     "data": {
      "text/plain": [
       "5"
      ]
     },
     "execution_count": 17,
     "metadata": {},
     "output_type": "execute_result"
    }
   ],
   "source": [
    "business_headers = driver.find_elements_by_class_name('searchlistitem')\n",
    "len(business_headers)"
   ]
  },
  {
   "cell_type": "code",
   "execution_count": 18,
   "metadata": {},
   "outputs": [
    {
     "name": "stdout",
     "output_type": "stream",
     "text": [
      "VAPE IT STORE I\n",
      "VAPE IT STORE II\n",
      "VAPEPAD THE\n",
      "VAPE FROG\n",
      "VAPE FROG\n"
     ]
    }
   ],
   "source": [
    "for name in business_headers:\n",
    "    print(name.text.strip())"
   ]
  },
  {
   "cell_type": "code",
   "execution_count": 40,
   "metadata": {},
   "outputs": [
    {
     "ename": "TypeError",
     "evalue": "'WebElement' object is not iterable",
     "output_type": "error",
     "traceback": [
      "\u001b[0;31m---------------------------------------------------------------------------\u001b[0m",
      "\u001b[0;31mTypeError\u001b[0m                                 Traceback (most recent call last)",
      "\u001b[0;32m<ipython-input-40-91e4558c23b5>\u001b[0m in \u001b[0;36m<module>\u001b[0;34m()\u001b[0m\n\u001b[1;32m      1\u001b[0m \u001b[0mbusiness_url\u001b[0m \u001b[0;34m=\u001b[0m \u001b[0mdriver\u001b[0m\u001b[0;34m.\u001b[0m\u001b[0mfind_element_by_tag_name\u001b[0m\u001b[0;34m(\u001b[0m\u001b[0;34m'a'\u001b[0m\u001b[0;34m)\u001b[0m\u001b[0;34m\u001b[0m\u001b[0m\n\u001b[0;32m----> 2\u001b[0;31m \u001b[0;32mfor\u001b[0m \u001b[0murl\u001b[0m \u001b[0;32min\u001b[0m \u001b[0mbusiness_url\u001b[0m\u001b[0;34m:\u001b[0m\u001b[0;34m\u001b[0m\u001b[0m\n\u001b[0m\u001b[1;32m      3\u001b[0m     \u001b[0mmy_url\u001b[0m \u001b[0;34m=\u001b[0m \u001b[0murl\u001b[0m\u001b[0;34m.\u001b[0m\u001b[0mfind_element_by_class_name\u001b[0m\u001b[0;34m(\u001b[0m\u001b[0;34m'href'\u001b[0m\u001b[0;34m)\u001b[0m\u001b[0;34m\u001b[0m\u001b[0m\n\u001b[1;32m      4\u001b[0m     \u001b[0mprint\u001b[0m\u001b[0;34m(\u001b[0m\u001b[0mmy_url\u001b[0m\u001b[0;34m)\u001b[0m\u001b[0;34m\u001b[0m\u001b[0m\n",
      "\u001b[0;31mTypeError\u001b[0m: 'WebElement' object is not iterable"
     ]
    }
   ],
   "source": [
    "business_url = driver.find_element_by_tag_name('a')\n",
    "for url in business_url:\n",
    "    my_url = url.find_element_by_class_name('href')\n",
    "    print(my_url)"
   ]
  },
  {
   "cell_type": "code",
   "execution_count": 28,
   "metadata": {},
   "outputs": [
    {
     "data": {
      "text/plain": [
       "[{'name': 'VAPE IT STORE I'},\n",
       " {'name': 'VAPE IT STORE II'},\n",
       " {'name': 'VAPEPAD THE'},\n",
       " {'name': 'VAPE FROG'},\n",
       " {'name': 'VAPE FROG'}]"
      ]
     },
     "execution_count": 28,
     "metadata": {},
     "output_type": "execute_result"
    }
   ],
   "source": [
    "business_list1 = []\n",
    "\n",
    "for name in business_headers:\n",
    "    business_list1.append({\n",
    "            'name': name.text\n",
    "        })\n",
    "    \n",
    "business_list1"
   ]
  },
  {
   "cell_type": "markdown",
   "metadata": {},
   "source": [
    "### Save these into `vape-results.csv`"
   ]
  },
  {
   "cell_type": "code",
   "execution_count": null,
   "metadata": {
    "collapsed": true
   },
   "outputs": [],
   "source": [
    "import pandas as pd\n",
    "df = pd.DataFrame(business_list1)\n",
    "df.head()"
   ]
  },
  {
   "cell_type": "code",
   "execution_count": null,
   "metadata": {
    "collapsed": true
   },
   "outputs": [],
   "source": [
    "df.to_csv('vape-results.csv', index=False)"
   ]
  },
  {
   "cell_type": "markdown",
   "metadata": {},
   "source": [
    "### Open `vape-results.csv` to make sure there aren't any extra weird columns"
   ]
  },
  {
   "cell_type": "code",
   "execution_count": null,
   "metadata": {
    "collapsed": true
   },
   "outputs": [],
   "source": [
    "pd.read_csv('vape-results.csv')"
   ]
  },
  {
   "cell_type": "markdown",
   "metadata": {},
   "source": [
    "## Use Selenium to scrape ALL pages of results, save the results into `vape-results-all.csv`."
   ]
  },
  {
   "cell_type": "code",
   "execution_count": null,
   "metadata": {
    "collapsed": true
   },
   "outputs": [],
   "source": [
    "business_list = []\n",
    "\n",
    "while True:\n",
    "    business_headers = driver.find_elements_by_class_name('searchlistitem')\n",
    "\n",
    "    for name in business_headers:\n",
    "        business_list.append({\n",
    "            'name': name.text,\n",
    "            \n",
    "        })\n",
    "    if len(driver.find_elements_by_xpath('/html/body/table[2]/tbody/tr[4]/td[2]/table[2]/tbody/tr/td[3]/a')) > 0:\n",
    "        time.sleep(1)\n",
    "        driver.find_element_by_xpath('/html/body/table[2]/tbody/tr[4]/td[2]/table[2]/tbody/tr/td[3]/a').click()\n",
    "    else:\n",
    "        break\n",
    "\n",
    "business_list"
   ]
  },
  {
   "cell_type": "code",
   "execution_count": null,
   "metadata": {
    "collapsed": true
   },
   "outputs": [],
   "source": [
    "len(business_list)"
   ]
  },
  {
   "cell_type": "code",
   "execution_count": null,
   "metadata": {
    "collapsed": true
   },
   "outputs": [],
   "source": [
    "df2 = pd.DataFrame(business_list)\n",
    "df2.head()"
   ]
  },
  {
   "cell_type": "code",
   "execution_count": null,
   "metadata": {
    "collapsed": true
   },
   "outputs": [],
   "source": [
    "df2.to_csv('vape-results-all.csv', index=False)"
   ]
  },
  {
   "cell_type": "code",
   "execution_count": null,
   "metadata": {
    "collapsed": true
   },
   "outputs": [],
   "source": [
    "pd.read_csv('vape-results-all.csv')"
   ]
  },
  {
   "cell_type": "markdown",
   "metadata": {},
   "source": [
    "## Also CLICK FOR DETAIL"
   ]
  },
  {
   "cell_type": "code",
   "execution_count": null,
   "metadata": {
    "collapsed": true
   },
   "outputs": [],
   "source": [
    "business_list = []\n",
    "\n",
    "while True:\n",
    "    business_headers = driver.find_elements_by_class_name('searchlistitem')\n",
    "\n",
    "    for name in business_headers:\n",
    "        business_list.append({\n",
    "            'name': name.text\n",
    "        })\n",
    "    if len(driver.find_elements_by_xpath('/html/body/table[2]/tbody/tr[4]/td[2]/table[2]/tbody/tr/td[3]/a')) > 0:\n",
    "        time.sleep(1)\n",
    "        driver.find_element_by_xpath('/html/body/table[2]/tbody/tr[4]/td[2]/table[2]/tbody/tr/td[3]/a').click()\n",
    "    else:\n",
    "        break\n",
    "\n",
    "business_list"
   ]
  },
  {
   "cell_type": "code",
   "execution_count": null,
   "metadata": {
    "collapsed": true
   },
   "outputs": [],
   "source": []
  },
  {
   "cell_type": "code",
   "execution_count": null,
   "metadata": {
    "collapsed": true
   },
   "outputs": [],
   "source": []
  },
  {
   "cell_type": "code",
   "execution_count": null,
   "metadata": {
    "collapsed": true
   },
   "outputs": [],
   "source": [
    "from bs4 import BeautifulSoup"
   ]
  },
  {
   "cell_type": "code",
   "execution_count": null,
   "metadata": {
    "collapsed": true
   },
   "outputs": [],
   "source": [
    "doc = BeautifulSoup(driver.page_source, 'html.parser')\n",
    "business_links = doc.find('a')['href']\n",
    "business_links"
   ]
  },
  {
   "cell_type": "code",
   "execution_count": null,
   "metadata": {
    "collapsed": true
   },
   "outputs": [],
   "source": [
    "doc = BeautifulSoup(driver.page_source, 'html.parser')\n",
    "business_headers = doc.find_all('tr',class_='searchfieldtitle')\n",
    "len(business_headers) "
   ]
  },
  {
   "cell_type": "code",
   "execution_count": null,
   "metadata": {
    "collapsed": true
   },
   "outputs": [],
   "source": [
    "# You'll probably need to find specific tds inside\n",
    "# of the rows instead of looking at the whole thing.\n",
    "for link in business_links:\n",
    "    rows = header.find_next_siblings('tr')\n",
    "    if header:\n",
    "    print(\"HEADER is\", header.find_all('a')['href'].strip())\n",
    "    print(\"ROW 0 IS\", rows[0].text.strip())\n",
    "    print(\"ROW 1 IS\", rows[1].text.strip())\n",
    "    print(\"ROW 2 IS\", rows[2].text.strip())\n",
    "    print(\"ROW 3 IS\", rows[3].text.strip())\n",
    "    print(\"----\")"
   ]
  },
  {
   "cell_type": "code",
   "execution_count": null,
   "metadata": {
    "collapsed": true
   },
   "outputs": [],
   "source": [
    "business_links = driver.find_elements_by_xpath(''/html/body/table[2]/tbody/tr[4]/td[2]/table[1]/tbody')\n",
    "len(business_links)\n",
    "                                               \n"
   ]
  },
  {
   "cell_type": "code",
   "execution_count": null,
   "metadata": {
    "collapsed": true
   },
   "outputs": [],
   "source": [
    "for name in business_headers:\n",
    "    print(name.text.strip())"
   ]
  },
  {
   "cell_type": "code",
   "execution_count": null,
   "metadata": {
    "collapsed": true
   },
   "outputs": [],
   "source": []
  }
 ],
 "metadata": {
  "kernelspec": {
   "display_name": "Python 3",
   "language": "python",
   "name": "python3"
  },
  "language_info": {
   "codemirror_mode": {
    "name": "ipython",
    "version": 3
   },
   "file_extension": ".py",
   "mimetype": "text/x-python",
   "name": "python",
   "nbconvert_exporter": "python",
   "pygments_lexer": "ipython3",
   "version": "3.6.1"
  }
 },
 "nbformat": 4,
 "nbformat_minor": 2
}
