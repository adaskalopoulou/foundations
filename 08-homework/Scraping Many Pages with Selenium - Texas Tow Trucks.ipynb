{
 "cells": [
  {
   "cell_type": "markdown",
   "metadata": {},
   "source": [
    "# Texas Tow Trucks (`.apply` and Selenium)\n",
    "\n",
    "We're going to scrape some [tow trucks in Texas](https://www.tdlr.texas.gov/tools_search/).\n",
    "\n",
    "Try searching for the TLDR Number `006179570C`."
   ]
  },
  {
   "cell_type": "markdown",
   "metadata": {},
   "source": [
    "## Preparation"
   ]
  },
  {
   "cell_type": "markdown",
   "metadata": {},
   "source": [
    "### What URL will Selenium be starting on?\n",
    "\n",
    "- Tip: The answer is *not* `https://www.tdlr.texas.gov/tools_search/`"
   ]
  },
  {
   "cell_type": "code",
   "execution_count": null,
   "metadata": {
    "collapsed": true
   },
   "outputs": [],
   "source": [
    "# This is a link for a new searc: https://www.tdlr.texas.gov/tools_search/mccs_search.asp"
   ]
  },
  {
   "cell_type": "markdown",
   "metadata": {},
   "source": [
    "### Why are you using Selenium for this?"
   ]
  },
  {
   "cell_type": "code",
   "execution_count": null,
   "metadata": {
    "collapsed": true
   },
   "outputs": [],
   "source": [
    "# to navigate the webpage using the browser"
   ]
  },
  {
   "cell_type": "markdown",
   "metadata": {},
   "source": [
    "## Scrape this page\n",
    "\n",
    "Scrape this page, displaying the\n",
    "\n",
    "- The business name\n",
    "- Phone number\n",
    "- License status\n",
    "- Physical address\n",
    "\n",
    "- *TIP: For physical address, **ask me on the board** and I'll give you a secret trick about situations like this.*"
   ]
  },
  {
   "cell_type": "code",
   "execution_count": 1,
   "metadata": {
    "collapsed": true
   },
   "outputs": [],
   "source": [
    "import selenium"
   ]
  },
  {
   "cell_type": "code",
   "execution_count": 2,
   "metadata": {
    "collapsed": true
   },
   "outputs": [],
   "source": [
    "from selenium import webdriver"
   ]
  },
  {
   "cell_type": "code",
   "execution_count": 3,
   "metadata": {
    "collapsed": true
   },
   "outputs": [],
   "source": [
    "driver = webdriver.Chrome()"
   ]
  },
  {
   "cell_type": "code",
   "execution_count": 4,
   "metadata": {
    "collapsed": true
   },
   "outputs": [],
   "source": [
    "driver.get(\"https://www.tdlr.texas.gov/tools_search/mccs_search.asp\")"
   ]
  },
  {
   "cell_type": "code",
   "execution_count": 5,
   "metadata": {
    "collapsed": true
   },
   "outputs": [],
   "source": [
    "driver.find_element_by_xpath('//*[@id=\"mcrdata\"]').send_keys(\"006179570C\")"
   ]
  },
  {
   "cell_type": "code",
   "execution_count": 6,
   "metadata": {
    "collapsed": true
   },
   "outputs": [],
   "source": [
    "driver.find_element_by_xpath('//*[@id=\"searchinfo\"]').submit()"
   ]
  },
  {
   "cell_type": "code",
   "execution_count": 19,
   "metadata": {},
   "outputs": [
    {
     "name": "stdout",
     "output_type": "stream",
     "text": [
      "Name:   B.D. SMITH TOWING\n"
     ]
    }
   ],
   "source": [
    "name = driver.find_element_by_xpath('//*[@id=\"t1\"]/tbody/tr/td/font/table[2]/tbody/tr[2]/td[1]')\n",
    "print(name.text)"
   ]
  },
  {
   "cell_type": "code",
   "execution_count": 29,
   "metadata": {},
   "outputs": [
    {
     "name": "stdout",
     "output_type": "stream",
     "text": [
      "Phone:   8173330706\n"
     ]
    }
   ],
   "source": [
    "phone = driver.find_element_by_xpath('//*[@id=\"t1\"]/tbody/tr/td/font/table[2]/tbody/tr[4]/td[1]')\n",
    "print(phone.text)"
   ]
  },
  {
   "cell_type": "code",
   "execution_count": 30,
   "metadata": {},
   "outputs": [
    {
     "name": "stdout",
     "output_type": "stream",
     "text": [
      "Active\n"
     ]
    }
   ],
   "source": [
    "status = driver.find_element_by_xpath('//*[@id=\"t1\"]/tbody/tr/td/font/table[3]/tbody/tr[1]/td[2]/font/font')\n",
    "print(status.text)"
   ]
  },
  {
   "cell_type": "code",
   "execution_count": 44,
   "metadata": {},
   "outputs": [
    {
     "name": "stdout",
     "output_type": "stream",
     "text": [
      "Carrier Type:  Tow Truck Company\n",
      "Number of Active Tow Trucks:   0\n",
      "\n",
      "Address Information\n",
      "Mailing:\n",
      "13619 BRETT JACKSON RD\n",
      "FORT WORTH, TX. 76179\n",
      "\n",
      "Physical:\n",
      "13619 BRETT JACKSON RD.\n",
      "FORT WORTH, TX. 76179\n"
     ]
    }
   ],
   "source": [
    "all_right = driver.find_element_by_xpath('//*[@id=\"t1\"]/tbody/tr/td/font/table[3]/tbody/tr[2]/td[2]')\n",
    "print(all_right.text)"
   ]
  },
  {
   "cell_type": "code",
   "execution_count": 58,
   "metadata": {},
   "outputs": [
    {
     "name": "stdout",
     "output_type": "stream",
     "text": [
      "Physical:\n"
     ]
    }
   ],
   "source": [
    "physical = driver.find_element_by_xpath('//*[@id=\"t1\"]/tbody/tr/td/font/table[3]/tbody/tr[2]/td[2]/strong[4]')\n",
    "print(physical.text)"
   ]
  },
  {
   "cell_type": "code",
   "execution_count": 59,
   "metadata": {},
   "outputs": [
    {
     "name": "stdout",
     "output_type": "stream",
     "text": [
      "Carrier Type:  Tow Truck Company\n",
      "Number of Active Tow Trucks:   0\n",
      "\n",
      "Address Information\n",
      "Mailing:\n",
      "13619 BRETT JACKSON RD\n",
      "FORT WORTH, TX. 76179\n",
      "\n",
      "Physical:\n",
      "13619 BRETT JACKSON RD.\n",
      "FORT WORTH, TX. 76179\n"
     ]
    }
   ],
   "source": [
    "all_right = driver.find_element_by_xpath('//*[@id=\"t1\"]/tbody/tr/td/font/table[3]/tbody/tr[2]/td[2]')\n",
    "print(all_right.text)"
   ]
  },
  {
   "cell_type": "code",
   "execution_count": 60,
   "metadata": {},
   "outputs": [
    {
     "name": "stdout",
     "output_type": "stream",
     "text": [
      "\n",
      "13619 BRETT JACKSON RD.\n",
      "FORT WORTH, TX. 76179\n"
     ]
    }
   ],
   "source": [
    "print(all_right.text.split(\":\")[-1])"
   ]
  },
  {
   "cell_type": "markdown",
   "metadata": {},
   "source": [
    "# Using .apply to find data about SEVERAL tow truck companies\n",
    "\n",
    "The file `trucks-subset.csv` has information about the trucks, we'll use it to find the pages to scrape.\n",
    "\n",
    "### Open up `trucks-subset.csv` and save it into a dataframe"
   ]
  },
  {
   "cell_type": "code",
   "execution_count": null,
   "metadata": {
    "collapsed": true
   },
   "outputs": [],
   "source": []
  },
  {
   "cell_type": "markdown",
   "metadata": {},
   "source": [
    "### Open up `trucks-subset.csv` in a text editor, then look at your dataframe. Is something different about them? If so, make them match.\n",
    "\n",
    "- *TIP: I can help with this.*"
   ]
  },
  {
   "cell_type": "code",
   "execution_count": null,
   "metadata": {
    "collapsed": true
   },
   "outputs": [],
   "source": []
  },
  {
   "cell_type": "markdown",
   "metadata": {},
   "source": [
    "## Use `.apply` to go through each row of the dataset, printing out information about each tow truck company.\n",
    "\n",
    "- The business name\n",
    "- Phone number\n",
    "- License status\n",
    "- Physical address\n",
    "\n",
    "Just print it out for now.\n",
    "\n",
    "- *TIP: use .apply and a function*\n",
    "- *TIP: If you need help with .apply, look at the \"Using apply in pandas\" notebook *"
   ]
  },
  {
   "cell_type": "code",
   "execution_count": null,
   "metadata": {
    "collapsed": true
   },
   "outputs": [],
   "source": []
  },
  {
   "cell_type": "markdown",
   "metadata": {},
   "source": [
    "## Scrape the following information for each row of the dataset, and save it into new columns in your dataframe.\n",
    "\n",
    "- The business name\n",
    "- Phone number\n",
    "- License status\n",
    "- Physical address\n",
    "\n",
    "It's basically what we did before, but using the function a little differently.\n",
    "\n",
    "- *TIP: Use .apply and a function*\n",
    "- *TIP: Remember to use `return`*"
   ]
  },
  {
   "cell_type": "code",
   "execution_count": null,
   "metadata": {
    "collapsed": true
   },
   "outputs": [],
   "source": []
  },
  {
   "cell_type": "markdown",
   "metadata": {},
   "source": [
    "### Save your dataframe as a CSV"
   ]
  },
  {
   "cell_type": "code",
   "execution_count": null,
   "metadata": {
    "collapsed": true
   },
   "outputs": [],
   "source": []
  },
  {
   "cell_type": "markdown",
   "metadata": {},
   "source": [
    "### Re-open your dataframe to confirm you didn't save any extra weird columns"
   ]
  },
  {
   "cell_type": "code",
   "execution_count": null,
   "metadata": {
    "collapsed": true
   },
   "outputs": [],
   "source": []
  },
  {
   "cell_type": "markdown",
   "metadata": {},
   "source": [
    "## Repeat this process for the entire `tow-trucks.csv` file"
   ]
  },
  {
   "cell_type": "code",
   "execution_count": null,
   "metadata": {
    "collapsed": true
   },
   "outputs": [],
   "source": []
  }
 ],
 "metadata": {
  "kernelspec": {
   "display_name": "Python 3",
   "language": "python",
   "name": "python3"
  },
  "language_info": {
   "codemirror_mode": {
    "name": "ipython",
    "version": 3
   },
   "file_extension": ".py",
   "mimetype": "text/x-python",
   "name": "python",
   "nbconvert_exporter": "python",
   "pygments_lexer": "ipython3",
   "version": "3.6.1"
  }
 },
 "nbformat": 4,
 "nbformat_minor": 2
}
