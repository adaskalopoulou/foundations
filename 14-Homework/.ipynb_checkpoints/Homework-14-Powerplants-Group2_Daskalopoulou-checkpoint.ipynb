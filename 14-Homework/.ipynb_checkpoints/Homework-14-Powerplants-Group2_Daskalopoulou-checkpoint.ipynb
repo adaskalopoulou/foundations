{
 "cells": [
  {
   "cell_type": "code",
   "execution_count": 1,
   "metadata": {
    "collapsed": true
   },
   "outputs": [],
   "source": [
    "import pandas as pd\n",
    "import geopandas as gpd\n",
    "from shapely.geometry import Point\n",
    "\n",
    "%matplotlib inline"
   ]
  },
  {
   "cell_type": "code",
   "execution_count": 2,
   "metadata": {},
   "outputs": [
    {
     "data": {
      "text/html": [
       "<div>\n",
       "<style>\n",
       "    .dataframe thead tr:only-child th {\n",
       "        text-align: right;\n",
       "    }\n",
       "\n",
       "    .dataframe thead th {\n",
       "        text-align: left;\n",
       "    }\n",
       "\n",
       "    .dataframe tbody tr th {\n",
       "        vertical-align: top;\n",
       "    }\n",
       "</style>\n",
       "<table border=\"1\" class=\"dataframe\">\n",
       "  <thead>\n",
       "    <tr style=\"text-align: right;\">\n",
       "      <th></th>\n",
       "      <th>AFFGEOID</th>\n",
       "      <th>ALAND</th>\n",
       "      <th>AWATER</th>\n",
       "      <th>GEOID</th>\n",
       "      <th>LSAD</th>\n",
       "      <th>NAME</th>\n",
       "      <th>STATEFP</th>\n",
       "      <th>STATENS</th>\n",
       "      <th>STUSPS</th>\n",
       "      <th>geometry</th>\n",
       "    </tr>\n",
       "  </thead>\n",
       "  <tbody>\n",
       "    <tr>\n",
       "      <th>0</th>\n",
       "      <td>0400000US01</td>\n",
       "      <td>131173688951</td>\n",
       "      <td>4593686489</td>\n",
       "      <td>01</td>\n",
       "      <td>00</td>\n",
       "      <td>Alabama</td>\n",
       "      <td>01</td>\n",
       "      <td>01779775</td>\n",
       "      <td>AL</td>\n",
       "      <td>(POLYGON ((-88.053375 30.506987, -88.051087999...</td>\n",
       "    </tr>\n",
       "    <tr>\n",
       "      <th>1</th>\n",
       "      <td>0400000US02</td>\n",
       "      <td>1477946266785</td>\n",
       "      <td>245390495931</td>\n",
       "      <td>02</td>\n",
       "      <td>00</td>\n",
       "      <td>Alaska</td>\n",
       "      <td>02</td>\n",
       "      <td>01785533</td>\n",
       "      <td>AK</td>\n",
       "      <td>(POLYGON ((-134.737262 58.261354, -134.73441 5...</td>\n",
       "    </tr>\n",
       "    <tr>\n",
       "      <th>2</th>\n",
       "      <td>0400000US04</td>\n",
       "      <td>294198560125</td>\n",
       "      <td>1027346486</td>\n",
       "      <td>04</td>\n",
       "      <td>00</td>\n",
       "      <td>Arizona</td>\n",
       "      <td>04</td>\n",
       "      <td>01779777</td>\n",
       "      <td>AZ</td>\n",
       "      <td>POLYGON ((-114.816294 32.508038, -114.814321 3...</td>\n",
       "    </tr>\n",
       "    <tr>\n",
       "      <th>3</th>\n",
       "      <td>0400000US05</td>\n",
       "      <td>134771517596</td>\n",
       "      <td>2960191698</td>\n",
       "      <td>05</td>\n",
       "      <td>00</td>\n",
       "      <td>Arkansas</td>\n",
       "      <td>05</td>\n",
       "      <td>00068085</td>\n",
       "      <td>AR</td>\n",
       "      <td>POLYGON ((-94.6178329666013 36.4994141203285, ...</td>\n",
       "    </tr>\n",
       "    <tr>\n",
       "      <th>4</th>\n",
       "      <td>0400000US06</td>\n",
       "      <td>403501101370</td>\n",
       "      <td>20466718403</td>\n",
       "      <td>06</td>\n",
       "      <td>00</td>\n",
       "      <td>California</td>\n",
       "      <td>06</td>\n",
       "      <td>01779778</td>\n",
       "      <td>CA</td>\n",
       "      <td>(POLYGON ((-118.604415 33.478552, -118.598783 ...</td>\n",
       "    </tr>\n",
       "  </tbody>\n",
       "</table>\n",
       "</div>"
      ],
      "text/plain": [
       "      AFFGEOID          ALAND        AWATER GEOID LSAD        NAME STATEFP  \\\n",
       "0  0400000US01   131173688951    4593686489    01   00     Alabama      01   \n",
       "1  0400000US02  1477946266785  245390495931    02   00      Alaska      02   \n",
       "2  0400000US04   294198560125    1027346486    04   00     Arizona      04   \n",
       "3  0400000US05   134771517596    2960191698    05   00    Arkansas      05   \n",
       "4  0400000US06   403501101370   20466718403    06   00  California      06   \n",
       "\n",
       "    STATENS STUSPS                                           geometry  \n",
       "0  01779775     AL  (POLYGON ((-88.053375 30.506987, -88.051087999...  \n",
       "1  01785533     AK  (POLYGON ((-134.737262 58.261354, -134.73441 5...  \n",
       "2  01779777     AZ  POLYGON ((-114.816294 32.508038, -114.814321 3...  \n",
       "3  00068085     AR  POLYGON ((-94.6178329666013 36.4994141203285, ...  \n",
       "4  01779778     CA  (POLYGON ((-118.604415 33.478552, -118.598783 ...  "
      ]
     },
     "execution_count": 2,
     "metadata": {},
     "output_type": "execute_result"
    }
   ],
   "source": [
    "states = gpd.read_file(\"/Users/aspasiadaskalopoulou/Desktop/found/14-classwork/14-homework-powerplants/cb_2016_us_state_500k/cb_2016_us_state_500k.shp\")\n",
    "states.head()"
   ]
  },
  {
   "cell_type": "code",
   "execution_count": 3,
   "metadata": {
    "collapsed": true
   },
   "outputs": [],
   "source": [
    "states = states[(states.STUSPS != 'AK') & (states.STUSPS != 'HI') & (states.STUSPS != 'VI') & (states.STUSPS != 'AS') & (states.STUSPS != 'PR') & (states.STUSPS != 'GU') & (states.STUSPS != 'MP')] "
   ]
  },
  {
   "cell_type": "code",
   "execution_count": 4,
   "metadata": {
    "collapsed": true
   },
   "outputs": [],
   "source": [
    "states.crs ={'init': 'epsg:5071'}"
   ]
  },
  {
   "cell_type": "code",
   "execution_count": 5,
   "metadata": {},
   "outputs": [
    {
     "data": {
      "text/plain": [
       "<matplotlib.axes._subplots.AxesSubplot at 0x1075cb940>"
      ]
     },
     "execution_count": 5,
     "metadata": {},
     "output_type": "execute_result"
    },
    {
     "data": {
      "image/png": "[encoded data removed]",
      "text/plain": [
       "<matplotlib.figure.Figure at 0x1075c3c50>"
      ]
     },
     "metadata": {},
     "output_type": "display_data"
    }
   ],
   "source": [
    "states.plot()"
   ]
  },
  {
   "cell_type": "code",
   "execution_count": 6,
   "metadata": {
    "collapsed": true
   },
   "outputs": [],
   "source": [
    "pd.set_option('display.max_columns', 999)"
   ]
  },
  {
   "cell_type": "code",
   "execution_count": 7,
   "metadata": {},
   "outputs": [
    {
     "data": {
      "text/html": [
       "<div>\n",
       "<style>\n",
       "    .dataframe thead tr:only-child th {\n",
       "        text-align: right;\n",
       "    }\n",
       "\n",
       "    .dataframe thead th {\n",
       "        text-align: left;\n",
       "    }\n",
       "\n",
       "    .dataframe tbody tr th {\n",
       "        vertical-align: top;\n",
       "    }\n",
       "</style>\n",
       "<table border=\"1\" class=\"dataframe\">\n",
       "  <thead>\n",
       "    <tr style=\"text-align: right;\">\n",
       "      <th></th>\n",
       "      <th>State Code</th>\n",
       "      <th>County Code</th>\n",
       "      <th>Site Num</th>\n",
       "      <th>Parameter Code</th>\n",
       "      <th>POC</th>\n",
       "      <th>Latitude</th>\n",
       "      <th>Longitude</th>\n",
       "      <th>Datum</th>\n",
       "      <th>Parameter Name</th>\n",
       "      <th>Sample Duration</th>\n",
       "      <th>Pollutant Standard</th>\n",
       "      <th>Metric Used</th>\n",
       "      <th>Method Name</th>\n",
       "      <th>Year</th>\n",
       "      <th>Units of Measure</th>\n",
       "      <th>Event Type</th>\n",
       "      <th>Observation Count</th>\n",
       "      <th>Observation Percent</th>\n",
       "      <th>Completeness Indicator</th>\n",
       "      <th>Valid Day Count</th>\n",
       "      <th>Required Day Count</th>\n",
       "      <th>Exceptional Data Count</th>\n",
       "      <th>Null Data Count</th>\n",
       "      <th>Primary Exceedance Count</th>\n",
       "      <th>Secondary Exceedance Count</th>\n",
       "      <th>Certification Indicator</th>\n",
       "      <th>Num Obs Below MDL</th>\n",
       "      <th>Arithmetic Mean</th>\n",
       "      <th>Arithmetic Standard Dev</th>\n",
       "      <th>1st Max Value</th>\n",
       "      <th>1st Max DateTime</th>\n",
       "      <th>2nd Max Value</th>\n",
       "      <th>2nd Max DateTime</th>\n",
       "      <th>3rd Max Value</th>\n",
       "      <th>3rd Max DateTime</th>\n",
       "      <th>4th Max Value</th>\n",
       "      <th>4th Max DateTime</th>\n",
       "      <th>1st Max Non Overlapping Value</th>\n",
       "      <th>1st NO Max DateTime</th>\n",
       "      <th>2nd Max Non Overlapping Value</th>\n",
       "      <th>2nd NO Max DateTime</th>\n",
       "      <th>99th Percentile</th>\n",
       "      <th>98th Percentile</th>\n",
       "      <th>95th Percentile</th>\n",
       "      <th>90th Percentile</th>\n",
       "      <th>75th Percentile</th>\n",
       "      <th>50th Percentile</th>\n",
       "      <th>10th Percentile</th>\n",
       "      <th>Local Site Name</th>\n",
       "      <th>Address</th>\n",
       "      <th>State Name</th>\n",
       "      <th>County Name</th>\n",
       "      <th>City Name</th>\n",
       "      <th>CBSA Name</th>\n",
       "      <th>Date of Last Change</th>\n",
       "    </tr>\n",
       "  </thead>\n",
       "  <tbody>\n",
       "    <tr>\n",
       "      <th>0</th>\n",
       "      <td>1</td>\n",
       "      <td>3</td>\n",
       "      <td>10</td>\n",
       "      <td>88101</td>\n",
       "      <td>1</td>\n",
       "      <td>30.497478</td>\n",
       "      <td>-87.880258</td>\n",
       "      <td>NAD83</td>\n",
       "      <td>PM2.5 - Local Conditions</td>\n",
       "      <td>24 HOUR</td>\n",
       "      <td>PM25 24-hour 2012</td>\n",
       "      <td>Daily Mean</td>\n",
       "      <td>R &amp; P Model 2025 PM-2.5 Sequential Air Sampler...</td>\n",
       "      <td>2017</td>\n",
       "      <td>Micrograms/cubic meter (LC)</td>\n",
       "      <td>No Events</td>\n",
       "      <td>28</td>\n",
       "      <td>23</td>\n",
       "      <td>N</td>\n",
       "      <td>28</td>\n",
       "      <td>122</td>\n",
       "      <td>0</td>\n",
       "      <td>2</td>\n",
       "      <td>0.0</td>\n",
       "      <td>0.0</td>\n",
       "      <td>Certification not required</td>\n",
       "      <td>0</td>\n",
       "      <td>6.535714</td>\n",
       "      <td>2.802012</td>\n",
       "      <td>15.4</td>\n",
       "      <td>2017-03-23 00:00</td>\n",
       "      <td>11.9</td>\n",
       "      <td>2017-03-20 00:00</td>\n",
       "      <td>10.5</td>\n",
       "      <td>2017-03-05 00:00</td>\n",
       "      <td>9.2</td>\n",
       "      <td>2017-03-11 00:00</td>\n",
       "      <td>NaN</td>\n",
       "      <td>NaN</td>\n",
       "      <td>NaN</td>\n",
       "      <td>NaN</td>\n",
       "      <td>15.4</td>\n",
       "      <td>15.4</td>\n",
       "      <td>11.9</td>\n",
       "      <td>10.5</td>\n",
       "      <td>8.0</td>\n",
       "      <td>5.7</td>\n",
       "      <td>3.8</td>\n",
       "      <td>FAIRHOPE, Alabama</td>\n",
       "      <td>FAIRHOPE HIGH SCHOOL, 1 PIRATE DRIVE, FAIRHOPE...</td>\n",
       "      <td>Alabama</td>\n",
       "      <td>Baldwin</td>\n",
       "      <td>Fairhope</td>\n",
       "      <td>Daphne-Fairhope-Foley, AL</td>\n",
       "      <td>2017-05-18</td>\n",
       "    </tr>\n",
       "  </tbody>\n",
       "</table>\n",
       "</div>"
      ],
      "text/plain": [
       "   State Code  County Code  Site Num  Parameter Code  POC   Latitude  \\\n",
       "0           1            3        10           88101    1  30.497478   \n",
       "\n",
       "   Longitude  Datum            Parameter Name Sample Duration  \\\n",
       "0 -87.880258  NAD83  PM2.5 - Local Conditions         24 HOUR   \n",
       "\n",
       "  Pollutant Standard Metric Used  \\\n",
       "0  PM25 24-hour 2012  Daily Mean   \n",
       "\n",
       "                                         Method Name  Year  \\\n",
       "0  R & P Model 2025 PM-2.5 Sequential Air Sampler...  2017   \n",
       "\n",
       "              Units of Measure Event Type  Observation Count  \\\n",
       "0  Micrograms/cubic meter (LC)  No Events                 28   \n",
       "\n",
       "   Observation Percent Completeness Indicator  Valid Day Count  \\\n",
       "0                   23                      N               28   \n",
       "\n",
       "   Required Day Count  Exceptional Data Count  Null Data Count  \\\n",
       "0                 122                       0                2   \n",
       "\n",
       "   Primary Exceedance Count  Secondary Exceedance Count  \\\n",
       "0                       0.0                         0.0   \n",
       "\n",
       "      Certification Indicator  Num Obs Below MDL  Arithmetic Mean  \\\n",
       "0  Certification not required                  0         6.535714   \n",
       "\n",
       "   Arithmetic Standard Dev  1st Max Value  1st Max DateTime  2nd Max Value  \\\n",
       "0                 2.802012           15.4  2017-03-23 00:00           11.9   \n",
       "\n",
       "   2nd Max DateTime  3rd Max Value  3rd Max DateTime  4th Max Value  \\\n",
       "0  2017-03-20 00:00           10.5  2017-03-05 00:00            9.2   \n",
       "\n",
       "   4th Max DateTime  1st Max Non Overlapping Value  1st NO Max DateTime  \\\n",
       "0  2017-03-11 00:00                            NaN                  NaN   \n",
       "\n",
       "   2nd Max Non Overlapping Value  2nd NO Max DateTime  99th Percentile  \\\n",
       "0                            NaN                  NaN             15.4   \n",
       "\n",
       "   98th Percentile  95th Percentile  90th Percentile  75th Percentile  \\\n",
       "0             15.4             11.9             10.5              8.0   \n",
       "\n",
       "   50th Percentile  10th Percentile    Local Site Name  \\\n",
       "0              5.7              3.8  FAIRHOPE, Alabama   \n",
       "\n",
       "                                             Address State Name County Name  \\\n",
       "0  FAIRHOPE HIGH SCHOOL, 1 PIRATE DRIVE, FAIRHOPE...    Alabama     Baldwin   \n",
       "\n",
       "  City Name                  CBSA Name Date of Last Change  \n",
       "0  Fairhope  Daphne-Fairhope-Foley, AL          2017-05-18  "
      ]
     },
     "execution_count": 7,
     "metadata": {},
     "output_type": "execute_result"
    }
   ],
   "source": [
    "df_pm25 = pd.read_csv(\"pm25_annual_fixed.csv\")\n",
    "df_pm25.head(1)"
   ]
  },
  {
   "cell_type": "code",
   "execution_count": 8,
   "metadata": {},
   "outputs": [
    {
     "data": {
      "text/html": [
       "<div>\n",
       "<style>\n",
       "    .dataframe thead tr:only-child th {\n",
       "        text-align: right;\n",
       "    }\n",
       "\n",
       "    .dataframe thead th {\n",
       "        text-align: left;\n",
       "    }\n",
       "\n",
       "    .dataframe tbody tr th {\n",
       "        vertical-align: top;\n",
       "    }\n",
       "</style>\n",
       "<table border=\"1\" class=\"dataframe\">\n",
       "  <thead>\n",
       "    <tr style=\"text-align: right;\">\n",
       "      <th></th>\n",
       "      <th>Rank</th>\n",
       "      <th>State</th>\n",
       "      <th>CO2</th>\n",
       "    </tr>\n",
       "  </thead>\n",
       "  <tbody>\n",
       "    <tr>\n",
       "      <th>0</th>\n",
       "      <td>1</td>\n",
       "      <td>TX</td>\n",
       "      <td>642.0</td>\n",
       "    </tr>\n",
       "  </tbody>\n",
       "</table>\n",
       "</div>"
      ],
      "text/plain": [
       "   Rank State    CO2\n",
       "0     1    TX  642.0"
      ]
     },
     "execution_count": 8,
     "metadata": {},
     "output_type": "execute_result"
    }
   ],
   "source": [
    "df_co2 = pd.read_csv(\"Total Carbon Dioxide Emissions-StateRankings.csv\")\n",
    "# Total Carbon Dioxide Emissions, million metric tons\n",
    "df_co2.head(1)"
   ]
  },
  {
   "cell_type": "code",
   "execution_count": 10,
   "metadata": {},
   "outputs": [
    {
     "data": {
      "text/html": [
       "<div>\n",
       "<style>\n",
       "    .dataframe thead tr:only-child th {\n",
       "        text-align: right;\n",
       "    }\n",
       "\n",
       "    .dataframe thead th {\n",
       "        text-align: left;\n",
       "    }\n",
       "\n",
       "    .dataframe tbody tr th {\n",
       "        vertical-align: top;\n",
       "    }\n",
       "</style>\n",
       "<table border=\"1\" class=\"dataframe\">\n",
       "  <thead>\n",
       "    <tr style=\"text-align: right;\">\n",
       "      <th></th>\n",
       "      <th>Plant_Code</th>\n",
       "      <th>Plant_Name</th>\n",
       "      <th>Utility_Na</th>\n",
       "      <th>Utility_ID</th>\n",
       "      <th>sector_nam</th>\n",
       "      <th>City</th>\n",
       "      <th>County</th>\n",
       "      <th>Zip</th>\n",
       "      <th>Street_Add</th>\n",
       "      <th>PrimSource</th>\n",
       "      <th>Total_MW</th>\n",
       "      <th>Coal_MW</th>\n",
       "      <th>NG_MW</th>\n",
       "      <th>Crude_MW</th>\n",
       "      <th>Bio_MW</th>\n",
       "      <th>Hydro_MW</th>\n",
       "      <th>HydroPS_MW</th>\n",
       "      <th>Nuclear_MW</th>\n",
       "      <th>Solar_MW</th>\n",
       "      <th>Wind_MW</th>\n",
       "      <th>Geo_MW</th>\n",
       "      <th>Other_MW</th>\n",
       "      <th>source_des</th>\n",
       "      <th>tech_desc</th>\n",
       "      <th>Source</th>\n",
       "      <th>Period</th>\n",
       "      <th>Latitude</th>\n",
       "      <th>Longitude</th>\n",
       "    </tr>\n",
       "  </thead>\n",
       "  <tbody>\n",
       "    <tr>\n",
       "      <th>0</th>\n",
       "      <td>2</td>\n",
       "      <td>Bankhead Dam</td>\n",
       "      <td>Alabama Power Co</td>\n",
       "      <td>195</td>\n",
       "      <td>Electric Utility</td>\n",
       "      <td>Northport</td>\n",
       "      <td>Tuscaloosa</td>\n",
       "      <td>35476</td>\n",
       "      <td>19001 Lock 17 Road</td>\n",
       "      <td>hydroelectric</td>\n",
       "      <td>56.0</td>\n",
       "      <td>0.0</td>\n",
       "      <td>0.0</td>\n",
       "      <td>0.0</td>\n",
       "      <td>NaN</td>\n",
       "      <td>56.0</td>\n",
       "      <td>0.0</td>\n",
       "      <td>0.0</td>\n",
       "      <td>0.0</td>\n",
       "      <td>0.0</td>\n",
       "      <td>NaN</td>\n",
       "      <td>NaN</td>\n",
       "      <td>Hydroelectric = 56 MW</td>\n",
       "      <td>Conventional Hydroelectric</td>\n",
       "      <td>EIA-860, EIA-860M and EIA-923</td>\n",
       "      <td>201607</td>\n",
       "      <td>33.458665</td>\n",
       "      <td>-87.356823</td>\n",
       "    </tr>\n",
       "  </tbody>\n",
       "</table>\n",
       "</div>"
      ],
      "text/plain": [
       "   Plant_Code    Plant_Name        Utility_Na  Utility_ID        sector_nam  \\\n",
       "0           2  Bankhead Dam  Alabama Power Co         195  Electric Utility   \n",
       "\n",
       "        City      County    Zip          Street_Add     PrimSource  Total_MW  \\\n",
       "0  Northport  Tuscaloosa  35476  19001 Lock 17 Road  hydroelectric      56.0   \n",
       "\n",
       "   Coal_MW  NG_MW  Crude_MW  Bio_MW  Hydro_MW  HydroPS_MW  Nuclear_MW  \\\n",
       "0      0.0    0.0       0.0     NaN      56.0         0.0         0.0   \n",
       "\n",
       "   Solar_MW  Wind_MW  Geo_MW  Other_MW             source_des  \\\n",
       "0       0.0      0.0     NaN       NaN  Hydroelectric = 56 MW   \n",
       "\n",
       "                    tech_desc                         Source  Period  \\\n",
       "0  Conventional Hydroelectric  EIA-860, EIA-860M and EIA-923  201607   \n",
       "\n",
       "    Latitude  Longitude  \n",
       "0  33.458665 -87.356823  "
      ]
     },
     "execution_count": 10,
     "metadata": {},
     "output_type": "execute_result"
    }
   ],
   "source": [
    "df_pp = pd.read_csv(\"powerplants.csv\")\n",
    "df_pp.head(1)"
   ]
  },
  {
   "cell_type": "code",
   "execution_count": 11,
   "metadata": {},
   "outputs": [
    {
     "data": {
      "text/html": [
       "<div>\n",
       "<style>\n",
       "    .dataframe thead tr:only-child th {\n",
       "        text-align: right;\n",
       "    }\n",
       "\n",
       "    .dataframe thead th {\n",
       "        text-align: left;\n",
       "    }\n",
       "\n",
       "    .dataframe tbody tr th {\n",
       "        vertical-align: top;\n",
       "    }\n",
       "</style>\n",
       "<table border=\"1\" class=\"dataframe\">\n",
       "  <thead>\n",
       "    <tr style=\"text-align: right;\">\n",
       "      <th></th>\n",
       "      <th>State Code</th>\n",
       "      <th>County Code</th>\n",
       "      <th>Site Num</th>\n",
       "      <th>Parameter Code</th>\n",
       "      <th>POC</th>\n",
       "      <th>Latitude</th>\n",
       "      <th>Longitude</th>\n",
       "      <th>Datum</th>\n",
       "      <th>Parameter Name</th>\n",
       "      <th>Sample Duration</th>\n",
       "      <th>Pollutant Standard</th>\n",
       "      <th>Metric Used</th>\n",
       "      <th>Method Name</th>\n",
       "      <th>Year</th>\n",
       "      <th>Units of Measure</th>\n",
       "      <th>Event Type</th>\n",
       "      <th>Observation Count</th>\n",
       "      <th>Observation Percent</th>\n",
       "      <th>Completeness Indicator</th>\n",
       "      <th>Valid Day Count</th>\n",
       "      <th>Required Day Count</th>\n",
       "      <th>Exceptional Data Count</th>\n",
       "      <th>Null Data Count</th>\n",
       "      <th>Primary Exceedance Count</th>\n",
       "      <th>Secondary Exceedance Count</th>\n",
       "      <th>Certification Indicator</th>\n",
       "      <th>Num Obs Below MDL</th>\n",
       "      <th>Arithmetic Mean</th>\n",
       "      <th>Arithmetic Standard Dev</th>\n",
       "      <th>1st Max Value</th>\n",
       "      <th>1st Max DateTime</th>\n",
       "      <th>2nd Max Value</th>\n",
       "      <th>2nd Max DateTime</th>\n",
       "      <th>3rd Max Value</th>\n",
       "      <th>3rd Max DateTime</th>\n",
       "      <th>4th Max Value</th>\n",
       "      <th>4th Max DateTime</th>\n",
       "      <th>1st Max Non Overlapping Value</th>\n",
       "      <th>1st NO Max DateTime</th>\n",
       "      <th>2nd Max Non Overlapping Value</th>\n",
       "      <th>2nd NO Max DateTime</th>\n",
       "      <th>99th Percentile</th>\n",
       "      <th>98th Percentile</th>\n",
       "      <th>95th Percentile</th>\n",
       "      <th>90th Percentile</th>\n",
       "      <th>75th Percentile</th>\n",
       "      <th>50th Percentile</th>\n",
       "      <th>10th Percentile</th>\n",
       "      <th>Local Site Name</th>\n",
       "      <th>Address</th>\n",
       "      <th>State Name</th>\n",
       "      <th>County Name</th>\n",
       "      <th>City Name</th>\n",
       "      <th>CBSA Name</th>\n",
       "      <th>Date of Last Change</th>\n",
       "    </tr>\n",
       "  </thead>\n",
       "  <tbody>\n",
       "    <tr>\n",
       "      <th>0</th>\n",
       "      <td>1</td>\n",
       "      <td>3</td>\n",
       "      <td>10</td>\n",
       "      <td>44201</td>\n",
       "      <td>1</td>\n",
       "      <td>30.497478</td>\n",
       "      <td>-87.880258</td>\n",
       "      <td>NAD83</td>\n",
       "      <td>Ozone</td>\n",
       "      <td>1 HOUR</td>\n",
       "      <td>Ozone 1-hour Daily 2005</td>\n",
       "      <td>Daily maxima of observed hourly values (betwee...</td>\n",
       "      <td>INSTRUMENTAL - ULTRA VIOLET ABSORPTION</td>\n",
       "      <td>2017</td>\n",
       "      <td>Parts per million</td>\n",
       "      <td>No Events</td>\n",
       "      <td>666</td>\n",
       "      <td>12</td>\n",
       "      <td>N</td>\n",
       "      <td>29</td>\n",
       "      <td>245</td>\n",
       "      <td>0</td>\n",
       "      <td>78</td>\n",
       "      <td>0.0</td>\n",
       "      <td>0.0</td>\n",
       "      <td>Certification not required</td>\n",
       "      <td>0</td>\n",
       "      <td>0.049241</td>\n",
       "      <td>0.008327</td>\n",
       "      <td>0.06</td>\n",
       "      <td>2017-03-19 15:00</td>\n",
       "      <td>0.06</td>\n",
       "      <td>2017-03-31 16:00</td>\n",
       "      <td>0.058</td>\n",
       "      <td>2017-03-20 14:00</td>\n",
       "      <td>0.057</td>\n",
       "      <td>2017-03-04 14:00</td>\n",
       "      <td>NaN</td>\n",
       "      <td>NaN</td>\n",
       "      <td>NaN</td>\n",
       "      <td>NaN</td>\n",
       "      <td>0.06</td>\n",
       "      <td>0.06</td>\n",
       "      <td>0.06</td>\n",
       "      <td>0.058</td>\n",
       "      <td>0.056</td>\n",
       "      <td>0.051</td>\n",
       "      <td>0.035</td>\n",
       "      <td>FAIRHOPE, Alabama</td>\n",
       "      <td>FAIRHOPE HIGH SCHOOL, 1 PIRATE DRIVE, FAIRHOPE...</td>\n",
       "      <td>Alabama</td>\n",
       "      <td>Baldwin</td>\n",
       "      <td>Fairhope</td>\n",
       "      <td>Daphne-Fairhope-Foley, AL</td>\n",
       "      <td>2017-05-18</td>\n",
       "    </tr>\n",
       "  </tbody>\n",
       "</table>\n",
       "</div>"
      ],
      "text/plain": [
       "   State Code  County Code  Site Num  Parameter Code  POC   Latitude  \\\n",
       "0           1            3        10           44201    1  30.497478   \n",
       "\n",
       "   Longitude  Datum Parameter Name Sample Duration       Pollutant Standard  \\\n",
       "0 -87.880258  NAD83          Ozone          1 HOUR  Ozone 1-hour Daily 2005   \n",
       "\n",
       "                                         Metric Used  \\\n",
       "0  Daily maxima of observed hourly values (betwee...   \n",
       "\n",
       "                              Method Name  Year   Units of Measure Event Type  \\\n",
       "0  INSTRUMENTAL - ULTRA VIOLET ABSORPTION  2017  Parts per million  No Events   \n",
       "\n",
       "   Observation Count  Observation Percent Completeness Indicator  \\\n",
       "0                666                   12                      N   \n",
       "\n",
       "   Valid Day Count  Required Day Count  Exceptional Data Count  \\\n",
       "0               29                 245                       0   \n",
       "\n",
       "   Null Data Count  Primary Exceedance Count  Secondary Exceedance Count  \\\n",
       "0               78                       0.0                         0.0   \n",
       "\n",
       "      Certification Indicator  Num Obs Below MDL  Arithmetic Mean  \\\n",
       "0  Certification not required                  0         0.049241   \n",
       "\n",
       "   Arithmetic Standard Dev  1st Max Value  1st Max DateTime  2nd Max Value  \\\n",
       "0                 0.008327           0.06  2017-03-19 15:00           0.06   \n",
       "\n",
       "   2nd Max DateTime  3rd Max Value  3rd Max DateTime  4th Max Value  \\\n",
       "0  2017-03-31 16:00          0.058  2017-03-20 14:00          0.057   \n",
       "\n",
       "   4th Max DateTime  1st Max Non Overlapping Value 1st NO Max DateTime  \\\n",
       "0  2017-03-04 14:00                            NaN                 NaN   \n",
       "\n",
       "   2nd Max Non Overlapping Value 2nd NO Max DateTime  99th Percentile  \\\n",
       "0                            NaN                 NaN             0.06   \n",
       "\n",
       "   98th Percentile  95th Percentile  90th Percentile  75th Percentile  \\\n",
       "0             0.06             0.06            0.058            0.056   \n",
       "\n",
       "   50th Percentile  10th Percentile    Local Site Name  \\\n",
       "0            0.051            0.035  FAIRHOPE, Alabama   \n",
       "\n",
       "                                             Address State Name County Name  \\\n",
       "0  FAIRHOPE HIGH SCHOOL, 1 PIRATE DRIVE, FAIRHOPE...    Alabama     Baldwin   \n",
       "\n",
       "  City Name                  CBSA Name Date of Last Change  \n",
       "0  Fairhope  Daphne-Fairhope-Foley, AL          2017-05-18  "
      ]
     },
     "execution_count": 11,
     "metadata": {},
     "output_type": "execute_result"
    }
   ],
   "source": [
    "df_stations = pd.read_csv(\"annual_conc_by_monitor_2017.csv\")\n",
    "df_stations.head(1)"
   ]
  },
  {
   "cell_type": "markdown",
   "metadata": {},
   "source": [
    "## Which power plants are in New York?"
   ]
  },
  {
   "cell_type": "code",
   "execution_count": null,
   "metadata": {
    "collapsed": true
   },
   "outputs": [],
   "source": []
  },
  {
   "cell_type": "code",
   "execution_count": null,
   "metadata": {
    "collapsed": true
   },
   "outputs": [],
   "source": []
  },
  {
   "cell_type": "markdown",
   "metadata": {},
   "source": [
    "## Which state produces the most energy from coal?"
   ]
  },
  {
   "cell_type": "code",
   "execution_count": null,
   "metadata": {
    "collapsed": true
   },
   "outputs": [],
   "source": []
  },
  {
   "cell_type": "code",
   "execution_count": null,
   "metadata": {
    "collapsed": true
   },
   "outputs": [],
   "source": []
  },
  {
   "cell_type": "markdown",
   "metadata": {},
   "source": [
    "## Map states with nuclear power plants in red, and states without in grey. Do the same thing for solar."
   ]
  },
  {
   "cell_type": "code",
   "execution_count": null,
   "metadata": {
    "collapsed": true
   },
   "outputs": [],
   "source": []
  },
  {
   "cell_type": "code",
   "execution_count": null,
   "metadata": {
    "collapsed": true
   },
   "outputs": [],
   "source": []
  },
  {
   "cell_type": "markdown",
   "metadata": {},
   "source": [
    "## Make a map of total wind (or solar or coal) energy produced by each state, with little being a light color and high emissions being a brighter/darker color."
   ]
  },
  {
   "cell_type": "code",
   "execution_count": null,
   "metadata": {
    "collapsed": true
   },
   "outputs": [],
   "source": []
  },
  {
   "cell_type": "code",
   "execution_count": null,
   "metadata": {
    "collapsed": true
   },
   "outputs": [],
   "source": []
  },
  {
   "cell_type": "markdown",
   "metadata": {},
   "source": [
    "## Make a map of worst air quality measured in each state, with high quality being light red and low quality being dark red"
   ]
  },
  {
   "cell_type": "code",
   "execution_count": null,
   "metadata": {
    "collapsed": true
   },
   "outputs": [],
   "source": []
  },
  {
   "cell_type": "code",
   "execution_count": null,
   "metadata": {
    "collapsed": true
   },
   "outputs": [],
   "source": []
  },
  {
   "cell_type": "markdown",
   "metadata": {},
   "source": [
    "## Which states have the most renewable plants, as a % of total plants? (include hydro, wind, solar)"
   ]
  },
  {
   "cell_type": "code",
   "execution_count": null,
   "metadata": {
    "collapsed": true
   },
   "outputs": [],
   "source": []
  },
  {
   "cell_type": "code",
   "execution_count": null,
   "metadata": {
    "collapsed": true
   },
   "outputs": [],
   "source": []
  },
  {
   "cell_type": "code",
   "execution_count": null,
   "metadata": {
    "collapsed": true
   },
   "outputs": [],
   "source": []
  },
  {
   "cell_type": "code",
   "execution_count": null,
   "metadata": {
    "collapsed": true
   },
   "outputs": [],
   "source": []
  }
 ],
 "metadata": {
  "kernelspec": {
   "display_name": "Python 3",
   "language": "python",
   "name": "python3"
  },
  "language_info": {
   "codemirror_mode": {
    "name": "ipython",
    "version": 3
   },
   "file_extension": ".py",
   "mimetype": "text/x-python",
   "name": "python",
   "nbconvert_exporter": "python",
   "pygments_lexer": "ipython3",
   "version": "3.6.1"
  }
 },
 "nbformat": 4,
 "nbformat_minor": 2
}
